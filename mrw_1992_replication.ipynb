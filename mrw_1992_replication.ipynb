{
 "cells": [
  {
   "cell_type": "markdown",
   "id": "e8f2c366-cef2-40e9-bdb1-5e8ffd023505",
   "metadata": {},
   "source": [
    "# Replication Exercise: Mankiw, Romer and Weil (1992)"
   ]
  },
  {
   "cell_type": "markdown",
   "id": "5ee7cf92-1777-4f7f-9856-02833e37553b",
   "metadata": {},
   "source": [
    "The original paper is available [here](https://haushofer.ne.su.se/ec2303/Lecture%202%20-%20Capital/Non-required%20papers/Mankiw_Romer_Weil_1992.pdf).\n"
   ]
  },
  {
   "cell_type": "code",
   "execution_count": 1,
   "id": "f9fa7fc7-ee91-470d-8ebe-6da443b4fe17",
   "metadata": {},
   "outputs": [],
   "source": [
    "import numpy as np\n",
    "import pandas as pd\n",
    "import statsmodels.api as sm\n",
    "from statsmodels.iolib.summary2 import summary_col\n",
    "from statsmodels.formula.api import ols\n",
    "import matplotlib.pyplot as plt"
   ]
  },
  {
   "cell_type": "code",
   "execution_count": 2,
   "id": "e372d5c4-97f7-442e-8098-be88bb2471c2",
   "metadata": {},
   "outputs": [],
   "source": [
    "df = pd.read_excel(\"MRW1992.xlsx\")"
   ] 
  },
  {
   "cell_type": "markdown",
   "id": "b446b66f-e796-4e54-9b2c-d49b092a9462",
   "metadata": {},
   "source": [
    "The textbook Solow model is a neoclassical growth model based on an aggregate production function. The general form of the model is given by the standard Cobb-Douglas production function: \n",
    "\n",
    "$$\n",
    "Y(t) = A(t) K(t)^\\alpha L(t)^{1-\\alpha} \\tag{1}\n",
    "$$\n",
    "\n",
    "where $(0 < \\alpha < 1)$\n",
    "\n",
    "_Y_ is the aggregate output, _K_ is the aggregate capital stock, _L_ is the aggregate employment and _A_ is the level of technology. The rate of growth of labour _L_ and technology _A_ are taken as constants: _n_ and _g_ respectively. The effective labour $A(t) L(t)$ is thus given by $n+g$. The capital _K_ depreciates at the rate of $\\delta$.\n",
    "\n",
    "The fundamental differential equation for this model is obtained by exploiting the output and capital per unit of effective labour where $y (t) = \\frac{Y (t)}{A (t) L (t)} $ and $k (t) = \\frac{K (t)}{ A (t) L (t)}$: \n",
    "\n",
    "$$\n",
    "\\dot{k (t)} = s y (t) - (n + g + \\delta)) k (t)\n",
    "$$\n",
    "or\n",
    "$$\n",
    "\\dot{k (t)} = s k (t)^\\alpha - (n + g + \\delta)) k (t) \\tag{2}\n",
    "$$\n",
    "\n",
    "The capital stock per unit of effecitve labour is constant in the steady state i.e. $\\dot{k (t)} = 0$ which gives us:\n",
    "\n",
    "$$\n",
    "k^* = [\\frac{s}{n+g+\\delta}]^{\\frac{1}{1 - \\alpha}} \\tag{3}\n",
    "$$\n",
    "\n",
    "The primary objective of the Solow model is to ascertain the effect of saving and population growth on income. The steady state income per unit of effective labour can be estimated by plugging equation (3) in the original Cobb-Douglas production function and applying the logarithmic function: \n",
    "\n",
    "$$\n",
    "ln [\\frac{Y (t))}{L (t))}] = ln A (0) + gt + \\frac{\\alpha }{1 - \\alpha} ln (s) - \\frac{\\alpha }{1 - \\alpha} ln (n + g + \\delta) \\tag{4}\n",
    "$$\n",
    "\n",
    "However, the state of technology is a function of several factors which vary across countries. Thus, the the technology factor must include and country-specific shock $\\epsilon$:\n",
    "\n",
    "$$\n",
    "ln A (0) = \\alpha + \\epsilon\n",
    "$$\n",
    "\n",
    "And with that, we have derived the main basis for the model which we can estimate to test for the predictions of the Solow model:\n",
    "\n",
    "$$\n",
    "ln [\\frac{Y (t))}{L (t))}] = \\alpha + gt + \\frac{\\alpha }{1 - \\alpha} ln (s) - \\frac{\\alpha }{1 - \\alpha} ln (n + g + \\delta) + \\epsilon \\tag{5}\n",
    "$$ \n",
    "\n",
    "Note that the data used for the analyses are obtained from the Summer-Heston Penn World Tables for the years 1960-1985. "
   ]
  },
  {
   "cell_type": "code",
   "execution_count": 3,
   "id": "b9eb300e-6c89-4190-a1c9-d42a23f8f0ad",
   "metadata": {},
   "outputs": [
    {
     "name": "stdout",
     "output_type": "stream",
     "text": [
      "   const       country  N  I  O     Y60     Y85  Y_growth  pop_growth  invest  \\\n",
      "0    1.0       Algeria  1  1  0  2485.0  4371.0       4.8         2.6    24.1   \n",
      "1    1.0        Angola  1  0  0  1588.0  1171.0       0.8         2.1     5.8   \n",
      "2    1.0         Benin  1  0  0  1116.0  1071.0       2.2         2.4    10.8   \n",
      "3    1.0      Botswana  1  1  0   959.0  3671.0       8.6         3.2    28.3   \n",
      "4    1.0  Burkina Faso  1  0  0   529.0   857.0       2.9         0.9    12.7   \n",
      "\n",
      "   school   log_Y85   log_Y60     log_s   log_ngd  log_school  diff_s_ngd  \\\n",
      "0     4.5  8.382747  7.818028 -1.422958 -2.577022   -3.101093    1.154064   \n",
      "1     1.8  7.065613  7.370231 -2.847312 -2.645075   -4.017384   -0.202237   \n",
      "2     1.8  6.976348  7.017506 -2.225624 -2.603690   -4.017384    0.378066   \n",
      "3     2.9  8.208219  6.865891 -1.262308 -2.501036   -3.540459    1.238728   \n",
      "4     0.4  6.753438  6.270988 -2.063568 -2.830218   -5.521461    0.766650   \n",
      "\n",
      "   diff_school_ngd  log_diff  \n",
      "0        -0.524071  0.564719  \n",
      "1        -1.372308 -0.304617  \n",
      "2        -1.413693 -0.041158  \n",
      "3        -1.039423  1.342328  \n",
      "4        -2.691243  0.482449  \n"
     ]
    }
   ],
   "source": [
    "df['log_Y85'] = np.log(df['Y85'])\n",
    "df['log_Y60'] = np.log(df['Y60'])\n",
    "df['log_s'] = np.log(df['invest'] / 100)\n",
    "df['log_ngd'] = np.log(df['pop_growth'] / 100 + 0.05)\n",
    "df['log_school'] = np.log(df['school'] / 100)\n",
    "\n",
    "df['diff_s_ngd'] = df['log_s'] - df['log_ngd']\n",
    "df['diff_school_ngd'] = df['log_school'] - df['log_ngd']\n",
    "df['log_diff'] = df['log_Y85'] - df['log_Y60']\n",
    "\n",
    "df = sm.add_constant(df)\n",
    "\n",
    "print(df.head())"
   ]
  },
  {
   "cell_type": "code",
   "execution_count": 4,
   "id": "41b18028-b069-48b4-859c-26f620179533",
   "metadata": {},
   "outputs": [],
   "source": [
    "# Models for the analysis: Non-Oil, Intermediate and OECD\n",
    "\n",
    "df1 = df[df['N'] == 1]\n",
    "df2 = df[df['I'] == 1]\n",
    "df3 = df[df['O'] == 1]\n",
    "\n",
    "# Table 1a: Textboook Solow model: Unrestricted\n",
    "\n",
    "models1a = {}\n",
    "models1a['Model 1'] = ols('log_Y85 ~ log_s + log_ngd', data=df1).fit()\n",
    "models1a['Model 2'] = ols('log_Y85 ~ log_s + log_ngd', data=df2).fit()\n",
    "models1a['Model 3'] = ols('log_Y85 ~ log_s + log_ngd', data=df3).fit()\n",
    "\n",
    "# Table 1b: Restricted model\n",
    "\n",
    "models1b = {}\n",
    "models1b['Model 1'] = ols('log_Y85 ~ diff_s_ngd', data=df1).fit()\n",
    "models1b['Model 2'] = ols('log_Y85 ~ diff_s_ngd', data=df2).fit()\n",
    "models1b['Model 3'] = ols('log_Y85 ~ diff_s_ngd', data=df3).fit()"
   ]
  },
  {
   "cell_type": "code",
   "execution_count": 5,
   "id": "070f6453-a788-4ba4-a75e-5530a6d78eee",
   "metadata": {},
   "outputs": [
    {
     "name": "stdout",
     "output_type": "stream",
     "text": [
      "Table 1a: Textbook Solow Model\n",
      "\n",
      "=========================================================\n",
      "                         Non-Oil   Intermediate    OECD  \n",
      "---------------------------------------------------------\n",
      "Intercept               5.4299***  5.3459***    8.0206***\n",
      "                        (1.5839)   (1.5431)     (2.5179) \n",
      "log_s                   1.4240***  1.3176***    0.4999   \n",
      "                        (0.1431)   (0.1709)     (0.4339) \n",
      "log_ngd                 -1.9898*** -2.0172***   -0.7419  \n",
      "                        (0.5634)   (0.5339)     (0.8522) \n",
      "R-squared               0.6009     0.5989       0.1059   \n",
      "R-squared Adj.          0.5925     0.5878       0.0118   \n",
      "Number of observations  98         75           22       \n",
      "Residual Standard Error 0.6891     0.6106       0.3774   \n",
      "=========================================================\n",
      "Standard errors in parentheses.\n",
      "* p<.1, ** p<.05, ***p<.01\n",
      "\n",
      "================================================================================\n",
      "\n",
      "Table 1b: Restricted Model\n",
      "\n",
      "========================================================\n",
      "                         Non-Oil  Intermediate    OECD  \n",
      "--------------------------------------------------------\n",
      "Intercept               6.8724*** 7.0929***    8.6244***\n",
      "                        (0.1206)  (0.1456)     (0.5333) \n",
      "diff_s_ngd              1.4880*** 1.4310***    0.5538   \n",
      "                        (0.1247)  (0.1391)     (0.3653) \n",
      "R-squared               0.5974    0.5917       0.1031   \n",
      "R-squared Adj.          0.5932    0.5861       0.0582   \n",
      "Number of observations  98        75           22       \n",
      "Residual Standard Error 0.6885    0.6119       0.3684   \n",
      "Implied α               0.60      0.59         0.36     \n",
      "========================================================\n",
      "Standard errors in parentheses.\n",
      "* p<.1, ** p<.05, ***p<.01\n"
     ]
    }
   ],
   "source": [
    "results_table1a = summary_col(\n",
    "    [models1a['Model 1'], models1a['Model 2'], models1a['Model 3']],\n",
    "    stars=True,\n",
    "    model_names=['Non-Oil', 'Intermediate', 'OECD'],\n",
    "    info_dict={\n",
    "        'Number of observations': lambda x: f\"{int(x.nobs)}\",\n",
    "        'Residual Standard Error': lambda x: f\"{np.sqrt(x.mse_resid):.4f}\"\n",
    "    }\n",
    ")\n",
    "\n",
    "results_table1b = summary_col(\n",
    "    [models1b['Model 1'], models1b['Model 2'], models1b['Model 3']],\n",
    "    stars=True,\n",
    "    model_names=['Non-Oil', 'Intermediate', 'OECD'],\n",
    "    info_dict={\n",
    "        'Number of observations': lambda x: f\"{int(x.nobs)}\",\n",
    "        'Residual Standard Error': lambda x: f\"{np.sqrt(x.mse_resid):.4f}\",\n",
    "        'Implied α': lambda x: f\"{x.params['diff_s_ngd']/(1 + x.params['diff_s_ngd']):.2f}\"\n",
    "    }\n",
    ")\n",
    "\n",
    "# Print the results table\n",
    "print(\"Table 1a: Textbook Solow Model\")\n",
    "print(results_table1a)\n",
    "\n",
    "print(\"\\n\" + \"=\"*80 + \"\\n\")\n",
    "\n",
    "print(\"Table 1b: Restricted Model\")\n",
    "print(results_table1b)"
   ]
  },
  {
   "cell_type": "markdown",
   "id": "9eedc3dd-2ce7-4a2f-be38-c6d0943aee71",
   "metadata": {},
   "source": [
    "The effect of saving and population growth appears of to be consistent with the predictions of the Solow model for the Non-Oil and Intermediate countries. However, these effects are much stronger than the original prediction and the value of implied $\\alpha$ (share of capital in income), which is 0.59, far exceeds the actual value of $\\alpha = \\frac{1}{3}$. Maniw, Romer and Weil (1992) thus attempt to rescue the model by assuming a broad measure of capital which includes both physical and human capital. In this manner, the mismeasurement of capital may be corrected. "
   ]
  },
  {
   "cell_type": "markdown",
   "id": "9950979f-00c1-4c31-b57e-fa4aed1af894",
   "metadata": {},
   "source": [
    "### Incorporating a Human Capital Measure\n",
    "\n",
    "With the inclusion of a human capital measure, the general form of the model now looks like:\n",
    "\n",
    "$$\n",
    "Y (t) = K (t)^\\alpha H(t)^\\beta(A(t)L(t))^{1-\\alpha-\\beta} \\tag{6}\n",
    "$$\n",
    "where\n",
    "$0 < \\alpha + \\beta < 1$ and _H_ is the human capital factor.\n",
    "\n",
    "The fundamental differential equations are thus given by:\n",
    "$$\n",
    "\\dot{k (t)} = s_k y(t)^\\alpha - (n + g + \\delta)) k (t) \\tag{7}\n",
    "$$\n",
    "$$\n",
    "\\dot{h (t)} = s_h y(t)^\\alpha - (n + g + \\delta)) h (t) \\tag{8}\n",
    "$$\n",
    "The steady state equations can be derived from these equations by keeping $\\dot{k (t)}$ and $\\dot{h (t)}$ constant:\n",
    "\n",
    "$$\n",
    "k^* = \\left (\\frac{s_k^{1-\\beta} s_h^\\beta}{n + g + \\delta}  \\right )^{\\frac{1}{1 - \\alpha - \\beta}} \\tag{9}\n",
    "$$\n",
    "$$\n",
    "h^* = \\left (\\frac{s_k^\\alpha s_h^{1 - \\alpha}}{n + g + \\delta}  \\right )^{\\frac{1}{1 - \\alpha - \\beta}} \\tag{10}\n",
    "$$\n",
    "\n",
    "And finally, we can derive the main equation for estimation of the augmented Solow model:\n",
    "\n",
    "$$\n",
    "ln [\\frac{Y (t))}{L (t))}] = lnA(0) + gt - \\frac{\\alpha + \\beta }{1 - \\alpha - \\beta} ln (n+g+\\delta) + \\frac{\\alpha }{1 - \\alpha - \\beta} ln (s_k) + \\frac{\\beta }{1 - \\alpha - \\beta} ln (s_h) \\tag{11}\n",
    "$$"
   ]
  },
  {
   "cell_type": "code",
   "execution_count": 6,
   "id": "f40d6f2e-7bd0-41bb-970b-b26cb09eee3a",
   "metadata": {},
   "outputs": [],
   "source": [
    "# Table 2a: Augmented Solow Model: Unrestricted\n",
    "\n",
    "models2a = {}\n",
    "models2a['Model 1'] = ols('log_Y85 ~ log_s + log_ngd + log_school', data=df1).fit()\n",
    "models2a['Model 2'] = ols('log_Y85 ~ log_s + log_ngd + log_school', data=df2).fit()\n",
    "models2a['Model 3'] = ols('log_Y85 ~ log_s + log_ngd + log_school', data=df3).fit()\n",
    "\n",
    "# Table 2b: Restricted model\n",
    "\n",
    "models2b = {}\n",
    "models2b['Model 1'] = ols('log_Y85 ~ diff_s_ngd + diff_school_ngd', data=df1).fit()\n",
    "models2b['Model 2'] = ols('log_Y85 ~ diff_s_ngd + diff_school_ngd', data=df2).fit()\n",
    "models2b['Model 3'] = ols('log_Y85 ~ diff_s_ngd + diff_school_ngd', data=df3).fit()"
   ]
  },
  {
   "cell_type": "code",
   "execution_count": 7,
   "id": "1b348f49-9e77-4bc3-b38e-c9dbda439504",
   "metadata": {},
   "outputs": [
    {
     "name": "stdout",
     "output_type": "stream",
     "text": [
      "Table 2a: Augmented Solow Model\n",
      "\n",
      "=========================================================\n",
      "                         Non-Oil   Intermediate    OECD  \n",
      "---------------------------------------------------------\n",
      "Intercept               6.8444***  7.7913***    8.6369***\n",
      "                        (1.1774)   (1.1924)     (2.2143) \n",
      "log_s                   0.6967***  0.7004***    0.2761   \n",
      "                        (0.1328)   (0.1506)     (0.3889) \n",
      "log_ngd                 -1.7452*** -1.4998***   -1.0755  \n",
      "                        (0.4159)   (0.4032)     (0.7560) \n",
      "log_school              0.6545***  0.7305***    0.7676** \n",
      "                        (0.0727)   (0.0952)     (0.2933) \n",
      "R-squared               0.7856     0.7807       0.3524   \n",
      "R-squared Adj.          0.7788     0.7714       0.2444   \n",
      "Number of observations  98         75           22       \n",
      "Residual Standard Error 0.5077     0.4547       0.3300   \n",
      "=========================================================\n",
      "Standard errors in parentheses.\n",
      "* p<.1, ** p<.05, ***p<.01\n",
      "\n",
      "================================================================================\n",
      "\n",
      "Table 2b: Restricted Model\n",
      "\n",
      "========================================================\n",
      "                         Non-Oil  Intermediate    OECD  \n",
      "--------------------------------------------------------\n",
      "Intercept               7.8531*** 7.9662***    8.7163***\n",
      "                        (0.1400)  (0.1544)     (0.4662) \n",
      "diff_s_ngd              0.7383*** 0.7091***    0.2829   \n",
      "                        (0.1236)  (0.1377)     (0.3339) \n",
      "diff_school_ngd         0.6571*** 0.7330***    0.7686** \n",
      "                        (0.0725)  (0.0931)     (0.2843) \n",
      "R-squared               0.7839    0.7806       0.3523   \n",
      "R-squared Adj.          0.7794    0.7745       0.2841   \n",
      "Number of observations  98        75           22       \n",
      "Residual Standard Error 0.5070    0.4516       0.3212   \n",
      "Implied α               0.31      0.29         0.14     \n",
      "Implied β               0.27      0.30         0.37     \n",
      "========================================================\n",
      "Standard errors in parentheses.\n",
      "* p<.1, ** p<.05, ***p<.01\n"
     ]
    }
   ],
   "source": [
    "results_table2a = summary_col(\n",
    "    [models2a['Model 1'], models2a['Model 2'], models2a['Model 3']],\n",
    "    stars=True,\n",
    "    model_names=['Non-Oil', 'Intermediate', 'OECD'],\n",
    "    info_dict={\n",
    "        'Number of observations': lambda x: f\"{int(x.nobs)}\",\n",
    "        'Residual Standard Error': lambda x: f\"{np.sqrt(x.mse_resid):.4f}\"\n",
    "    }\n",
    ")\n",
    "\n",
    "results_table2b = summary_col(\n",
    "    [models2b['Model 1'], models2b['Model 2'], models2b['Model 3']],\n",
    "    stars=True,\n",
    "    model_names=['Non-Oil', 'Intermediate', 'OECD'],\n",
    "    info_dict={\n",
    "        'Number of observations': lambda x: f\"{int(x.nobs)}\",\n",
    "        'Residual Standard Error': lambda x: f\"{np.sqrt(x.mse_resid):.4f}\",\n",
    "        'Implied α': lambda x: f\"{x.params['diff_s_ngd'] / (1 + x.params['diff_s_ngd'] + x.params['diff_school_ngd']):.2f}\",\n",
    "        'Implied β': lambda x: f\"{x.params['diff_school_ngd'] / (1 + x.params['diff_s_ngd'] + x.params['diff_school_ngd']):.2f}\"\n",
    "    }\n",
    ")\n",
    "\n",
    "# Print the results table\n",
    "print(\"Table 2a: Augmented Solow Model\")\n",
    "print(results_table2a)\n",
    "\n",
    "print(\"\\n\" + \"=\"*80 + \"\\n\")\n",
    "\n",
    "print(\"Table 2b: Restricted Model\")\n",
    "print(results_table2b)"
   ]
  },
  {
   "cell_type": "markdown",
   "id": "41a64174-ae76-450d-9d15-13c9b48e3ae0",
   "metadata": {},
   "source": [
    "The human capital measure has a significant effect in all the three samples and it also improves the model fit. Moreover, the values of implied $\\alpha$ and $\\beta$ are much more precise in this estimation. Thus, the augmented model with human capital in a way rescues the Solow model and its predictions.\n",
    "\n",
    "### Convergence\n",
    "Next up, we have the issue of convergence itself and its speed. The convergence of a given country relates to its specific steady state; thus the basic differentiating factor between conditional and unconditional convergence is that the former takes into account the determinants of steady state such saving and population growth. The speed of convergence can be derived as follows:\n",
    "\n",
    "$$\n",
    "\\frac{d\\ ln (y(t))}{dt} = \\lambda [ln(y^*) - ln(y(t))] \\tag{12}\n",
    "$$\n",
    "where $ \\alpha = (n + g + \\delta)(1 - \\alpha - \\beta) $\n",
    "With the help of the equation (12), we can now derive an equation to study the convergence dynamics for the years 1960-1985:\n",
    "$$\n",
    "ln(y(t)) = (1 - e^{-\\lambda t}) ln(y^*) + e^{-\\lambda t} ln(y(0)) \\tag{13}\n",
    "$$\n",
    "\n",
    "$$\n",
    "ln(y(t)) - ln(y(0)) = (1 - e^{-\\lambda t}) ln(y^*) - (1-e^{-\\lambda t}) ln(y(0)) \\tag{14}\n",
    "$$\n",
    "\n",
    "$$\n",
    "ln(y(t)) - ln(y(0)) = (1 - e^{-\\lambda t})\\left ( \\frac{\\alpha}{1 - \\alpha - \\beta} \\right ) ln(s_k) - (1-e^{-\\lambda t})\\left ( \\frac{\\beta}{1 - \\alpha - \\beta} \\right ) ln(s_h) - (1 - e^{-\\lambda t})\\left ( \\frac{\\alpha + \\beta}{1 - \\alpha - \\beta} \\right ) ln(n + g + \\delta) - (1 - e^{-\\lambda t}) ln (y(0)) \\tag{15}\n",
    "$$\n",
    "\n",
    "This equation suggests that the growth in income is determined by steady state factors and the initial level of income. "
   ]
  },
  {
   "cell_type": "code",
   "execution_count": 8,
   "id": "f6be2a43-0044-468d-8933-0dc4acf431c9",
   "metadata": {},
   "outputs": [],
   "source": [
    "# Table 3: Unconditional Convergence\n",
    "\n",
    "models3 = {}\n",
    "models3['Model 1'] = ols('log_diff ~ log_Y60', data=df1).fit()\n",
    "models3['Model 2'] = ols('log_diff ~ log_Y60', data=df2).fit()\n",
    "models3['Model 3'] = ols('log_diff ~ log_Y60', data=df3).fit()"
   ]
  },
  {
   "cell_type": "code",
   "execution_count": 9,
   "id": "97f8e5a5-c373-4d4a-8b9d-0b62e45bb858",
   "metadata": {},
   "outputs": [
    {
     "name": "stdout",
     "output_type": "stream",
     "text": [
      "Table 3: Tests for Unconditional Convergence\n",
      "\n",
      "========================================================\n",
      "                        Non-Oil  Intermediate    OECD   \n",
      "--------------------------------------------------------\n",
      "Intercept               -0.2666  0.5875       3.6863*** \n",
      "                        (0.3796) (0.4329)     (0.6849)  \n",
      "log_Y60                 0.0943*  -0.0042      -0.3411***\n",
      "                        (0.0496) (0.0548)     (0.0785)  \n",
      "R-squared               0.0363   0.0001       0.4855    \n",
      "R-squared Adj.          0.0262   -0.0136      0.4597    \n",
      "Number of observations  98       75           22        \n",
      "Residual Standard Error 0.4405   0.4077       0.1830    \n",
      "Implied λ               -0.00360 0.00017      0.01669   \n",
      "========================================================\n",
      "Standard errors in parentheses.\n",
      "* p<.1, ** p<.05, ***p<.01\n"
     ]
    }
   ],
   "source": [
    "results_table3 = summary_col(\n",
    "    [models3['Model 1'], models3['Model 2'], models3['Model 3']],\n",
    "    stars=True,\n",
    "    model_names=['Non-Oil', 'Intermediate', 'OECD'],\n",
    "    info_dict={\n",
    "        'Number of observations': lambda x: f\"{int(x.nobs)}\",\n",
    "        'Residual Standard Error': lambda x: f\"{np.sqrt(x.mse_resid):.4f}\",\n",
    "        'Implied λ': lambda x: f\"{-np.log(x.params['log_Y60']+1) / (1985-1960): .5f}\"\n",
    "    }\n",
    ")\n",
    "\n",
    "print(\"Table 3: Tests for Unconditional Convergence\")\n",
    "print(results_table3)"
   ]
  },
  {
   "cell_type": "code",
   "execution_count": 10,
   "id": "d62eb96a-aa7b-4f6c-8aa3-10eafe914da7",
   "metadata": {},
   "outputs": [],
   "source": [
    "# Table 4: Conditional Convergence\n",
    "\n",
    "models4 = {}\n",
    "models4['Model 1'] = ols('log_diff ~ log_Y60 + log_s + log_ngd', data=df1).fit()\n",
    "models4['Model 2'] = ols('log_diff ~ log_Y60 + log_s + log_ngd', data=df2).fit()\n",
    "models4['Model 3'] = ols('log_diff ~ log_Y60 + log_s + log_ngd', data=df3).fit()"
   ]
  },
  {
   "cell_type": "code",
   "execution_count": 11,
   "id": "ccc12529-144e-4d75-a619-4c2f32183903",
   "metadata": {},
   "outputs": [
    {
     "name": "stdout",
     "output_type": "stream",
     "text": [
      "Table 4: Tests for Conditional Convergence\n",
      "\n",
      "==========================================================\n",
      "                         Non-Oil   Intermediate    OECD   \n",
      "----------------------------------------------------------\n",
      "Intercept               1.9194**   2.2497**     2.1404*   \n",
      "                        (0.8337)   (0.8547)     (1.1807)  \n",
      "log_Y60                 -0.1409*** -0.2278***   -0.3499***\n",
      "                        (0.0520)   (0.0573)     (0.0657)  \n",
      "log_s                   0.6472***  0.6459***    0.3901**  \n",
      "                        (0.0867)   (0.1039)     (0.1761)  \n",
      "log_ngd                 -0.3023    -0.4575      -0.7662** \n",
      "                        (0.3044)   (0.3074)     (0.3452)  \n",
      "R-squared               0.4019     0.3788       0.6767    \n",
      "R-squared Adj.          0.3828     0.3526       0.6228    \n",
      "Number of observations  98         75           22        \n",
      "Residual Standard Error 0.3507     0.3258       0.1529    \n",
      "Implied λ               0.00607    0.01034      0.01723   \n",
      "==========================================================\n",
      "Standard errors in parentheses.\n",
      "* p<.1, ** p<.05, ***p<.01\n"
     ]
    }
   ],
   "source": [
    "results_table4 = summary_col(\n",
    "    [models4['Model 1'], models4['Model 2'], models4['Model 3']],\n",
    "    stars=True,\n",
    "    model_names=['Non-Oil', 'Intermediate', 'OECD'],\n",
    "    info_dict={\n",
    "        'Number of observations': lambda x: f\"{int(x.nobs)}\",\n",
    "        'Residual Standard Error': lambda x: f\"{np.sqrt(x.mse_resid):.4f}\",\n",
    "        'Implied λ': lambda x: f\"{-np.log(x.params['log_Y60']+1) / (1985-1960): .5f}\"\n",
    "    }\n",
    ")\n",
    "\n",
    "print(\"Table 4: Tests for Conditional Convergence\")\n",
    "print(results_table4)"
   ]
  },
  {
   "cell_type": "code",
   "execution_count": 12,
   "id": "7f08fd1d-833e-4ea2-8f94-5cbe75656201",
   "metadata": {},
   "outputs": [],
   "source": [
    "# Table 5: Conditional Convergence\n",
    "\n",
    "models5 = {}\n",
    "models5['Model 1'] = ols('log_diff ~ log_Y60 + log_s + log_ngd + log_school', data=df1).fit()\n",
    "models5['Model 2'] = ols('log_diff ~ log_Y60 + log_s + log_ngd + log_school', data=df2).fit()\n",
    "models5['Model 3'] = ols('log_diff ~ log_Y60 + log_s + log_ngd + log_school', data=df3).fit()"
   ]
  },
  {
   "cell_type": "code",
   "execution_count": 13,
   "id": "5e46ed62-ce34-41a9-99c8-60188d0a05ad",
   "metadata": {},
   "outputs": [
    {
     "name": "stdout",
     "output_type": "stream",
     "text": [
      "Table 5: Tests for Conditional Convergence\n",
      "\n",
      "==========================================================\n",
      "                         Non-Oil   Intermediate    OECD   \n",
      "----------------------------------------------------------\n",
      "Intercept               3.0215***  3.7090***    2.7554**  \n",
      "                        (0.8275)   (0.9088)     (1.2010)  \n",
      "log_Y60                 -0.2884*** -0.3660***   -0.3977***\n",
      "                        (0.0616)   (0.0674)     (0.0702)  \n",
      "log_s                   0.5237***  0.5376***    0.3318*   \n",
      "                        (0.0869)   (0.1023)     (0.1734)  \n",
      "log_ngd                 -0.5057*   -0.5450*     -0.8634** \n",
      "                        (0.2886)   (0.2884)     (0.3377)  \n",
      "log_school              0.2311***  0.2705***    0.2277    \n",
      "                        (0.0595)   (0.0804)     (0.1450)  \n",
      "R-squared               0.4855     0.4653       0.7176    \n",
      "R-squared Adj.          0.4633     0.4348       0.6512    \n",
      "Number of observations  98         75           22        \n",
      "Residual Standard Error 0.3270     0.3044       0.1470    \n",
      "Implied λ               0.01361    0.01823      0.02028   \n",
      "==========================================================\n",
      "Standard errors in parentheses.\n",
      "* p<.1, ** p<.05, ***p<.01\n"
     ]
    }
   ],
   "source": [
    "results_table5 = summary_col(\n",
    "    [models5['Model 1'], models5['Model 2'], models5['Model 3']],\n",
    "    stars=True,\n",
    "    model_names=['Non-Oil', 'Intermediate', 'OECD'],\n",
    "    info_dict={\n",
    "        'Number of observations': lambda x: f\"{int(x.nobs)}\",\n",
    "        'Residual Standard Error': lambda x: f\"{np.sqrt(x.mse_resid):.4f}\",\n",
    "        'Implied λ': lambda x: f\"{-np.log(x.params['log_Y60']+1) / (1985-1960): .5f}\"\n",
    "    }\n",
    ")\n",
    "\n",
    "print(\"Table 5: Tests for Conditional Convergence\")\n",
    "print(results_table5)"
   ]
  },
  {
   "cell_type": "code",
   "execution_count": 14,
   "id": "5d7216d3-6976-4ce7-836e-1f0bb926f813",
   "metadata": {},
   "outputs": [],
   "source": [
    "# Table 6: Conditional Convergence (restricted)\n",
    "\n",
    "models6 = {}\n",
    "models6['Model 1'] = ols('log_diff ~ log_Y60 + diff_s_ngd + diff_school_ngd', data=df1).fit()\n",
    "models6['Model 2'] = ols('log_diff ~ log_Y60 + diff_s_ngd + diff_school_ngd', data=df2).fit()\n",
    "models6['Model 3'] = ols('log_diff ~ log_Y60 + diff_s_ngd + diff_school_ngd', data=df3).fit()"
   ]
  },
  {
   "cell_type": "code",
   "execution_count": 15,
   "id": "cc2ca3a9-a455-4cff-af6e-623b1ed3e188",
   "metadata": {},
   "outputs": [
    {
     "name": "stdout",
     "output_type": "stream",
     "text": [
      "Table 6: Tests for Conditional Convergence, Restricted Regression\n",
      "\n",
      "==========================================================\n",
      "                         Non-Oil   Intermediate    OECD   \n",
      "----------------------------------------------------------\n",
      "Intercept               2.4569***  3.0903***    3.5537*** \n",
      "                        (0.4730)   (0.5297)     (0.6336)  \n",
      "log_Y60                 -0.2979*** -0.3724***   -0.4022***\n",
      "                        (0.0604)   (0.0669)     (0.0692)  \n",
      "diff_s_ngd              0.5007***  0.5063***    0.3953**  \n",
      "                        (0.0822)   (0.0951)     (0.1517)  \n",
      "diff_school_ngd         0.2352***  0.2657***    0.2412    \n",
      "                        (0.0592)   (0.0800)     (0.1424)  \n",
      "R-squared               0.4816     0.4599       0.7074    \n",
      "R-squared Adj.          0.4651     0.4371       0.6586    \n",
      "Number of observations  98         75           22        \n",
      "Residual Standard Error 0.3265     0.3038       0.1454    \n",
      "Implied λ               0.01415    0.01863      0.02058   \n",
      "Implied α               0.48       0.44         0.38      \n",
      "Implied β               0.23       0.23         0.23      \n",
      "==========================================================\n",
      "Standard errors in parentheses.\n",
      "* p<.1, ** p<.05, ***p<.01\n"
     ]
    }
   ],
   "source": [
    "results_table6 = summary_col(\n",
    "    [models6['Model 1'], models6['Model 2'], models6['Model 3']],\n",
    "    stars=True,\n",
    "    model_names=['Non-Oil', 'Intermediate', 'OECD'],\n",
    "    info_dict={\n",
    "        'Number of observations': lambda x: f\"{int(x.nobs)}\",\n",
    "        'Residual Standard Error': lambda x: f\"{np.sqrt(x.mse_resid):.4f}\",\n",
    "        'Implied λ': lambda x: f\"{-np.log(x.params['log_Y60']+1) / (1985-1960): .5f}\",\n",
    "        'Implied α': lambda x: f\"{x.params['diff_s_ngd'] / (-x.params['log_Y60'] + x.params['diff_s_ngd'] + x.params['diff_school_ngd']):.2f}\",\n",
    "        'Implied β': lambda x: f\"{x.params['diff_school_ngd'] / (-x.params['log_Y60'] + x.params['diff_s_ngd'] + x.params['diff_school_ngd']):.2f}\"\n",
    "    }\n",
    ")\n",
    "\n",
    "print(\"Table 6: Tests for Conditional Convergence, Restricted Regression\")\n",
    "print(results_table6)"
   ]
  },
  {
   "cell_type": "markdown",
   "id": "7eb92722-08a1-439f-b61c-aefba68dcea8",
   "metadata": {},
   "source": [
    "It is clear from table 3 that there is strong evidence of convergence among OECD countries but not for non-oil and intermdiate samples. However, once the measures of population growth and saving are included in the model, the non-oil and intermediate samples also show strong evidence of convergence, as can be observed in table 4. In table 5, the inclusion of the human capital measure further improves the efficacy of the model. As in tables 3-5, the table 6 presents results from the estimation of equation (15) but with a different specification: along with the initial level of income, the difference of saving and population growth and the difference of human capital and population growth taken as exogenous variables. The results hold for this specification. "
   ]
  },
  {
   "cell_type": "code",
   "execution_count": 17,
   "id": "81f78d25-18ef-4233-adaa-ffb87c7030c2",
   "metadata": {},
   "outputs": [
    {
     "data": {
      "image/png": "iVBORw0KGgoAAAANSUhEUgAAAxUAAAMWCAYAAACHiaukAAAAOXRFWHRTb2Z0d2FyZQBNYXRwbG90bGliIHZlcnNpb24zLjguMCwgaHR0cHM6Ly9tYXRwbG90bGliLm9yZy81sbWrAAAACXBIWXMAAA9hAAAPYQGoP6dpAAEAAElEQVR4nOzdeVhU1f8H8PeAbLKMArKoCLhLaOYWqOUG5oZbmxmlmfbV3DXXvqZmhXvaoqWZZuaSXzUtc8clFZdcwy03XCEVFRQVYeb8/uA3EwMzzAwzd9b363l8Hrn3zj1n7tyB87nnc86RCSEEiIiIiIiISsnF2hUgIiIiIiL7xqCCiIiIiIhMwqCCiIiIiIhMwqCCiIiIiIhMwqCCiIiIiIhMwqCCiIiIiIhMwqCCiIiIiIhMwqCCiIiIiIhMwqCCiIiIiIhMwqCCiMgGfPHFF5DJZIiOjjb5XEuWLIFMJsOff/6pdX+nTp0QERFhcjm2ICIiAr1791b/vGvXLshkMuzatUu97ffff8ekSZMMer01aas7EZG9YFBBRGQDvv/+ewDAqVOncPDgQSvXxn41aNAAKSkpaNCggXrb77//jsmTJ2s9ft26dZgwYYKlqkdE5LAYVBARWdmff/6JEydOoGPHjgCARYsWWblG9svPzw8xMTHw8/Mz6PjnnnsO1apVk7hWRESOj0EFEZGVqYKIqVOnomnTpli5ciUePXpksfLT0tIgk8kwc+ZMzJ49G5GRkfDx8UFsbCwOHDhQ7PiDBw8iISEBAQEB8PT0RLVq1TBs2DCNY/bu3Ys2bdrA19cXZcuWRdOmTbFx40aNY1RpWjt37sSAAQMQGBiIgIAAdO/eHTdv3tQ4Ni8vD6NHj0ZISAjKli2L5s2b49ChQ8XqVjSFqHfv3vj6668BADKZTP0vLS0NgPb0p6tXryIxMRFBQUHw8PBAnTp1MGvWLCiVylJdsz///BM9evRAREQEvLy8EBERgTfeeANXrlzR+ZkQEdkbBhVERFb0+PFjrFixAo0bN0Z0dDT69OmDBw8eYPXq1cWOjYiIkHQsxNdff41t27Zhzpw5+Omnn5CTk4MOHTogKytLfcyWLVvwwgsv4OrVq5g9ezY2bdqE//73v/jnn3/Ux+zevRutW7dGVlYWFi1ahBUrVsDX1xcJCQlYtWpVsXL79u0LNzc3LF++HNOnT8euXbuQmJiocUy/fv0wc+ZMvP3221i/fj1efvlldO/eHffu3SvxPU2YMAGvvPIKACAlJUX9LzQ0VOvxt2/fRtOmTbF161ZMmTIFGzZsQFxcHD744AMMGjSoVNcsLS0NtWrVwpw5c7BlyxZMmzYN6enpaNy4Me7cuVNi/YmI7IYgIiKrWbp0qQAgvvnmGyGEEA8ePBA+Pj7ihRdeKHZstWrVRLVq1fSec/HixQKAOHz4sNb9HTt2FOHh4eqfL1++LACIunXrivz8fPX2Q4cOCQBixYoVxerw+PFjneXHxMSIoKAg8eDBA/W2/Px8ER0dLSpXriyUSqVGPd9//32N10+fPl0AEOnp6UIIIc6cOSMAiOHDh2sc99NPPwkAolevXuptO3fuFADEzp071dsGDhwodP25Cw8P13j92LFjBQBx8OBBjeMGDBggZDKZOHfunBDCuGtWVH5+vnj48KHw9vYWc+fOLbHuRET2gj0VRERWtGjRInh5eaFHjx4AAB8fH7z66qv4448/cP78eY1jL1y4gAsXLkhWl44dO8LV1VX9c7169QBAnabz999/4+LFi3j33Xfh6emp9Rw5OTk4ePAgXnnlFfj4+Ki3u7q64q233sL169dx7tw5jdd07txZ4+ei5e7cuRMA8Oabb2oc99prr6FMmTJGv8+SJCcnIyoqCk2aNNHY3rt3bwghkJycrLFd3zUDgIcPH2LMmDGoXr06ypQpgzJlysDHxwc5OTk4c+aMWetPRGQtDCqIiKzkwoUL2LNnDzp27AghBO7fv4/79++r03VUM0IZS9XQVigUWvfn5+fDzc2t2PaAgACNnz08PAAUpGgBBalBAFC5cmWdZd+7dw9CCK3pRRUrVgQAZGZmGlWu6viQkBCN48qUKVPstabKzMw0a90BoGfPnvjqq6/Qt29fbNmyBYcOHcLhw4dRoUIFjeOIiOyZeR/xEBGRwb7//nsIIfC///0P//vf/4rt/+GHH/DJJ59oPAk3RHBwMADgxo0bWvffuHFDfYwxKlSoAAC4fv26zmPKly8PFxcXpKenF9unGnwdGBhoVLmqhntGRgYqVaqk3p6fn1+skW+qgIAAs9Y9KysLv/32GyZOnIixY8eqt+fm5uLu3bumVZaIyIawp4KIyAoUCgV++OEHVKtWDTt37iz2b+TIkUhPT8emTZuMPndMTAx8fHy0Doo+ffo0Tp06hbi4OKPPW7NmTVSrVg3ff/89cnNztR7j7e2N559/HmvXrtV4Cq9UKrFs2TJUrlwZNWvWNKrcli1bAgB++uknje0///wz8vPz9b5eW++BLm3atMHp06dx9OhRje1Lly6FTCZDq1atDKx1AZlMBiGEug4q3333nc6eJCIie8SeCiIiK9i0aRNu3ryJadOmqRvNhUVHR+Orr77CokWL0KlTJwBA9erVAUDvuApfX19MnjwZI0eOhFKpxOuvv47y5cvjr7/+wmeffYbw8HAMGTKkVPX++uuvkZCQgJiYGAwfPhxVqlTB1atXsWXLFnWjPykpCfHx8WjVqhU++OADuLu7Y968eUhNTcWKFSsgk8mMKrNOnTpITEzEnDlz4Obmhri4OKSmpmLmzJkGrUdRt25dAMC0adPQvn17uLq6ol69enB3dy927PDhw7F06VJ07NgRH3/8McLDw7Fx40bMmzcPAwYMMDog8vPzw4svvogZM2YgMDAQERER2L17NxYtWoRy5coZdS4iIlvGngoiIitYtGgR3N3d8c4772jdHxgYiG7duuG3335TT9ean59v0JN5ABgxYgR+/vlnZGRkoE+fPmjXrh0+//xzvPLKKzhw4AD8/f1LVe+XXnoJe/bsQWhoKIYMGYJ27drh448/1kinatGiBZKTk+Ht7Y3evXujR48eyMrKwoYNG/D666+XqtxFixZhxIgRWLJkCTp37oyff/4Za9asQfny5fW+tmfPnujbty/mzZuH2NhYNG7cuNg6GCoVKlTA/v370bp1a4wbNw6dOnXCli1bMH36dHz55Zelqvvy5cvRqlUrjB49Gt27d8eff/6Jbdu2QS6Xl+p8RES2SCaEENauBBERERER2S/2VBARERERkUkYVBARERERkUkYVBARERERkUkYVBARERERkUkYVBARERERkUkYVBARERERkUmcavE7pVKJmzdvwtfX1+jFl4iIiIiInI0QAg8ePEDFihXh4qK7P8KpgoqbN28iLCzM2tUgIiIiIrIr165dQ+XKlXXud6qgwtfXF0DBRfHz87NybYiIiIiIbFt2djbCwsLU7WhdnCqoUKU8+fn5MaggIiIiIjKQvqEDHKhNREREREQmcaqeCiIiMpxCKXDo8l3cevAEQb6eaBLpD1cXTnJBRETFMaggIqJiNqemY/Kvp5Ge9US9LVTuiYkJUWgXHWrFmhERkS1i+hMREWnYnJqOAcuOagQUAJCR9QQDlh3F5tR0K9WMiIhsFYMKIiJSUygFJv96GkLLPtW2yb+ehkKp7QgiInJWDCqIiEjt0OW7xXooChMA0rOe4NDlu5arFBER2TyTgop79+7h8OHDuH79urnqQ0REVnTrge6AojTHERGRczA4qBg/fjwePXoEAMjLy8N7772HwMBAPP/88wgPD0f37t3x5An/yBAR2bMgX0+zHkdERM7B4KBi2rRpePjwIQBgxowZ+OWXX7B69Wpcv34d69evx6FDhzBjxgzJKkpERNJrEumPULkndE0cK0PBLFBNIv0tWS0iIrJxBgcVQvw7KG/16tWYOnUqunfvjooVK6JTp06YPXs2VqxYIUkliYjIMlxdZJiYEAUAxQIL1c8TE6K4XgUREWkwakyFannua9euoUmTJhr7mjRpgitXrpivZkREZBXtokMxP7EBQuSaKU4hck/MT2zAdSqIiKgYoxa/W7hwIXx8fODh4YF79+5p7MvKyoKHh4dZK0dERNbRLjoU8VEhXFGbiIgMYnBQUaVKFSxcuBAA4O7ujqNHj+KFF15Q79+5cydq1apl/hoSEZFVuLrIEFstwNrVICIiO2BwUJGWllbi/piYGLRo0cLU+hARERERkZ0xKv2pJDExMeY6FRERERER2RGjBmqfOHECixcvxuXLlwEAp06dwvvvv4/+/ftjy5YtklSwsBs3biAxMREBAQEoW7Ys6tevjyNHjkheLhERERER6WZwT8WaNWvw+uuvo1y5cnj69CnWrVuHV155BY0aNYKrqys6duyIpUuXomfPnpJU9N69e2jWrBlatWqFTZs2ISgoCBcvXkS5cuUkKY+IiIiIiAwjE4UXoChBw4YN0b17d3z44YdYuXIlBgwYgBEjRmDChAkAgFmzZmHZsmU4duyYJBUdO3Ys9u3bhz/++KPU58jOzoZcLkdWVhb8/PzMWDsiIipMoRScOYqIyAEY2n42OKjw8fFBamoqIiIiIISAh4cHjhw5grp16wIALl26hGeffRYPHjwwzzsoIioqCi+99BKuX7+O3bt3o1KlSnj//ffRr18/na/Jzc1Fbm6u+ufs7GyEhYUxqCAiktDm1HRM/vU00rOeqLeFyj0xMSGKa1wQEdkZQ4MKg8dU+Pr6IjMzEwBw//595Ofnq38GgMzMTPj4+JhQ5ZJdunQJ8+fPR40aNbBlyxb0798fQ4YMwdKlS3W+JikpCXK5XP0vLCxMsvoREVFBQDFg2VGNgAIAMrKeYMCyo9icmm6lmhERkZQM7ql46623cP78eQwePBirVq1CXl4e7t+/j8WLF0Mmk+E///kPKlSogNWrV0tSUXd3dzRq1Aj79+9XbxsyZAgOHz6MlJQUra9hTwURkeUolALNpyUXCyhUZChYlXvvmNZMhSIishNm76mYOXMmfH190b9/f+Tn52PVqlVo1KgRoqKiEBUVhZs3b2Lq1Klmqbw2oaGhiIqK0thWp04dXL16VedrPDw84Ofnp/GPiIikcejyXZ0BBQAIAOlZT3Do8l3LVYqIiCzC4NmfgoODsW3bNo1tX375JYYPH45Hjx6hdu3aKFPGbMteFNOsWTOcO3dOY9vff/+N8PBwycokIiLD3XqgO6AozXFERGQ/TI4Cqlatao566DV8+HA0bdoUn332GV577TUcOnQICxYswIIFCyxSPhERlSzI19OsxxERkf0wKqh4/PgxVqxYgb179yI9PR2urq6IjIxE165d0aZNG6nqCABo3Lgx1q1bh3HjxuHjjz9GZGQk5syZgzfffFPScomIyDBNIv0RKvdERtYTaBuspxpT0STS36jzcnpaIiLbZ/BA7QsXLiAuLg4PHz6Eu7s7MjIy0KFDB9y5cwd//vknunfvjuXLl0uaAmUqrlNBRCQt1exPADQCC1UIMD+xgVHTynJ6WiIi6zL7QO0hQ4agXbt2uHXrFm7evInPPvsMSqUSBw4cwJkzZ3D48GF88sknZqk8ERHZp3bRoZif2AAhcs0UpxC5Z6kCCk5PS0RkHwzuqfD29sbx48dRo0YNAMDTp0/h4+OD9PR0BAQEYP369Rg2bBguX74saYVNwZ4KshdM9yB7Z+o9zOlpiYhsg6HtZ4NzlcqVK6exWvajR4+Qn58Pd3d3AEC9evWQns6nRkSmYroHOQJXFxliqwWU+vXGTE9rSjlERGQeBqc/xcfHY8SIETh79iwuX76M/v37o379+vD19QUAXL16FUFBQZJVlMgZMN2DqACnpyUisi8GBxXTp09Hbm4uoqKiUL16dRw8eBCLFi1S7799+zZGjRolSSWJnIFCKTD519NaZ81RbZv862kolAZlLFqUQimQcjET64/fQMrFTJusI9kXTk9LRGRfDE5/CgoKQkpKCs6fP4/c3Nxii9298sorklSQyFnYa7oH07VIClJNT0tERNIwuKdCpUaNGoiOjrbpqWOJ7JE9pnswXYuk4uoiw8SEKAD/Tkerovp5YkIUB2kTEdkIo4MKXa5du4Y+ffqY63RETsfe0j3sOV2L7IM5p6clIiJpma274e7du/jhhx/w/fffm+uURE7F3tI97DVdi+xLu+hQxEeFcIplIiIbZ3BQsWHDhhL3X7p0yeTKEDkzVbrHgGVHIYP21YhtKd3DHtO1yD6ZOj0tERFJz+CgomvXrpDJZChprTyZzDYaO0T2SpXuUXTgc4gNDny2t3QtIiIiko7BQUVoaCi+/vprdO3aVev+48ePo2HDhuaqF5HTspd0D3tL1yIiIiLpGDxQu2HDhjh69KjO/fp6MYjIcKp0jy71KyG2WoDNBRQAZ+chIiKifxkcVIwaNQpNmzbVub969erYuXOnWSpFRPaBs/MQERERAMiEE3UvZGdnQy6XIysrC35+ftauDpHDUCiFzadrERERkfEMbT9zBTsiMhln5yEiInJuZlv8joiIiIiInBODCiIiIiIiMgmDCiIiIiIiMgmDCiIiIiIiMolJQYWfnx8uXbpkrroQEVEhCqVAysVMrD9+AykXM6FQOs1kfUREZGdMmv3JiWajJSInZa3pcjenpmPyr6eRnvVEvS1U7omJCVFc/4OIiGwOp5QlItLBWg37zanpGLDsKIo+tsnIeoIBy45yYUEiIrI5JqU/JSYmchE5InJIqoZ94YAC+Ldhvzk1XZJyFUqByb+eLhZQAFBvm/zraaZCERGRTTEpqJg/fz4CAwPNVRciIptgzYb9oct3iwUyRctPz3qCQ5fvmr1sIiKi0uLsT0RERVizYX/rge5yS3McERGRJTCoICIqwpoN+yBfT7MeR0REZAkMKoiIirBmw75JpD9C5Z7QNb+UDAWDxZtE+pu9bCIiotJiUEFEVIQ1G/auLjJMTIhSl1O0XACYmBBlkWltiYiIDGV0UPHw4UPs3r0bq1atws8//4zdu3fj4cOHUtSNiMgqrN2wbxcdivmJDRAi1+wJCZF7cjpZIiKySTJh4Ap2+fn5GDlyJBYuXIgnT57A3d0dQgjk5eXB09MT7733HmbMmAE3Nzep6wwASEpKwvjx4zF06FDMmTPHoNdkZ2dDLpcjKyuLU+ESkV7WXoDOWgvvERERqRjafjZ48buRI0dizZo1WLx4MV566SWUK1cOAHD//n1s2bIFo0aNAgCDG/imOHz4MBYsWIB69epJXhYROa920aGIjwqRrGGvL2hwdZEhtlqAWcoiIiKSksE9FRUqVMCqVavQunVrrft37NiBHj164Pbt22atYFEPHz5EgwYNMG/ePHzyySeoX78+eyqIyO5YuxfEUbF3h4jIvMzeU/H48eMSF7oLCAjA48ePjatlKQwcOBAdO3ZEXFwcPvnkE8nLIyIyN9Vq3UWf6KhW6+a4idJhoEZEZD0GD9Ru1aoVRowYgX/++afYvn/++QejR4/W2YthLitXrsTRo0eRlJRk0PG5ubnIzs7W+EdEZE3WXK3bkakCtaKLFqoCtc2p6VaqGRGRczC4p2LevHno0KEDKleujOjoaAQHB0MmkyEjIwOpqamIiorCxo0bJavotWvXMHToUGzduhWenobNDZ+UlITJkydLViciImMZs1p3bLWAEtN5mOpTQF+gJkNBoBYfFeKU14eIyBIMHlMBAEqlElu2bMGBAweQkZEBAAgJCUFsbCzatm0LFxfplr345Zdf0K1bN7i6uqq3KRQKyGQyuLi4IDc3V2MfUNBTkZubq/45OzsbYWFhHFNBRFaz/vgNDF15XO9xc3vUh0cZF53pPACY6vP/Ui5m4o2FB/Qet6JfDAe+ExEZyexjKgDAxcUF7du3R/v27U2uoLHatGmDv/76S2PbO++8g9q1a2PMmDHFAgoA8PDwgIeHh6WqSESkl6GrcKfdeYQ52//WOu6i/7KjWl/jrGMybj3Q3fNTmuPIutgDR2SfjAoqCrt//z5Wr16Nq1evIjw8HK+++irkcrk566bB19cX0dHRGtu8vb0REBBQbDuRLVEoBQ5cykTKxUwAArFVAxFTLcBh/0iyQVAy1WrdGVlPtKbryAAE+3lgxaGrJY670MZZU30MDdQMPY6sh4PtieyXwUHFK6+8gp49e6J79+44ffo0WrRoAZlMhqpVqyItLQ0TJkxAcnIy6tSpI2V9iezK5tR0jF37F+4/ylNv+2rnRZQr64ap3es63B9JNgj0U63WPWDZUcigGSSoQoA3mlTB59vPl+r8RcdkOANDArUQeUGAS7aLs6IR2TeDB0Hs3r0bdevWBQB88MEHaNu2La5fv44DBw7g2rVr6NixI4YNGyZVPbXatWuXRRbbIyqNzanp6L/sqEZAoXL/UR76O9iMNJx9x3DtokMxP7EBQuSaT85D5J6Yn9gAEYHeJpfhTKk+qkAN+DcwU1H9PDEhyml6buwRZ0Ujsn8G91Tk5OSoB2IfP34cGzduhLu7OwDAzc0No0ePRpMmTaSpJZGdUSgFJm04rfe4SRtOOUSaCmffMV5Jq3UXpMqZxtlSfVSBWtGeshD2lNkFY2dFIyLbY3BQUa9ePSQnJ6NatWoICQnBlStX8Nxzz6n3X7lyBV5eXpJUksjeHLp8FxnZ+p8UZ2TnOsQfSTYISsfVRab1euhL5ymJM6f6lBSokW3jYHsi+2dwUDFhwgS8/fbbcHNzw5AhQzB8+HBkZmaiTp06OHfuHCZOnIi33npLyroS2Q1j/vA5wh9JNgjMS9+4C6Hl/6qfAedO9dEVqJFt42B7IvtncFDRsWNHLFiwAMOGDcPNmzchhEC/fv0AFEzd2r9/f4NXuiZydMb84TP1j6QtzLbEBoH56UvnAYqvU8FUH7JXHGxPZP+MWvwOKFhw7siRI7h8+TKUSiVCQ0PRsGFD+Pr6SlVHszF08Q4iUymUAs2mJutNgQrx88C+sW1KHQTYymxLCqVA82nJehsEe8e0tkjAYwuBlrlwRW3Hws9MN9VkD4D2HjjO/kRkHYa2n40OKuwZgwqyJNXsTyX5xoQ/krqmX7TWH2BbaRDYSqBFVJS17k17CmT4/SWyPZIFFcnJydi7dy/S09Ph6uqKyMhIdO7cGTVq1DC50lJjUEGWpm2dCgAmr1Oh6hnQNTja0j0DKtZuENhaoEWkYq1709rfydKwpyCIyBmYPai4desWEhIScPjwYbi4uEAIgeeeew43btzA7du3MWLECEyfPt1sb0AKDCrIGqRYUTvlYibeWHhA73Er+sVYfNCqtRoEthpoET3NVyImaQfu5jzVul+qe5NBNhGZg6HtZ4MHag8ZMgQVK1bE3bt34eHhgVGjRuHBgwf4888/kZycjNdeew2VKlXC0KFDzfIGiByFq4sMzaoHoln1QLOd05ZnW7LW7Duc1pZs0ebUdIxf9xfu5hRfBFNFinuTa8cQkaUZvKL2pk2b8Mknn6BcuXLw8vLCtGnTsGLFCmRnZ6N169aYM2cO5s+fL2Vdiej/cbal4mw50CLnpOopKCmgKMyc96YxQTYRkTkY3FPh4eEBmezfpxkuLi5QKBTIz88HADRt2hRpaWlmryARFcfpF4tjoEW2pKSeAl3MeW+aK8jWlc7IcQ9EVJTBQUXz5s3x0Ucf4YcffoC7uzvGjx+PqlWrwt+/oNFy+/ZtlC9fXrKKEtG/9C2OBjjfAmjOHGixgWd79PUUFCbFvWmOIFvXIO/Oz4Ziw4l0vYO/eV8SOReDg4qZM2eibdu2KFeuHGQyGby9vbF69Wr1/jNnzqB3795S1JGItNC3OJqzDcB0hECrNI0we5zdxxkYm8pk7nvT1CBb1yDv9Kwn+HbP5WLHZ2Q9wYBlR9WDv3lfEjkfo6aUffToEfbt24fc3FzExMQgMNB8A08tgbM/kSNieoIme23MlKbenN3Hdhk6Q1uAtzs+7RYt2XSypVk7Rt9MarqoApUJHaMwcDnvSyJHwcXvtGBQYTxnbZjaO3ttWJuLJe9bc5RVmuCAU+jaNn2rzAOAv7cbDoyLg3sZg+dMMVppfhcYGhDp4u/tbvHpc4lIOmafUlaff/75B99++y0++ugjc52SrMzZG6b2SlcDtWh6giOz1LS25viOKJQCkzYYP/Unp9C1DkODSEPS8T7rVlfSgAIoSJOMjwoxKvA1dRYqXQEFoP2+5MMrIsdgtqAiIyMDkydPZlDhINgwtU+cm95yzPUd+Sr5PDKy9QcHn287h2bVK6gbXJxC1/KMDSJtZdyTsUG2JWZIU92X2q5pOS83vNMsAoNa1+DvKSI7YnBQcfLkyRL3nzt3zuTKkG1gw9R+8em1ZZjrO7I5NR2fbz9vUJlf7byIr3ZeVDdiOYWuZZU2iCxNT4G16RvkrYsMQHlvN4PW5Qjy9dR5Te8/zsPn289j8f40TO1eV2/wxZ4OIttgcFBRv359yGQyaBuCodpeeB0Lsl9smNovPr22DHN8R1SBibFUjdivez7ntFPoWpqpQaS1VpkvrZJSt3RRvetPukRjysYzeu/LhuHl0WLGzhLPff9Rnt5eP6bpEtkOg5M5AwICsHDhQly+fLnYv0uXLuG3336Tsp5kQWyY2i8+vbYMc3xHjFnHoDBVI2zKxjOY0DEKwL8NOhV7mULXXjjj6tSq1K0QuebvilC5J/7zYiRCi2wPkXtifmIDdKhXERMT9N+XR67cM+j+FygI2BTK4uGHqqej6HlUgffm1HS95yci8zG4p6Jhw4a4efMmwsPDte6/f/++1l4M+pe9dNGyYWq/nHkBOEsyx3fElKBc1Ygt7+1uEzn7js5ZH7SUlLo1ul0dnX/PDBlLsv74DYProa3Xj2m6RLbH4KDiP//5D3JycnTur1KlChYvXmyWSjkie+qiZcPUfjnCAnD2wBzfEXME5bcePEGX+pXsLmff3jjzgxZdqVv6Urr0jSUx9loVDdiYpktkewxOf+rWrRsSExN17i9fvjx69epllko5Gkt30SqUAikXM7H++A2kXMzU2m1cElXDFGBahT3SlbagSk+wtSDWHpnjO6IKTEz5FqkaZqoGXpf6lRBbLYDfTTPT91nJUPCQiA9aNJV0X6quqaGKBiHO2ntEZMvMNqUsaWfpLlpz9YjYylSIVDr2OOOMvTH1O1KawbAq7C20LPYAmp/qmvb//xW/ddF1rztz7xGRreKK2hIzdGXSFf1iTO6iLc2qvPrYyzgQMi9+7oYz9VrpehDQ+dlQLNhzGYD2Rix7nSzPntJY7cXm1HSMXfsX7j8qPg2tISvK60tB5MrdRKaz+IrapJ2lumil6hGxt6kQyXRsOBnH1O9ISb1Kz1UpX6qeEAaFptN2DdkDaF4KpYDcyx0TE57BvvN3sO10BrKe5Kv3l3SvW7P3iN8vIu0YVEjMUl20HLRG5sCV1K1DV2BSmkYsg0LT6buG/B1qOm3XOMTPE32aV0VEYFmD7nVrpOny+0WkG9OfJGapLtr1x29g6Mrjeo+b26M+utSvVOpyyHGp7lVdwSnTCYqztSeWUqRAOhteQ+npusZAwXU29hpb6nvIe4OcFdOfbISlumg5aI1Mxd4u49jaE0vO2286XkPplXSNgYLrPG7tX0ZdY0uk6fLeINLP4CllC4uMjER8fLzGtri4OFStWtUslXI0lpjik1Mekqk4RaPhbHElX2dc9dnceA2lZ8hK8vce5eGr5PMWqpFheG8Q6VeqnopevXqhQoUKGtu6deuGO3fumKVSjkjqAX6c8pBMxd4uw9jqE8vSBoW2lsJlTQyspWfotVu8Lw2DWtewmXuR9waRfqUKKiZNmlRs28CBA02tS4mSkpKwdu1anD17Fl5eXmjatCmmTZuGWrVqSVquOUndRcu1JcgUXEndMLaaJlaaoNDWUrisjYG19Ay9dvcf59lUqiXvDSL9SpX+BABPnz7FuXPnkJ+fr/9gM9i9ezcGDhyIAwcOYNu2bcjPz0fbtm2Rk5NjkfLtRbvoUOwd0xor+sVgbo/6WNEvBnvHtHbKBgIZhyupG8ZWn1gamwJpiylc1sY0Uuk1ifRHOS83g461paf+vDeI9DM6qHj06BHeffddlC1bFs888wyuXr0KABgyZAimTp1q9gqqbN68Gb1798YzzzyDZ599FosXL8bVq1dx5MgRycq0V6oekS71KyG2WoDTNwLJcJYY/2PvbPWJpTFBob4ULqAghUuhdJrJAQEwsLYEVxcZ3mkWadCx+r5DCqVAysVMrD9+AykXMyW9X3lvEOlndFAxbtw4nDhxArt27YKn579f+Li4OKxatcqslStJVlYWAMDfX/dTgdzcXGRnZ2v8I6KSsberZLb8xNLQoJCDTnVjYC29Qa2ro1xZ3b0VhnyHNqemo/m0ZLyx8ACGrjyONxYeQPNpyZL2sPHeICqZ0etUhIeHY9WqVYiJiYGvry9OnDiBqlWr4sKFC2jQoIFFGu5CCHTp0gX37t3DH3/8ofO4SZMmYfLkycW2W3KdCiJyPKrUIUD7pAjWbmDoG3zNdW304wB2aW1OTUf///8OFWbId8ja60Xw3iBnY+g6FUb3VNy+fRtBQUHFtufk5EAms8yXatCgQTh58iRWrFhR4nHjxo1DVlaW+t+1a9csUj8icmy2/sRSXwqkraZw2RKmkUqrXXQovklsgFAjv0POlrpnyRQvIlMZPftT48aNsXHjRgwePBgA1IHEwoULERsba97aaTF48GBs2LABe/bsQeXKlUs81sPDAx4eHpLXiYicj9TTREuJM32RLSjNd8jas69ZcsY0zs5G9sbooCIpKQnt2rXD6dOnkZ+fj7lz5+LUqVNISUnB7t27pagjgIKUp8GDB2PdunXYtWsXIiMNG+hFRCQVS6zkKwWua0O2wtjvkDVnX9OVdqWaMc2cvZSWLIvIXIxOf2ratCn27duHR48eoVq1ati6dSuCg4ORkpKChg0bSlFHAAXrYCxbtgzLly+Hr68vMjIykJGRgcePH0tWJhGRo7L1FC5HwfQV87JW6p4l066cLcWLHIfRA7WtRdd4jcWLF6N3794GncPQgSZE5Fg4sFI3XhvpMH3F/BRKgebTkvWm7u0d09qs93HKxUy8sfCA3uNW9IsxuffSkmURGcLQ9rPR6U+urq5IT08vNlg7MzMTQUFBUCgUxtfWAHYS+5ATY+PMNrFhVzJ7TeGydUxfkYa1UvcsmXZlqwtsEuljdFChq3Gfm5sLd3d3kytEZI/YcLVNbNiRNehLX5GhIH0lPiqEDx5KQZW6V/R3boiEv3MtmXbF2dnIXhkcVHzxxRcACtKQvvvuO/j4+Kj3KRQK7NmzB7Vr1zZ/DYlsnLkaruzpMC827MharD1DkTOw9OxrlpwxjbOzkb0yOKj4/PPPART0VHzzzTdwdXVV73N3d0dERAS++eYb89eQyIaZq+HKng7zY8OOrIXpK5ZhydQ9S6ZdcXY2slcGBxWXL18GALRq1Qpr165F+fLlJasUkb0wR8NVX0/H1z2fQ3lvD/ZgGKm0DTv2GJGpmL7imCyZdmWNFC8iUxk9pmLnzp1S1IPILpn6RNKQqQMHrTiGwjMHsgfDMKVp2LHHiMyB6SuOy5JpV/a8wCY5J6ODCgC4fv06NmzYgKtXr+Lp06ca+2bPnm2WihHZA1OfSOrr6QCAolORc5CxYYxt2HFQt/U5Si8R01ccm6XTrpieSfbC6KBix44d6Ny5MyIjI3Hu3DlER0cjLS0NQgg0aNBAijoS2SxTn0iWJqeag4wNY0zDjoO6rc/ReomYvkJEzsboFbXHjRuHkSNHIjU1FZ6enlizZg2uXbuGFi1a4NVXX5WijkQ2S9VwBf5tqKoY8kSytDnVhcdqkG6GrhptzNgYMj9VL1HRz0DVS7Q5Nd1KNTNNu+hQ7B3TGiv6xWBuj/pY0S8Ge8e0ZkBBRA7J6J6KM2fOYMWKFQUvLlMGjx8/ho+PDz7++GN06dIFAwYMMHsliWyZKU8k9fV06MPZY/QzJC+Zs/VYj6P3EjF9xfY5StodkbUZHVR4e3sjNzcXAFCxYkVcvHgRzzzzDADgzp075q0dkZ0o7YC6klJ0DOEos8dI/UddX8OOs/VYD6f+JWtytLQ7ImsyOqiIiYnBvn37EBUVhY4dO2LkyJH466+/sHbtWsTExEhRRyK7UNonkrp6OlxkxQdpqzjS7DHm/qNemgCFs/VYD3uJyFo4OQOReRkdVMyePRsPHz4EAEyaNAkPHz7EqlWrUL16dfUCeURkHG09HfdynmLg8qMAHHf2GHP/US9tgMLZeixDW8DHXiKyBkdPuyOyBpkQojSp3HYpOzsbcrkcWVlZ8PPzs3Z1iPRy1K55hVLgwMVMDFx+FPcf52k9RtU7sHdMa4P+qOsKUFSvNCRAcdTrbQt0XdsJHaMwZeNpvb1Eht4HRIZIuZiJNxYe0Hvcin4xTLsjp2do+7lU61Ros3btWkyaNAknT5401ymJnJ4jLn6krXGpjTG59OZ66ugo19vWBp6W1CM1cPlRvPdiJBbsucxeIrIIhVJg3wXDxoAy7Y7IcEYFFQsXLsTWrVvh5uaGoUOH4vnnn0dycjJGjhyJc+fO4a233pKqnkROy5Fmj9HVuCyJIX/UzTnY196vt631thgS8G04kY6vez6HKRvPcE0HkpShDzVUmHZHZDiDg4qZM2di/PjxqFevHs6cOYP169fjww8/xOzZszF48GAMHDgQgYGBUtaViOxYSY3LkhjyR52DfQvY4sBTQwO+8t4e2DumtU31sJBjMeahBidnIDKewUHFokWL8M0336BPnz7YtWsXWrdujeTkZFy4cAHlypWTsIpE5Aj0NS6LMuaPOgf72u7AU2MCPnvvJSLbZcxDDabdEZWOwStqX7lyBXFxcQCAli1bws3NDZ9++ikDCiIyiDG9BMb+UVdNCavrSBkKUoAc+amjra4KzoCPbIExDzVC5J6cTpaoFAwOKp48eQJPz39/6bu7u6NChQqSVIpsm0IpkHIxE+uP30DKxUwodC2mQFSIMY1GY/+oq6aEBVAssHCWp462mgLGgI9sgaH3/aBW1bB3TGsGFESlYNRA7e+++w4+Pj4AgPz8fCxZsqTYOIohQ4aYr3Zkc2xtECgZxhZmA9K3wBwAlPNyw9dvNkBM1QCj66drEUFnGexrjh4BKe4TQ9YAmdCxjtXvT0uwhe+hszL0+9GsegV+JkSlZPA6FREREZDJSv6iyWQyXLp0ySwVkwLXqTCNOdYBIGlpa7RsO51hM4Gg6h4CtDcuzXEPOWvDTaEUaD4tudTrPUj9wEDX+Ts/G4oNJ9Jt4v6UEh/IWJep3w8iZ2Zo+5mL35FBVL+QdeWk8hey9WlrtJQr64b7j4ovLmfNQJCNK+mUNmiz1AODogGfatV4R39QwQcytsESDzWIHBGDCi0YVJQeVx+1baVZ/8GagaCz9iZYgrFBm7UeGDjLgwpneZ/2gg81iIxn8RW1ybHZ6iBQKv36D8YsCGdunDpUOsauCm7OhQONYa1yLc1Z3qe9MPb7QUSGY1BBBuG0kLbL2PUfimIg6HiMCdqs9cDAWR5UGPM+VT14GdlPcPdhLvy93REi92Kj18z4UINIGgwqyCD6Zu7h6qPWY2qji4Ggc7PWAwNneVBhaP3T7jzSmSbF9BwisgcGr1NBzo3rANiu0ja6rLk+ANc6sR3WWkfCWdavMOR9livrhjnb/9bZ45ie9QQDlh3F5tR0yepJRGSqUvVUKJVKXLhwAbdu3YJSqdTY9+KLL5qlYmR7nH0dAFtlyPoPRVkzEORASdtiyDoSUtwn1irX0vS9T9XP+r67AsDkX08jPirE7q8JETkmo2d/OnDgAHr27IkrV66g6EtlMhkUCoVZK2hOnP3JPDhzj+0paapEgeJTy1p7nQpOrWl7rBXsOUuQqet99mgchs+3nzf4PJxhj4gsTbIpZevXr4+aNWti8uTJCA0NLbYgnlwuL12NLYBBBTmykhpntjDbCafWtH3WemDgLA8qtL3P307exNCVxw0+x9we9dGlfiXpKklEVIRkU8qeP38e//vf/1C9enWTKlha8+bNw4wZM5Ceno5nnnkGc+bMwQsvvGCVuhDZEn1TJVr76San1rR91poVx1lm49H2Po0dE2XvA9eJyHEZPVD7+eefx4ULF6Soi16rVq3CsGHD8OGHH+LYsWN44YUX0L59e1y9etUq9SGyNapGS5f6lRBbLcCmnvY6yxSihXFAOumjbyB3YY4wcJ2IHJdBPRUnT55U/3/w4MEYOXIkMjIyULduXbi5uWkcW69ePfPWsJDZs2fj3XffRd++fQEAc+bMwZYtWzB//nwkJSVJVi45HmdJt7AlzjKFqIqzjBUg0xQeyF0SGRxj4DoROS6DxlS4uLhAJpMVG5itPsn/75NyoPbTp09RtmxZrF69Gt26dVNvHzp0KI4fP47du3cXe01ubi5yc3PVP2dnZyMsLIxjKpwcG3vWoRpToW+tE0cYU8EB6WQsbb+XVPj7iYisyaxjKi5fvmy2ipXWnTt3oFAoEBwcrLE9ODgYGRkZWl+TlJSEyZMnW6J6ZCd0NfYy/n8eeDb2pOMsU4gqlAKTfz2tNXASKHivnBqUiio8JoorahORPTIoqAgPD1f/f8+ePWjatCnKlNF8aX5+Pvbv369xrBSKzjal6iHRZty4cRgxYoT6Z1VPBTknNvaszxnWOuGAdCotZxmwTkSOyejZn1q1aoX09HQEBQVpbM/KykKrVq0kS38KDAyEq6trsV6JW7duFeu9UPHw8ICHh4ck9SH7w8aebdA3S5W9c8YB6UREREbP/qSrZyAzMxPe3t5mqZQ27u7uaNiwIbZt26axfdu2bWjatKlk5ZLjYGPPdtjyLFWmcrYB6URERIARPRXdu3cHUJB+1Lt3b40eAIVCgZMnT0reuB8xYgTeeustNGrUCLGxsViwYAGuXr2K/v37S1ouOQY29sgSVFOE6huQzqlBiYjIkRgcVKhWyhZCwNfXF15eXup97u7uiImJQb9+/cxfw0Jef/11ZGZm4uOPP0Z6ejqio6Px+++/Sz6OgxwDG3tkCc4yIJ2IiKgwg6aULWzy5Mn44IMPJE11koqhU2KR41LN/gRob+xx9icyF05dTEREjsCsU8oWVrFiRdy8eRM1atQwqYJE1uAMsw+RbXD0AelERESFGd1TUbt2bZw/fx7BwcFo0aIFWrZsiRYtWqB27dpS1dFs2FNBKlxR2zbwcyAiIrJthrafjQ4qACAjIwM7d+7E7t27sWvXLpw/fx4VKlRAy5YtsXLlSpMqLiUGFUS2g+lBREREtk/SoEIlJycHe/fuxcqVK7Fs2TIIIZCfn1/a00mOQQWRbdC1sjnHthAREdkWQ9vPRq9TsWnTJowdOxYxMTEIDAzEhx9+iPLly2PNmjW4ffu2SZUmIsenb2VzoGBlc4Wy1M87iIiIyMKMHqjdsWNHVKhQASNHjsSWLVvUU80SkWORarwDVzYnIiJyPEYHFbNnz8aePXswY8YMzJ49Wz1Yu2XLlqhTp44UdSQiC5NyvANXNiciInI8Rqc/DRs2DGvXrsXt27exbds2vPDCC9i+fTueffZZhIYyB5rI3qnGOxTtTcjIeoIBy45ic2q6SefnyuZERESOx+igQuXYsWPYvn07tm7diuTkZCiVSlSuXNmcdSMiC7PEeAfVyua6EqlkKOgV4crmRERE9sPooKJz587w9/dH48aN8dNPP6FmzZr48ccfcffuXRw+fFiKOhKRhRgz3qG0XF1kmJgQBQDFAgvVzxMTorheBRERkR0xekxFzZo18d577+HFF1/ktKxEDsZS4x24sjkREZFjMTqomDlzphT1ICIbYMnxDu2iQxEfFcIVtYmIiBxAqcZU7N69GwkJCahevTpq1KiBzp07448//jB33YjIwiw93sHVRYbYagHoUr8SYqsFMKAgIiKyU0YHFcuWLUNcXBzKli2LIUOGYNCgQfDy8kKbNm2wfPlyKepIRBbC8Q5ERERUGjIhhFHTuNSpUwfvvfcehg8frrF99uzZWLhwIc6cOWPWCpqTocuMEzk7KdepICIiIvthaPvZ6KDCw8MDp06dQvXq1TW2X7hwAdHR0XjyxHYXrGJQQWQ4qVbUJiIiIvthaPvZ6IHaYWFh2LFjR7GgYseOHQgLCzO+pkRkk1TjHYiIiIj0MTqoGDlyJIYMGYLjx4+jadOmkMlk2Lt3L5YsWYK5c+dKUUciIiIiIrJhRgcVAwYMQEhICGbNmoWff/4ZQME4i1WrVqFLly5mryAREREREdk2o4KK/Px8fPrpp+jTpw/27t0rVZ2IiIiIiMiOGDWlbJkyZTBjxgwoFAqp6kNERERERHbG6HUq4uLisGvXLgmqQkRERERE9sjoMRXt27fHuHHjkJqaioYNG8Lb21tjf+fOnc1WOSIiIiIisn1Gr1Ph4qK7c0Mmk9l0ahTXqSAiIiIiMpxk61QolUqTKkZERERERI7F6DEVREREREREhRncU/H48WPs2LEDnTp1AgCMGzcOubm56v2urq6YMmUKPD09zV9LIiIiIiKyWQYHFUuXLsVvv/2mDiq++uorPPPMM/Dy8gIAnD17FhUrVsTw4cOlqSkREREREdkkg9OffvrpJ/Tp00dj2/Lly7Fz507s3LkTM2bMUK+wTUREREREzsPgoOLvv/9GzZo11T97enpqzATVpEkTnD592ry1IyIiIrIxCqVAysVMrD9+AykXM6FQGjWRJpFDMjj9KSsrC2XK/Hv47du3NfYrlUqNMRbmlJaWhilTpiA5ORkZGRmoWLEiEhMT8eGHH8Ld3V2SMomIiIiK2pyajsm/nkZ61hP1tlC5JyYmRKFddKgVa0ZkXQb3VFSuXBmpqak69588eRKVK1c2S6WKOnv2LJRKJb799lucOnUKn3/+Ob755huMHz9ekvKIiIiIitqcmo4By45qBBQAkJH1BAOWHcXm1HQr1YzI+gxe/G7o0KHYvn07jhw5UmyGp8ePH6NRo0aIi4vD3LlzJaloUTNmzMD8+fNx6dIlg1/Dxe+IiIioNBRKgebTkosFFCoyACFyT+wd0xquLjLLVo5IQmZf/G78+PH4+eefUatWLQwaNAg1a9aETCbD2bNn8dVXXyE/P9+iPQdZWVnw9/e3WHlERETkvA5dvqszoAAAASA96wkOXb6L2GoBlqsYkY0wOKgIDg7G/v37MWDAAIwdOxaqDg6ZTIb4+HjMmzcPwcHBklW0sIsXL+LLL7/ErFmzSjwuNzdXY5xHdna21FUjIiIiB3Trge6AojTHETkao1bUjoyMxObNm3H79m0cOHAABw4cwO3bt7F582ZUrVrV6MInTZoEmUxW4r8///xT4zU3b95Eu3bt8Oqrr6Jv374lnj8pKQlyuVz9LywszOg6EhEREQX5Gra4r6HHETkag8dUSOHOnTu4c+dOicdERESox3DcvHkTrVq1wvPPP48lS5ZoTGmrjbaeirCwMI6pICIiIqOoxlRkZD2BtoYTx1SQozL7mAopBAYGIjAw0KBjb9y4gVatWqFhw4ZYvHix3oACADw8PODh4WFqNYmIiMjJubrIMDEhCgOWHYUM0AgsVCHExIQoBhTktIxKf7KWmzdvomXLlggLC8PMmTNx+/ZtZGRkICMjw9pVIyIiIifRLjoU8xMbIESumeIUIvfE/MQGXKeCnJpVeyoMtXXrVly4cAEXLlwothaGFbO3iIiIyMm0iw5FfFQIDl2+i1sPniDI1xNNIv3ZQ0FOz6pjKiyN61QQERERERnO0PazXaQ/ERERERGR7bKL9CdzUXXKcL0KIiIiIiL9VO1mfclNThVUPHjwAAC4XgURERERkREePHgAuVyuc79TjalQKpW4efMmfH19IZPZ3oAq1Toa165d45gPMjveXyQl3l8kFd5bJCXeX/oJIfDgwQNUrFixxCUdnKqnwsXFpdjsUbbIz8+PNzZJhvcXSYn3F0mF9xZJifdXyUrqoVDhQG0iIiIiIjIJgwoiIiIiIjIJgwob4uHhgYkTJ8LDw8PaVSEHxPuLpMT7i6TCe4ukxPvLfJxqoDYREREREZkfeyqIiIiIiMgkDCqIiIiIiMgkDCqIiIiIiMgkDCqIiMji0tLSIJPJcPz4cZ3HyGQy/PLLLxarkz3p3bs3unbtatRreD2JSEoMKohIMqVp+JjD48ePMXHiRNSqVQseHh4IDAzEK6+8glOnThl9roiICMyZM8f8lQTQsmVLDBs2zKDjZDIZZDIZPDw8ULNmTXz22WdQKBRmrU9oaCimTZumsW3MmDGQyWTYsWOHxvY2bdqgZ8+eZi2/qPT0dLRv317SMgp777334OrqipUrV1qsTJXly5fD1dUV/fv3t0h5hgR1upw6dQovv/wyIiIiIJPJtH4/Hjx4gGHDhiE8PBxeXl5o2rQpDh8+XOy4M2fOoHPnzpDL5fD19UVMTAyuXr2q3p+bm4vBgwcjMDAQ3t7e6Ny5M65fv250nYlIegwqiMih5ObmIi4uDt9//z2mTJmCv//+G7///jsUCgWef/55HDhwwNpVLJV+/fohPT0d586dw5AhQ/Df//4XM2fOLNW5FAoFlEplse0tW7bEzp07Nbbt2rULYWFhGtufPn2KlJQUtGrVqlTlP3361KDjQkJCLDbN46NHj7Bq1SqMGjUKixYtskiZhX3//fcYPXo0Vq5ciUePHlm8fGM8evQIVatWxdSpUxESEqL1mL59+2Lbtm348ccf8ddff6Ft27aIi4vDjRs31MdcvHgRzZs3R+3atbFr1y6cOHECEyZMgKenp/qYYcOGYd26dVi5ciX27t2Lhw8folOnTmYPqInIDAQRkUR69eolunTponP/rl27ROPGjYW7u7sICQkRY8aMEXl5eer92dnZomfPnqJs2bIiJCREzJ49W7Ro0UIMHTpU5zmnTp0qZDKZOH78uMZ2hUIhGjVqJKKiooRSqRRCCK3n6tKli+jVq5d6PwCNf0IIsXjxYiGXy8W6detEjRo1hIeHh4iLixNXr14t8b0PHTpUtGjRQr2/6LkvX76s9T1pq2dcXJyIiYkRQgiRm5srRo0aJSpWrCjKli0rmjRpInbu3Kk+VlXfX3/9VdSpU0e4urqKS5cuFSvn22+/FT4+PurPIDs7W7i5uYmvv/5aNGvWTH3cnj17BABx/vx5IYQQ//vf/0RUVJRwd3cX4eHhYubMmRrnDQ8PF1OmTBG9evUSfn5+4u233xaXL18WAMSxY8eEEAWfT9++fUWNGjVEWlqaEEIIAGLdunVCCKE+fs2aNaJly5bCy8tL1KtXT+zfv1+jrAULFojKlSsLLy8v0bVrVzFr1iwhl8u1XtfClixZImJiYsT9+/eFl5dXsc8iLy9PDB48WMjlcuHv7y9Gjx4t3n77bY3PWKlUimnTponIyEjh6ekp6tWrJ1avXq237MuXLwsvLy9x//598fzzz4sffvhBY39+fr4YPny4uuxRo0YVKzs8PFx8/vnnGq979tlnxcSJE9U/F76eRe891X1pLG3lPnr0SLi6uorffvutWH0+/PBD9c+vv/66SExM1Hnu+/fvCzc3N7Fy5Ur1ths3bggXFxexefPmUtWXiKTDngoisoobN26gQ4cOaNy4MU6cOIH58+dj0aJF+OSTT9THjBgxAvv27cOGDRuwbds2/PHHHzh69GiJ512+fDni4+Px7LPPamx3cXHB8OHDcfr0aZw4ccKgOq5duxaVK1fGxx9/jPT0dKSnp6v3PXr0CJ9++il++OEH7Nu3D9nZ2ejRo4fB73/u3LmIjY1V90Ckp6cjLCzM4Nd7eXkhLy8PAPDOO+9g3759WLlyJU6ePIlXX30V7dq1w/nz5zXqm5SUhO+++w6nTp1CUFBQsXO2atUKDx8+VKep/PHHH6hZsyZeeeUVHD58WP0EfefOnahcuTKqV6+OI0eO4LXXXkOPHj3w119/YdKkSZgwYQKWLFmice4ZM2YgOjoaR44cwYQJEzT2PX36FK+99hr+/PNP7N27F+Hh4Trf94cffogPPvgAx48fR82aNfHGG28gPz8fALBv3z70798fQ4cOxfHjxxEfH49PP/3UoOu5aNEiJCYmQi6Xo0OHDli8eLHG/mnTpuGnn37C4sWL1Z930fEJ//3vf7F48WLMnz8fp06dwvDhw5GYmIjdu3eXWPb333+Pjh07Qi6XIzExsVhPyaxZs/D9999j0aJF2Lt3L+7evYt169YZ9L50OXToEABg+/btSE9Px9q1awEU9EzJZDKkpaWV+tz5+flQKBQaPQ5AwT27d+9eAIBSqcTGjRtRs2ZNvPTSSwgKCsLzzz+vcU2PHDmCvLw8tG3bVr2tYsWKiI6Oxv79+0tdPyKSiLWjGiJyXCX1VIwfP17UqlVL3WsghBBff/218PHxEQqFQv2UvPCT3vv374uyZcuW2FPh6empc//Ro0cFALFq1SohhP6eCiG0P4ldvHixACAOHDig3nbmzBkBQBw8eFDney/cU6GrfG0KH6dQKMSmTZuEu7u7GD16tLhw4YKQyWTixo0bGq9p06aNGDdunEZ9i/beaFOpUiXx2WefCSGEGDVqlHj//feFEELUrl1bbN26VQghRKtWrcRbb70lhBCiZ8+eIj4+XuMco0aNElFRUeqfw8PDRdeuXTWOUfU8/PHHHyIuLk40a9ZM3L9/X+MYaOmp+O6779T7T506JQCIM2fOCCEKnnx37NhR4xxvvvmm3p6Kv//+W7i5uYnbt28LIYRYt26dCAsLEwqFQn1McHCwmDFjhvrn/Px8UaVKFfVn/PDhQ+Hp6Vms5+Tdd98Vb7zxhs6yFQqFCAsLE7/88osQQojbt28LNzc3dS+QEEKEhoaKqVOnqn/Oy8sTlStXNqmnomhPkcrBgwdFrVq1xPXr13XWuTBt5QohRGxsrGjRooW4ceOGyM/PFz/++KOQyWSiZs2aQggh0tPTBQBRtmxZMXv2bHHs2DGRlJQkZDKZ2LVrlxBCiJ9++km4u7sXO3d8fLx47733DKofEVkOeyqIyCrOnDmD2NhYyGQy9bZmzZrh4cOHuH79Oi5duoS8vDw0adJEvV8ul6NWrVqlLlMIAQAaZZZWmTJl0KhRI/XPtWvXRrly5XDmzBmTz63NvHnz4OPjA09PT3Tu3BmJiYmYOHEijh49CiEEatasCR8fH/W/3bt34+LFi+rXu7u7o169enrLadmyJXbt2gWg4Kl1y5YtAQAtWrTArl27kJubiwMHDqB169YACj7HZs2aaZyjWbNmOH/+vEbee+FrVdgbb7yBhw8fYuvWrZDL5XrrV/g9hIaGAgBu3boFADh37pzG/QKg2M/aLFq0CC+99BICAwMBAB06dEBOTg62b98OAMjKysI///yjcS5XV1c0bNhQ/fPp06fx5MkTxMfHa3wOS5cu1fgcitq6dStycnLUA9IDAwPRtm1bfP/99+qy09PTERsbq35N0XvPnJo0aYKzZ8+iUqVKJp3nxx9/hBAClSpVgoeHB7744gv07NkTrq6uAKAe09OlSxcMHz4c9evXx9ixY9GpUyd88803JZ5bCGGW7zARmVcZa1eAiJyTtoZB4Ua/rgBAtV2XmjVr4vTp01r3nT17FgBQo0YNAAUpUUXPp0opMoS2ho1qm6nnLurNN9/Ehx9+CA8PD1SsWFGjcebq6oojR46ot6n4+Pio/+/l5WVQQ6xVq1YYOnQoMjMzcezYMbz44osACoKKL7/8Em3btsXjx4/Vg7RL+hwL8/b21lpehw4dsGzZMo1ApSRubm7q/6vKVTVQDa1LYQqFAkuXLkVGRgbKlCmjsX3RokUaqTclnVtVh40bNxZrkJc02Pz777/H3bt3UbZsWY1zHTt2DFOmTCmx7oWZ+34zVbVq1bB7927k5OQgOzsboaGheP311xEZGQmgIHgqU6YMoqKiNF5Xp04ddYpUSEgInj59inv37qF8+fLqY27duoWmTZta7s0QkUHYU0FEVhEVFYX9+/drNIT2798PX19fVKpUCdWqVYObm5s69xsAsrOzNcYJaNOjRw9s37692LgJpVKJzz//HFFRUerxFhUqVNAYJ6FQKJCamqrxOnd3d60zzeTn5+PPP/9U/3zu3Dncv38ftWvX1npuAMWm79R1bm3kcjmqV6+OsLAwjeDhueeeg0KhwK1bt1C9enWNf7pm5ilJq1atkJOTg9mzZ6NGjRoIDg4GUBBU/Pnnn9i4cSMiIyPV4x6ioqLUjUCV/fv3o2bNmsWCHG0GDBiAqVOnonPnznrHHuhTu3ZtjfsFgMZnpM3vv/+OBw8e4NixYzh+/Lj63+rVq/HLL78gMzMTcrkcwcHBGudWKBQ4duyY+ueoqCh4eHjg6tWrxT4HXWNlMjMzsX79eqxcuVKj7OPHj+Phw4fYtGkT5HI5QkNDNWYty8/Px5EjRzTOVfR+y87OxuXLl3W+b3d3d/X7kJK3tzdCQ0Nx7949bNmyBV26dFGX37hxY5w7d07j+L///lt9bzVs2BBubm7Ytm2ben96ejpSU1MZVBDZIPZUEJGksrKyijWm/f398f7772POnDkYPHgwBg0ahHPnzmHixIkYMWIEXFxc4Ovri169emHUqFHw9/dHUFAQJk6cCBcXlxKfuA8fPhzr169HQkICZs2aheeffx7//PMPPvvsM5w5cwbbt29Xv75169YYMWIENm7ciGrVquHzzz/H/fv3Nc4XERGBPXv2oEePHuo1L4CCJ+aDBw/GF198ATc3NwwaNAgxMTHqFJnWrVtjxowZWLp0KWJjY7Fs2TKkpqbiueee0zj3wYMHkZaWBh8fH/j7+8PFxbhnPTVr1sSbb76Jt99+G7NmzcJzzz2HO3fuIDk5GXXr1kWHDh2MOl/VqlVRpUoVfPnll3jzzTfV2ytWrIjw8HB88803ePXVV9XbR44cicaNG2PKlCl4/fXXkZKSgq+++grz5s0zuMzBgwdDoVCgU6dO2LRpE5o3b25UnQuf58UXX8Ts2bORkJCA5ORkbNq0qcT7ZdGiRejYsWOxgf3PPPMMhg0bhmXLlmHo0KEYPHgwkpKSUL16ddSuXRtffvkl7t27pz63r68vPvjgAwwfPhxKpRLNmzdHdnY29u/fDx8fH/Tq1atY2T/++CMCAgLw6quvFvvcO3XqhEWLFqFTp04YOnQopk6diho1aqBOnTqYPXt2sfu0devWWLJkCRISElC+fHlMmDChxKAuKCgIXl5e2Lx5MypXrgxPT0/I5XIcOnQIb7/9Nnbs2KEzBerp06fq3sCnT5/ixo0bOH78OHx8fFC9enUAwJYtWyCEQK1atXDhwgWMGjUKtWrVwjvvvKM+z6hRo/D666/jxRdfRKtWrbB582b8+uuv6vQ7uVyOd999FyNHjkRAQAD8/f3xwQcfoG7duoiLi9P53ojISiw9iIOInIe2aVMBqAdCl2ZK2SZNmoixY8eWWG5OTo7473//K6pXry7c3NyEv7+/ePnll8Vff/2lcdzTp0/FgAEDhL+/vwgKChJJSUnFBmqnpKSIevXqCQ8Pj2JTyq5Zs0ZUrVpVuLu7i9atW6unQlX56KOPRHBwsJDL5WL48OFi0KBBGgO1z507J2JiYoSXl5fRU8oWfR8fffSRiIiIEG5ubiIkJER069ZNnDx5UqO+hlJ9boWn8hSiYNAxAPHjjz9qbFdNKevm5iaqVKmiMaBZCO2DebUNFJ41a5bw9fUV+/btE0LoH1h87949AUBj+twFCxaISpUqqaeU/eSTT0RISIjW95mRkSHKlCkjfv75Z637Bw8eLOrWrSuEKBgcPWjQIOHn5yfKly8vxowZI1599VXRo0cP9fFKpVLMnTtX1KpVS7i5uYkKFSqIl156SezevVvr+evWraseCF/UmjVrRJkyZURGRobIy8sTQ4cOFX5+fqJcuXJixIgRxaaUzcrKEq+99prw8/MTYWFhYsmSJSUO1BZCiIULF4qwsDDh4uKivi937txZ4r0oxL+fRdF/he/tVatWqb8bISEhYuDAgcUG4gshxKJFi0T16tWFp6enePbZZ9UD1lUeP34sBg0aJPz9/YWXl5fo1KmTxtTNRGQ7ZELoSTglIrIROTk5qFSpEmbNmoV3333XavVYsmQJhg0bVuxpMdmefv364ezZs/jjjz/Mel6lUok6dergtddeM2rsAxGRo2L6ExHZrGPHjuHs2bNo0qQJsrKy8PHHHwOAOi+bqKiZM2ciPj4e3t7e2LRpE3744QejUrF0uXLlCrZu3YoWLVogNzcXX331FS5fvoyePXuaodZERPaPQQUR2bSZM2fi3LlzcHd3R8OGDfHHH3+oxzUQFXXo0CFMnz4dDx48QNWqVfHFF1+gb9++Jp/XxcUFS5YswQcffAAhBKKjo7F9+3bUqVPHDLUmIrJ/TH8iIiIiIiKTcEpZIiIiIiIyCYMKIiIiIiIyCYMKIiIiIiIyCYMKIiIiIiIyCYMKIiIiIiIyCYMKIiIiIiIyCYMKIiIiIiIyCYMKIiIiIiIyCYMKIiIiIiIyCYMKIiIiIiIyCYMKIiIiIiIyCYMKIiIiIiIyCYMKIiIiIiIyCYMKIiIiIiIyCYMKIgtbsmQJZDKZxr8KFSqgZcuW+O2330w+f3Z2Nj799FM0atQIfn5+8PDwQEREBPr06YOjR4+a4R0YLyIiAr1791b/vGvXLshkMuzatUu97ffff8ekSZMMer01aau7tR08eBDdunVDlSpV4OHhgeDgYMTGxmLkyJGSltu7d29ERERIWoYtkMlkOu9NlbS0NI3vtIuLCwICAtChQwekpKRYpqJ6qH73pKWlGf3a/fv3Y9KkSbh//36xfS1btkTLli1Nrl9p/fPPPxg/fjzq168PPz8/uLu7o3LlyujevTs2bNgAhUJhtbqpPHr0CJMmTdL6e2PSpEmQyWS4c+eO5StGZEYMKoisZPHixUhJScH+/fuxYMECuLq6IiEhAb/++mupz3nx4kU899xzmDp1Klq1aoUVK1Zg69atmDx5Mv755x80bNgQWVlZZnwXpdOgQQOkpKSgQYMG6m2///47Jk+erPX4devWYcKECZaqnl3ZuHEjmjZtiuzsbEyfPh1bt27F3Llz0axZM6xatUrSsidMmIB169ZJWoa9GTx4MFJSUvDHH38gKSkJJ06cQKtWrXDs2DFrV80k+/fvx+TJk7UGFfPmzcO8efMsXykABw4cQN26dbFw4UJ07twZK1euxPbt2zF16lS4ubmhe/fuWLJkiVXqVtijR48wefJkm3oYQWRuZaxdASJnFR0djUaNGql/bteuHcqXL48VK1YgISHB6PMpFAp069YNd+7cQUpKCqKjo9X7WrRogV69emHTpk1wc3MzS/1N4efnh5iYGIOPf+655ySsjX2bPn06IiMjsWXLFpQp8++v9B49emD69OmSll2tWjVJz2+PqlSpor63mzVrhurVq6NNmzaYN28eFi5caOXaSSMqKsoq5d6/fx9du3aFj48P9u3bh9DQUI39iYmJOHnyJDIzM0s8z+PHj+Hp6QmZTCZldYkcHnsqiGyEp6cn3N3dS93o/+WXX/DXX39h3LhxGgFFYe3bt0fZsmXVP+/duxdt2rSBr68vypYti6ZNm2Ljxo0ar1GlTOzcuRMDBgxAYGAgAgIC0L17d9y8eVPj2Ly8PIwePRohISEoW7YsmjdvjkOHDhWrR9EUot69e+Prr78GAI0UElWahrb0p6tXryIxMRFBQUHw8PBAnTp1MGvWLCiVSvUxqpSUmTNnYvbs2YiMjISPjw9iY2Nx4MABjfP9+eef6NGjByIiIuDl5YWIiAi88cYbuHLliu6Lrkdqaiq6dOmC8uXLw9PTE/Xr18cPP/yg9VqsWLECH374ISpWrAg/Pz/ExcXh3LlzesvIzMxEYGCgRkCh4uKi+St+1apVaNu2LUJDQ+Hl5YU6depg7NixyMnJUR8zZ84cyGQyXLhwodj5xowZA3d3d3Wahrb0J5lMhkGDBuHHH39EnTp1ULZsWTz77LNaU/vWr1+PevXqwcPDA1WrVsXcuXPVqSD6bNu2DV26dEHlypXh6emJ6tWr4z//+U+xFBLV+U6dOoU33ngDcrkcwcHB6NOnT7Feu+zsbPTr1w8BAQHw8fFBu3bt8Pfff+utS0lUAUbh++j777/Hs88+C09PT/j7+6Nbt244c+aMxut69+4NHx8fnDp1Cm3atIG3tzcqVKiAQYMG4dGjR+rjVPe4tqfxhqRtGXIdJ02ahFGjRgEAIiMj1d9P1fdXW/rT3bt38f7776NSpUpwd3dH1apV8eGHHyI3N7dYHQ29X4pauHAh/vnnH0yfPr1YQKFSr149tGrVSv2z6vfZ1q1b0adPH1SoUAFly5ZFbm4ulEolpk+fjtq1a8PDwwNBQUF4++23cf36dfXrv/76a7i4uODWrVvqbbNmzYJMJsPAgQPV25RKJcqXL4+RI0ciLS0NFSpUAABMnjxZff2K/k77559/9N6jRLaMQQWRlSgUCuTn5yMvLw/Xr1/HsGHDkJOTg549e2oc17t3b4PyoLdu3QoA6Nq1q0Hl7969G61bt0ZWVhYWLVqEFStWwNfXFwkJCVrTZvr27Qs3NzcsX74c06dPx65du5CYmKhxTL9+/TBz5ky8/fbbWL9+PV5++WV0794d9+7dK7EuEyZMwCuvvAIASElJUf/T1VC4ffs2mjZtiq1bt2LKlCnYsGED4uLi8MEHH2DQoEHFjv/666+xbds2zJkzBz/99BNycnLQoUMHjT/YaWlpqFWrFubMmYMtW7Zg2rRpSE9PR+PGjUuV63zu3Dk0bdoUp06dwhdffIG1a9ciKioKvXv31tqDMH78eFy5cgXfffcdFixYgPPnzyMhIUFvPnhsbCwOHjyIIUOG4ODBg8jLy9N57Pnz59GhQwcsWrQImzdvxrBhw/Dzzz9r9IwlJibC3d29WCNVoVBg2bJlSEhIQGBgYIl12rhxI7766it8/PHHWLNmjbrhfOnSJfUxmzdvRvfu3REQEIBVq1Zh+vTpWLFiRbGgS5eLFy8iNjYW8+fPx9atW/HRRx/h4MGDaN68udZr8PLLL6NmzZpYs2YNxo4di+XLl2P48OHq/UIIdO3aFT/++CNGjhyJdevWISYmBu3btzeoPrqogjNVozIpKQnvvvsunnnmGaxduxZz587FyZMnERsbi/Pnz2u8Ni8vDx06dECbNm3wyy+/YNCgQfj222/x+uuvm1Snwgy5jn379sXgwYMBAGvXrlV/PwunLxb25MkTtGrVCkuXLsWIESOwceNGJCYmYvr06ejevXux4w25X7TZtm0bXF1d0aFDB6Pfd58+feDm5oYff/wR//vf/+Dm5oYBAwZgzJgxiI+Px4YNGzBlyhRs3rwZTZs2Vf8OiIuLgxACO3bsUJ9r+/bt8PLywrZt29Tb/vzzT9y/fx9xcXEIDQ3F5s2bAQDvvvuu+voVTenUd48S2TxBRBa1ePFiAaDYPw8PDzFv3rxix/fp00e4urqKtLS0Es/brl07AUA8efLEoHrExMSIoKAg8eDBA/W2/Px8ER0dLSpXriyUSqVGfd9//32N10+fPl0AEOnp6UIIIc6cOSMAiOHDh2sc99NPPwkAolevXuptO3fuFADEzp071dsGDhwodP1KCg8P13j92LFjBQBx8OBBjeMGDBggZDKZOHfunBBCiMuXLwsAom7duiI/P1993KFDhwQAsWLFCp3XJz8/Xzx8+FB4e3uLuXPnllh3bXr06CE8PDzE1atXNba3b99elC1bVty/f1/jfB06dNA47ueffxYAREpKSonl3LlzRzRv3lx9H7m5uYmmTZuKpKQkjc+2KKVSKfLy8sTu3bsFAHHixAn1vu7du4vKlSsLhUKh3vb7778LAOLXX39Vb+vVq5cIDw/XOC8AERwcLLKzs9XbMjIyhIuLi0hKSlJva9y4sQgLCxO5ubnqbQ8ePBABAQE67wN97+XKlSsCgFi/fr1638SJEwUAMX36dI3XvP/++8LT01N9n2/atEkA0PishRDi008/FQDExIkTS6yD6l6bNm2ayMvLE0+ePBFHjhwRjRs3FgDExo0bxb1794SXl1exz/rq1avCw8ND9OzZU72tV69eJdZn7969GuUuXry4WJ2K1lv1Xb58+bLW91DSdZwxY4bO17Zo0UK0aNFC/fM333wjAIiff/5Z47hp06YJAGLr1q0adTTkftGmdu3aIiQkpNh2hUIh8vLy1P8K38eqa/D2229rvEb1+6vo77mDBw8KAGL8+PHqbZUrVxZ9+vQRQgiRm5srvL29xZgxYwQAceXKFSFEwefk5uYmHj58KIQQ4vbt2zrvI0PvUSJbx54KIitZunQpDh8+jMOHD2PTpk3o1asXBg4ciK+++krjuEWLFiE/Px/h4eFmKzsnJwcHDx7EK6+8Ah8fH/V2V1dXvPXWW7h+/Xqx1JvOnTtr/FyvXj0A/6Z17Ny5EwDw5ptvahz32muvaU3NMUVycjKioqLQpEkTje29e/eGEALJycka2zt27AhXV1eddQeAhw8fYsyYMahevTrKlCmDMmXKwMfHBzk5OcVSUwytY5s2bRAWFlasjo8ePSo2I5C+66tLQEAA/vjjDxw+fBhTp05Fly5d8Pfff2PcuHGoW7euRi/LpUuX0LNnT4SEhMDV1RVubm5o0aIFAGi8x3feeQfXr1/H9u3b1dsWL16MkJAQg57ct2rVCr6+vuqfg4ODERQUpH4vOTk5+PPPP9G1a1e4u7urj/Px8TF4PNGtW7fQv39/hIWFoUyZMnBzc1N/R7R9Xtqu75MnT9RpLLru36I9h/qMGTMGbm5u8PT0RMOGDXH16lV8++236lmgHj9+XCztJSwsDK1bt9Z4+q2iqz6q+prK2OtoiOTkZHh7e6t7H1VU77vo+9R3vxhrxIgRcHNzU/8r+tkDBb0ChamuZ9HPpkmTJqhTp45Gndu0aaP+buzfvx+PHj3CiBEjEBgYqO6t2L59O2JjY+Ht7W1wvfXdo0S2jgO1iaykTp06xQZqX7lyBaNHj0ZiYiLKlStn1PmqVKkCALh8+TJq165d4rH37t2DEEJrelHFihUBoNjgxoCAAI2fPTw8ABQMcix8fEhIiMZxZcqUKfZaU2VmZmqdyrS0dQcKGms7duzAhAkT0LhxY/j5+UEmk6FDhw4axxlTR3NeX30aNWqkvp/y8vIwZswYfP7555g+fTqmT5+Ohw8f4oUXXoCnpyc++eQT1KxZE2XLlsW1a9fQvXt3jXLat2+P0NBQLF68GG3btsW9e/ewYcMGDB06VCM400Xb5+3h4aEuQ3X/BQcHFztO27ailEol2rZti5s3b2LChAmoW7cuvL29oVQqERMTo/WaGXL/artXi97P+gwdOhSJiYlwcXFBuXLl1GMQVGUA0HlfFE6fAbR/d1T10Tf42BCluY6GyMzMREhISLGxMUFBQShTpozeex/QvF90qVKlCs6fP49Hjx5pjBUbOXKkOjVTW0ABFP8M9H02hQOcuLg4/PDDDzh//jy2b9+O5557DkFBQWjdujW2b9+Onj17Yv/+/fjwww9LrH9Rpv4OILI29lQQ2ZB69erh8ePHpRoc+tJLLwEoGLCtT/ny5eHi4oL09PRi+1SDr/XlzRel+oOYkZGhsT0/P98sDaCiZZmz7llZWfjtt98wevRojB07Fm3atEHjxo1Rt25d3L171ybqaAw3NzdMnDgRQMFgcaDg6fHNmzfx/fffo2/fvnjxxRfRqFEjjSfEKqoeq19++QX379/H8uXLkZubi3feeccs9StfvjxkMhn++eefYvuK3j/apKam4sSJE5gxYwYGDx6Mli1bonHjxiYFrwEBAVrvVUPqU1jlypXRqFEjNGjQAFWrVtVoWKvqp+u+KHpPlFQf1bk8PT0BoNgAaEO+c1JcR1Xd/vnnHwghNLbfunUL+fn5Zrv34+PjoVAo8Pvvv2tsDwsLUwfZhXvCCisa8Bjz2bRp0wZAQW/Etm3bEB8fr96+Y8cO7NmzB7m5uYiLiyv9myOyQwwqiGzI8ePHAfw7qNMYXbp0Qd26dZGUlKRuSBa1ZcsWPHr0CN7e3nj++eexdu1ajadgSqUSy5YtQ+XKlVGzZk2jylfN/vLTTz9pbP/555+Rn5+v9/XGPJVr06YNTp8+XWwxv6VLl0Imk2nM9mIImUwGIYS6DirfffddqRfOatOmjbohX7SOZcuWNWpK3ZJoawQB/6auqHpGVI2oou/x22+/1fr6d955B0+ePMGKFSuwZMkSxMbG6u0BM5S3tzcaNWqEX375BU+fPlVvf/jwoUGz/hj7XgyhumeK3r/Lly8v9TmLio2NhZeXF5YtW6ax/fr16+p0uaJ01Uf1fQsODoanpydOnjypcdz69ev11seY62js9/Phw4fFHnAsXbpUvd8c+vbti+DgYIwePVrn98BQrVu3BoBin83hw4dx5swZjTqHhoYiKioKa9aswZEjR9RBRXx8PG7fvo3Zs2fDz88PjRs3Vr+GvQ7kDJj+RGQlqamp6sZ2ZmYm1q5di23btqFbt26IjIxUH/fuu+/ihx9+wMWLF0scV+Hq6op169ahbdu2iI2NxYABA9CqVSt4e3vjypUr+N///odff/1VPRNTUlIS4uPj0apVK3zwwQdwd3fHvHnzkJqaihUrVhg9Z3udOnWQmJiIOXPmwM3NDXFxcUhNTcXMmTPh5+en9/V169YFAEybNg3t27eHq6sr6tWrp/VJ4/Dhw7F06VJ07NgRH3/8McLDw7Fx40bMmzcPAwYMMDog8vPzw4svvogZM2YgMDAQERER2L17NxYtWmR0GprKxIkT8dtvv6FVq1b46KOP4O/vj59++gkbN27E9OnTIZfLS3Xeol566SVUrlwZCQkJqF27NpRKJY4fP45Zs2bBx8cHQ4cOBQA0bdoU5cuXR//+/TFx4kS4ubnhp59+wokTJ7Set3bt2oiNjUVSUhKuXbuGBQsWmKW+Kh9//DE6duyIl156CUOHDoVCocCMGTPg4+Ojt3eodu3aqFatGsaOHQshBPz9/fHrr78WSx8yRtu2bfHiiy9i9OjRyMnJQaNGjbBv3z78+OOPpT5nUeXKlcOECRMwfvx4vP3223jjjTeQmZmJyZMnw9PTU927pOLu7o5Zs2bh4cOHaNy4Mfbv349PPvkE7du3R/PmzQEUBAaJiYn4/vvvUa1aNTz77LM4dOiQQcGQMddR9f2cO3cuevXqBTc3N9SqVUtrT9fbb7+Nr7/+Gr169UJaWhrq1q2LvXv34rPPPkOHDh3M9gS/XLly+OWXX5CQkIBnn30WAwYMQExMDHx8fJCZmYk9e/YgIyMDTZs21XuuWrVq4b333sOXX34JFxcXtG/fHmlpaZgwYQLCwsKKzcLUpk0bfPnll/Dy8kKzZs0AFEy3GxkZia1bt6Jz584aY8l8fX0RHh6O9evXo02bNvD391f/riFyGFYcJE7klLTN/iSXy0X9+vXF7Nmzi83epJoFRteMLUXdv39fTJkyRTRo0ED4+PgINzc3UaVKFZGYmCj27duncewff/whWrduLby9vYWXl5eIiYnRmN2ncH0PHz6ssV3bLEi5ubli5MiRIigoSHh6eoqYmBiRkpJSbPYmXa/t27evqFChgpDJZBrvuejrhRDiypUromfPniIgIEC4ubmJWrVqiRkzZmjM9KKaGWfGjBnFrhOKzMRy/fp18fLLL4vy5csLX19f0a5dO5GammpQ3XX566+/REJCgpDL5cLd3V08++yzxWbpUZ1v9erVGttLmtWnsFWrVomePXuKGjVqaHzeb731ljh9+rTGsfv37xexsbGibNmyokKFCqJv377i6NGjOstZsGCBACC8vLxEVlZWsf26Zn8aOHBgsWO1fYbr1q0TdevWFe7u7qJKlSpi6tSpYsiQIaJ8+fIlvmchhDh9+rSIj48Xvr6+onz58uLVV18VV69eLfa5qmbWuX37tsbrtc2EdP/+fdGnTx9Rrlw5UbZsWREfHy/Onj1r1OxP2u61or777jtRr1494e7uLuRyuejSpYs4deqUxjG9evUS3t7e4uTJk6Jly5bCy8tL+Pv7iwEDBqhnFFLJysoSffv2FcHBwcLb21skJCSItLQ0g2Z/MvQ6CiHEuHHjRMWKFYWLi4vGd6Do7E9CCJGZmSn69+8vQkNDRZkyZUR4eLgYN25csd9vxtwvumRkZIhx48aJevXqCW9vb+Hm5iYqVqwoEhISxNKlS0VeXl6xa1D095kQBbNGTZs2TdSsWVO4ubmJwMBAkZiYKK5du1bs2PXr1wsAIj4+XmN7v379BADxxRdfFHvN9u3bxXPPPSc8PDw0ZsQz5h4lsmUyIYokPRIREVlBXl4e6tevj0qVKqnXXXFWvXv3xv/+9z88fPjQ2lUhIjII05+IiMgq3n33XcTHxyM0NBQZGRn45ptvcObMGcydO9faVSMiIiMxqCAiIqt48OABPvjgA9y+fRtubm5o0KABfv/9d86aQ0Rkh5j+REREREREJuGUskREREREZBIGFUREREREZBIGFUREREREZBIGFUREREREZBKnmv1JqVTi5s2b8PX1NXq1YCIiIiIiZyOEwIMHD1CxYkW4uOjuj3CqoOLmzZsICwuzdjWIiIiIiOzKtWvXULlyZZ37nSqo8PX1BVBwUfz8/KxcGyIiIiIi25adnY2wsDB1O1oXuwoqbty4gTFjxmDTpk14/PgxatasiUWLFqFhw4YGvV6V8uTn58eggoiIiIjIQPqGDthNUHHv3j00a9YMrVq1wqZNmxAUFISLFy+iXLly1q4aEREREZFTs5ugYtq0aQgLC8PixYvV2yIiIqxXISIicgoKpcChy3dx68ETBPl6okmkP1xdONkHEVFhdhNUbNiwAS+99BJeffVV7N69G5UqVcL777+Pfv36WbtqRERWxUavdDanpmPyr6eRnvVEvS1U7omJCVFoFx1qxZoREdkWmRBCWLsShvD09AQAjBgxAq+++ioOHTqEYcOG4dtvv8Xbb7+t9TW5ubnIzc1V/6waaJKVlcUxFUTkENjolc7m1HQMWHYURf9IqsK1+YkNeI2JyOFlZ2dDLpfrbT/bTVDh7u6ORo0aYf/+/eptQ4YMweHDh5GSkqL1NZMmTcLkyZOLbWdQQUSOgI1e6SiUAs2nJWsEa4XJAITIPbF3TGv2ChGRQzM0qLCbFbVDQ0MRFRWlsa1OnTq4evWqzteMGzcOWVlZ6n/Xrl2TuppERBahUApM/vV0sYACgHrb5F9PQ6G0i+dGNufQ5bs6Awqg4BqnZz3Boct3LVcpIiIbZtExFffu3cOFCxcQGhpa4uIZ2jRr1gznzp3T2Pb3338jPDxc52s8PDzg4eFRqroSEdkyYxq9sdUCLFcxB3Hrge5rW5rjiIgcnWQ9FePHj8ejR48AAHl5eXjvvfcQGBiI559/HuHh4ejevTuePDH8l/Hw4cNx4MABfPbZZ7hw4QKWL1+OBQsWYODAgVK9BSIim8VGr7SCfD3NehwRkaOTLKiYNm0aHj58CACYMWMGfvnlF6xevRrXr1/H+vXrcejQIcyYMcPg8zVu3Bjr1q3DihUrEB0djSlTpmDOnDl48803pXoLREQ2i41eaTWJ9Eeo3BO6RkvIUDAgvkmkvyWrRURksyQLKgqP/169ejWmTp2K7t27o2LFiujUqRNmz56NFStWGHXOTp064a+//sKTJ09w5swZTidLRE6LjV5pubrIMDGhYBxf0Wus+nliQhQHaRMR/T9JB2qrlvO+du0amjRporGvSZMmuHLlipTFExE5LDZ6pdcuOhTzExsgRK7Z2xMi9+TMWkRERUg6UHvhwoXw8fGBh4cH7t27p7EvKyuLg6iJiEygavQWXacihOtUmE276FDER4VwcUEiIj0kCyqqVKmChQsXAihYY+Lo0aN44YUX1Pt37tyJWrVqSVU8EZFTYKNXeq4uMs6gRUSkh2RBRVpaWon7Y2Ji0KJFC6mKJyJyGmz0EhGRtVl0nYrCYmJirFU0ERERERGZkaRBxYkTJ3D06FG0bNkSkZGROHXqFL7++msolUp069YNL730kpTFExERERGRBUg2+9OaNWvQsGFDjBo1Cs8++yx27NiB5s2b4/z580hLS0PHjh2xfPlyqYonIiIiIiILkSyo+OyzzzB58mTcuXMHCxYswCuvvIIRI0Zg27Zt2Lx5M6ZNm2bU4ndERERERGSbZKLwKnVm5OPjg9TUVEREREAIAQ8PDxw5cgR169YFAFy6dAnPPvssHjx4IEXxWmVnZ0MulyMrKwt+fn4WK5eIiIiIyB4Z2n6WrKfC19cXmZmZAID79+8jPz9f/TMAZGZmwsfHR6riiYiIiIjIQiTrqXjrrbdw/vx5DB48GKtWrUJeXh7u37+PxYsXQyaT4T//+Q8qVKiA1atXS1G8VuypICIiIiIynNV7KmbOnAlfX1/0798f+fn5WLVqFRo1aoSoqChERUXh5s2bmDp1qlTFExERERGRhUjWU6HLpUuX8OjRI9SuXRtlylh2mQz2VBDZD4VScJVoIiIiKzO0/Wzxxe+qVq1q6SKJyM5sTk3H5F9PIz3riXpbqNwTExOi0C461Io1IyIiIm0kDSoeP36MFStWYO/evUhPT4erqysiIyPRtWtXtGnTRsqiichObU5Nx4BlR1G0CzUj6wkGLDuK+YkNGFgQERHZGMnGVFy4cAF16tTB6NGjsXnzZmzZsgUAcPjwYbz00kt47bXXkJ+fL1XxRFQKCqVAysVMrD9+AykXM6FQWjQ7EgqlwORfTxcLKACot03+9bTF60VEREQlkyyoGDJkCNq1a4dbt27h5s2b+Oyzz6BUKnHgwAGcOXMGhw8fxieffCJV8URkpM2p6Wg+LRlvLDyAoSuP442FB9B8WjI2p6ZbrA6HLt/VSHkqSgBIz3qCQ5fvWqxOREREpJ9kQcXu3bsxcuRIuLgUFDFixAhs374dmZmZqFGjBubMmYMffvhBquKJyAiqlKOiDXpVypGlAotbD3QHFKU5joiIiCxDsqCiXLlyGqtlP3r0CPn5+XB3dwcA1KtXD+nplnsCSkTa2VLKUZCvp1mPIyIiIsuQLKiIj4/HiBEjcPbsWVy+fBn9+/dH/fr14evrCwC4evUqgoKCpCqeiAxkSylHTSL9ESr3hK6JY2UomAWqSaS/5HUhIiIiw0kWVEyfPh25ubmIiopC9erVcfDgQSxatEi9//bt2xg1apRUxRORgWwp5cjVRYaJCVEAUCywUP08MSGK61UQERHZGMmmlA0KCkJKSgrOnz+P3NzcYovdvfLKK1IVTURGsLWUo3bRoZif2KDYOhUhXKeCiIjIZkm++F2NGjWkLoKITKBKOcrIeqJ1XIUMBQ16S6YctYsORXxUCFfUJiIishOSpT/pc+3aNfTp08daxRPR/7PVlCNXFxliqwWgS/1KiK0WwICCiIjIhlktqLh79y6nlCWyEaqUoxC5ZopTiNyTK1gTERGRXpKlP23YsKHE/ZcuXZKqaCIqBaYcmZ9CKXg9iYjIKUgWVHTt2hUymQxC6J7bXibjH1ciW6JKOSLTbU5NLzbYPJSDzYmIyEFJlv4UGhqKNWvWQKlUav139OhRqYomIrIqW1mhnIiIyFIkCyoaNmxYYuCgrxeDiMge2dIK5URERJYiWfrTqFGjkJOTo3N/9erVsXPnTqmKJyKyCmNWKGeqGREROQrJgooXXnihxP3e3t5o0aKFVMUTEVmFLa1QTkREZClWm1KWiMgR2doK5URERJYg+YraREQlcbRpV821QrmjXRciInJsDCqIyGoccdpV1QrlA5YdhQzQCCwMXaHcEa8LERE5NqY/EZFVOPK0q6asUO7I14WIiByXTDjRvK7Z2dmQy+XIysqCn5+ftatDZFG2lE6jUAo0n5asc5YkVYrQ3jGt7Trlx9hr7izXxZJs6b4nIrJHhrafLZr+5Ofnh+PHj6Nq1aqWLJbI6dlaOo2zTLtq7ArlznJdLMXW7nsiIkdm0fQnJ+oUIbIZtphOw2lXteN1MR9bvO+JiByZ3Y6pSEpKgkwmw7Bhw6xdFSKbZaurO3PaVe14XczDVu97IiJHZtGgIjEx0SxjGQ4fPowFCxagXr16ZqgVkeMyJp3GklTTrurKbJehIE1F37SrjobXxTxs9b4nInJkFg0q5s+fj8DAQJPO8fDhQ7z55ptYuHAhypcvb6aaEVmfQimQcjET64/fQMrFTLM8RbXVdBrVtKsAijWgDZ121RHxupiHrd73RESOzO7SnwYOHIiOHTsiLi7O2lUhMpvNqeloPi0Zbyw8gKErj+ONhQfQfFqyyXnftpxOY8q0q46M18V0tnzfExE5Krta/G7lypU4evQoDh8+bNDxubm5yM3NVf+cnZ0tVdWISk01oLRov4RqQKkpDUlzre4slXbRoYiPCnHYKT9LO52pvV0XW5u21dbveyIiR2Q3QcW1a9cwdOhQbN26FZ6ehj1dSkpKwuTJkyWuGVHp6RtQKkPBgNL4qJBSNdLMsbqz1IyddtVemDqdqb1cF1ucttUe7nsiIkdjN4vf/fLLL+jWrRtcXV3V2xQKBWQyGVxcXJCbm6uxD9DeUxEWFsbF78hmpFzMxBsLD+g9bkW/GJMamLbY8HNkunqfVE1YR0ljsvX3yfueiMh0NrP43cOHD3HkyBFkZGRAJpMhODgYDRs2hI+Pj1HnadOmDf766y+Nbe+88w5q166NMWPGFAsoAMDDwwMeHh4m1Z9ISpYaUGpv6TT2zNTeJ1tLJdJF6l42c+B9T0RkOZIFFfn5+Rg5ciQWLlyIJ0+ewN3dHUII5OXlwdPTE++99x5mzJgBNzc3g87n6+uL6OhojW3e3t4ICAgotp3IXlhyQKm9pNPYO1NWxbanJ+v2svo373siIsuQbPankSNHYs2aNVi8eDHu3r2LJ0+eIDc3F3fv3sXixYuxdu1ajBo1SqriiewC1yVwPKXtfbK3FaA5bSsRERUmWU/F8uXLsWrVKrRu3Vpje7ly5fD6668jMDAQPXr0wJw5c0pdxq5du0yrJJGVcUCp4zGm90mV6pSR/QRTfjtl06lERXHaViIiKkyyoOLx48clLnQXEBCAx48fS1U8kd1QrUtQNO0lxEbTXqhk+qYzBQAXGZB89h+M+Pl4iSlEKraSSlSYVNO22suYEiIi0iTZ7E8JCQl4/PgxfvrpJwQHB2vs++eff/DWW2/B09MTGzZskKJ4rQwdvU5kDWxMOQ5dsyKZam6P+uhSv5KZz1p6qvcJaO9lM3b2J3saU0JE5CwMbT9LFlRcu3YNHTp0wNmzZxEdHY3g4GDIZDJkZGQgNTUVUVFR2LhxIypXrixF8VoxqCAiS/n9ZDoGrTgKpRl/w5o6tbAUzBUI2Pr0tEREzsrqQQUAKJVKbNmyBQcOHEBGRgYAICQkBLGxsWjbti1cXCQbJ64VgwoishRD1yAxhCqVaO+Y1jbZe2VqL5tCKdB8WrLOVDBbf/9ERI7MJtapcHFxQfv27dG+fXspiyEisjnmmvXIHgbsmzptq71MT0tERLpJvvidyv3797F69WpcvXoV4eHhePXVVyGXyy1VPBGRRZlr1iNnGLDP6WmJiOyfZEHFK6+8gp49e6J79+44ffo0WrRoAZlMhqpVqyItLQ0TJkxAcnIy6tSpI1UVyMrsfeCxvdefrMuQWaC0kQHw93bHfzvWQYjcyynuO05PS0Rk/yQbU1GhQgXs378fNWrUQIcOHVC+fHksXrwY7u7uyMvLw4ABA3Dt2jVs2bJFiuK14pgKy7H3WVzsvf5kG3TNjqSLsw5KVo2p0Dc9LcdUEBFZnqHtZ8lGSufk5KgHYh8/fhwffPAB3N3dAQBubm4YPXo0Dh48KFXxZEX2tjJwUfZef7IdqjVIQuSaT9hD5Z74z4uRCC2yPUTu6XQBBfDvIpAAiq0ubw9jSoiISML0p3r16iE5ORnVqlVDSEgIrly5gueee069/8qVK/Dy8pKqeLIShVJg8q+n7Wpl4MLsvf5ke9pFhyI+KkRrKt3odnWYYvf/uAgkEZF9kyyomDBhAt5++224ublhyJAhGD58ODIzM1GnTh2cO3cOEydOxFtvvSVV8WQl9j6Li73Xn2yTrtmRTJ01ydGUFIAREZFtkyyo6NixIxYsWIBhw4bh5s2bEEKgX79+AAAPDw/0798fSUlJUhVPVmLvs7jYe/2J7B0DLSIi+yTplLIvv/wyunbtiiNHjuDy5ctQKpUIDQ1Fw4YN4evrK2XRZCX2PouLvdefiIiIyBokX6fC1dUVTZo0QZMmTaQuimyAvmk0VbO4NIn0t3TVDGLv9Sfr4jTERETkrCQPKpKTk7F3716kp6fD1dUVkZGR6Ny5M2rUqCF10WQFqllcBiw7Chk0p9G0h1lcpKg/G5rOgdMQExGRM5NsnYpbt24hISEBhw8fhouLC4QQeO6553Djxg3cvn0bI0aMwPTp06UoWieuU2E59t7AMlf97f06kGFU0xAX/WXqrOtOEBGR4zC0/SxZT8WQIUNQsWJF3L17Fx4eHhg1ahQePHiAP//8E8nJyXjttddQqVIlDB06VKoqkBWZaxYXaz3lN0f9dTU0VetdsKHpGJxxGmL2vhERUVGS9VTI5XLs378fzzzzDICCxfDKly+PO3fuwM/PD8uWLcMnn3yCs2fPSlG8VuypsC/2/JRftUKwrulpuUKw40i5mIk3Fh7Qe9yKfjEOMauRPX8viYjIeFZfUdvDwwMy2b+NJRcXFygUCuTn5wMAmjZtirS0NKmKJztn76taG7PeBdk3Z5qG2N6/l0REJB3JgormzZvjo48+Qk5ODvLy8jB+/HhUrVoV/v4Fs+bcvn0b5cuXl6p4smP60kmAgnQShVKSTjazcKaGprNzlmmIHeF7SURE0pFsTMXMmTPRtm1blCtXDjKZDN7e3li9erV6/5kzZ9C7d2+piic75girWjtLQ5OcZxpiR/heEhGRdCQLKqpWrYqTJ09i3759yM3NRUxMDAIDA9X7GVCQLo7wlN9ZGppk/9MoG8oRvpdERCQdydKfAKBs2bKIj49Hp06dNAIKciwKpUDKxUysP34DKRczTU5/cISn/KqGJvBvw1LFkRqaVKBddCjmJzZAiFzzngyRezrMLF+O8L0kIiLpSL74nS7//PMPvv32W3z00UfWqgKZgRQzwTjKU35VQ7Po9QnhTDkOyVzTKNsqR/leEhGRNCSbUlafEydOoEGDBlAoFBYrk1PKmpeUC36pzg1oTyexp6e/nNOfLK3wPRfo4wEI4E5Orkn3n0Ip8FXyeXy+/Xyxffb4vbQW/j4gIntj9cXvTp48WeL+c+fOSVU0WYDUC3450lN+VxcZB66SxWjrPSzM0J7Ewo3ftDuPsOLQVWRkaz+nPX4vrYFrfBCRI5Osp8LFxQUymQzaTq/aLpPJ2FNhpyy14Bef6hEZTlfvYWGG9CroC0wKGx5XE4NaV+f3Ug8pe3aJiKRk9Z6KgIAATJs2DW3atNG6/9SpU0hISJCqeJKYpWaC4VN+IsOU1HtYmL6eREMCExUZgJWHr2JQ6+qlq7STkLpnl4jIFkgWVDRs2BA3b95EeHi41v3379/X2otB9oEzwRDZFn3rSBSma00JQwMTfechTVzjg4icgWRBxX/+8x/k5OTo3F+lShUsXrxYquJJYpwJhgCmp9mS0vQKFn2NMYGJqWU7E0dc44PffSIqSrKgolu3biXuL1++PHr16iVV8SQxZ1nwi3RzxEGnpjaUrNnQKk2vYNHXlLZRyx7Jkjlaz64jfveJyHRWW6eC7J8jzdBExtGVd5+R9QQDlh21y0GnpjaUrN3Q0td7WJiunsTSNmrv5eSW6nXOwpF6dh3xu09E5mG1dSqsgbM/SYPd4M5FoRRoPi1ZZ5qMqoG0d0xru7kPTJ2Zx1Zm9tG1vouhdVJ9toYEJoWF2tnnbQ2OsPaOI373iUg/Q9vPLhasEzko1QxNXepXQmy1AP4xcXDGDDo1hUIpkHIxE+uP30DKxUwolNI8/9A3Mw9QMDOPrvJNfb05qXoPQ+S6exxC5J46G7CqtEbg38auIczxeVuSpe6twnR9NiV9HrbGUt99IrJPTH8iIqNYYtCpJVOJTJ2Zx9Zm9mkXHYr4qJBSr6itK61RH3sZZGzNNLWin4299ew64oBzIjIfBhVEZBSpB51aOmfb1IaSLTS0tKUgmhLAFG787rtwG1/tvKj3NfYwyNgWxgPY89o7jjbgnIjMi0EFERlFykGn1lgkzNSGkrUbWlI9eVc1fptE+mPN0Rt2P8iYC9BpKs1YOEcacE5E5meRMRWRkZGIj4/X2BYXF4eqVataongiMqOS8u5NnU7YGjnbqoaSrtrKUNBI19VQMvX1plA9eS96zVRP3jenpptchrk/b2uMZwA4HqCwzanpaD4tGW8sPIChK4/jjYUH0Hxast77RcrvPhHZP4sEFb169ULXrl01tnXr1o3rVBDZKakGnVojlcjUhpK1GlqWGiCuUArIvdzxTrMIlPd219hn7Odd2sasOdhCmpotMDUQdYQB50QkDbuZUjYpKQlr167F2bNn4eXlhaZNm2LatGmoVauWwefglLJE5mXu6YRTLmbijYUH9B63ol+M2fPS7W2dCktcK23vyd/bDd3qV0JcVIhRn7e1p9215r1lK8w5JSynEidyHoa2ny02puLp06e4fPkyqlWrhjJljC929+7dGDhwIBo3boz8/Hx8+OGHaNu2LU6fPg1vb28JakxE+ph70Kk1c7ZNnZnH0jP7lPbJu6GNQV1BwL2cPHy/Lw2NjXhvtjCegeMBzDtTmT0POCciaUgeVDx69AiDBw/GDz/8AAD4+++/UbVqVQwZMgQVK1bE2LFjDTrP5s2bNX5evHgxgoKCcOTIEbz44otmrzcRWZ4qlWjAsqOQQfsiYVLmbJvaUNL3enM+3S3NAHFDe1PMHQTYwrS71r63bAFTwIhISpKPqRg3bhxOnDiBXbt2wdPz3z9ucXFxWLVqVanPm5WVBQDw99f9VCk3NxfZ2dka/4jItjlqzra5xxMYO0DcmFx6cw9qtpXGrKn3lrUGmZuLtWcqIyLHJnlPxS+//IJVq1YhJiYGMtm/f/6ioqJw8aL+uc+1EUJgxIgRaN68OaKjo3Uel5SUhMmTJ5eqDCKyHntfJKwoKdZHMObJu7E9D+YOAmypMVvae8uai+aZiyOkgHEsB5HtkjyouH37NoKCgoptz8nJ0QgyjDFo0CCcPHkSe/fuLfG4cePGYcSIEeqfs7OzERYWVqoyiciyHCVnW8rxBLpWvw4p0tg1Nv3I3EGArTVmjb23bGHRPHOQOgVM6ga/IwR2RI5M8qCicePG2LhxIwYPHgwA6kBi4cKFiI2NNfp8gwcPxoYNG7Bnzx5Urly5xGM9PDzg4eFhfKWJyGFZ+kmn1OMJ9D15VygF9l24bdC5VD0P5g4C7Hk8gy0MMjcnQwNRY0nd4HeUwI7IkUkeVCQlJaFdu3Y4ffo08vPzMXfuXJw6dQopKSnYvXu3wecRQmDw4MFYt24ddu3ahcjISAlrTUSOyBpPOi0xnkDXk3dt77ckqp4HKYIAqRqzUrOFQebmZu70Qqkb/I4W2BE5KsmDiqZNm2Lfvn2YOXMmqlWrhq1bt6JBgwZISUlB3bp1DT7PwIEDsXz5cqxfvx6+vr7IyMgAAMjlcnh5eUlVfSIqJVvLfbbWk05zpxKZOiWsNtp6HtpFh+Lrns/hv+tTcTcnT73dlCDAHsfK2Mogc3MzV3qhJRr8jhjYETkii6xTUbduXfWUsqU1f/58AEDLli01ti9evBi9e/c26dxEZF62lvtszSed5kwl0nVdJ3Ssg/LeHuqGesPw8jrfrzYCQI/GmuPNNqemY8rGMxoBhb+3OyZ0LP4ZGhNA2ttYGVsaZG6LLNHgd9TAjsjRSB5UuLq6Ij09vdhg7czMTAQFBUGhUBh0HjtZ+JvI6dli7rM1n3SaK5VI13VNz3qC95cf09jm7+2mEQwY4vPt57Hy8DVMTIgCAB0L3z3FwOVHMd/l38/Q1gJIc7O1Qea2xhINfgZ2RPZB8nUqdAUDubm5cHd3l7p4IrIgfT0CQEGPgKXn95e64aNv/QJzrI9gTM+DsQGFiirwG7v2L4M+Q2PWvrBXqqAQQLE1QWx9kLklWKLBb+yaLERkHZL1VHzxxRcACmZ7+u677+Dj46Pep1AosGfPHtSuXVuq4onICmw191nKho+hT+pLM55AlVa078Idgwdbm0IVNNx/pDsoUX2GBy5lOs3gWXsdZG4IU8c+WaInx55nDyNyJpIFFZ9//jmAgp6Kb775Bq6urup97u7uiIiIwDfffCNV8URUSqY0Mmw191mqho+xqV7GjCcwduYmS0u5mGmTAaRU7HGQuT7mSF2zVIPfkQM7IkchWVBx+fJlAECrVq2wdu1alC9fXqqiiMhMTG1k2GrusxQNHykHfxszc5P1GFY7ex88a2uzmBlKX73NOfbJUg1+RwzsiByJ5AO1d+7cKXURRGQG5mhk2PKgVnM3fKRK9TJ2/IQ+/t7uuJvztNDPxg/iLkz1GcZWDcRXOy/qPd6eB8/a6yB0ffWWIiC2VIPf3mYPI3ImFplS9vr169iwYQOuXr2Kp0+fauybPXu2JapARCUwVyPD1nOfzdnwkSrVS1+wYihV43/3qFY4cuWexnSzLWbsLDHwK1fWDfce5ZX4GcZUC7DZANIcShtkW7tnw5B6y73cJQmILdHgt/b1JSLdJA8qduzYgc6dOyMyMhLnzp1DdHQ00tLSIIRAgwYNpC6eiAxgzqfutp77bK6Gj1SpXuZIFyrc+Hcv41Ls/eoL/JK6FyxMqu8ztOUA0hSlDbKt3bNhaL1HtzNskhRbS12z9vUlopJJHlSMGzcOI0eOxMcffwxfX1+sWbMGQUFBePPNN9GuXTupiyciA5j7qbsz5D5LleplaBAyqFU1NKteAfdynmLKRuMCOEMDP32foa0HkKVVmiDbFtZnMbTe+87fNuh8tpS6ZgvXl4hKJnlQcebMGaxYsaKgsDJl8PjxY/j4+ODjjz9Gly5dMGDAAKmrQER6SPHUXVePgKOkL0iV6mVosDI8vpb63C9FGx/AGRL4GdKr44gBpLFBtjVXbNdWH322nbml95gQPw+bSV2zletLRCWTPKjw9vZGbm4uAKBixYq4ePEinnnmGQDAnTt3pC6eiAxgqQHWjpa+IMWT+tIEK6VN6TJXKpijDZ41Nsi2lfVZDK131mP9A/XfaFLFZhrotnJ9iahkkgcVMTEx2LdvH6KiotCxY0eMHDkSf/31F9auXYuYmBipiyciA1higLVU6QvW7vmQ4km9rmBFXtYN7zSNRHxUiDmqTjoYG2TbyvoshtRb7uWG+wYEFRGB3mavX2nZyvUlopK5SF3A7Nmz8fzzzwMAJk2ahPj4eKxatQrh4eFYtGiR1MUTkYFUDdkQuebTzhC5p8n5yvrSF4CC9AWF0riJVDenpqP5tGS8sfAAhq48jjcWHkDzacnYnJpe6rqWhupJfZf6lRBbLcAsQU276FDsHdMaw+NqoJyXG4CCla4/3/63Vd6jM1EF2cC/QbWKtiDbVtZnMaTe7zSLMOhctjSewlauLxGVTCaEsO31lcwoOzsbcrkcWVlZ8PPzs3Z1iGySFE/+Uy5m4o2FB/Qet6JfjFErTmvr+VDV1BEGbjrDe7RlhqbrKZQCzacl6+3Z2DumtUV60Uqqd3xUiE3V1RC2dn2JnI2h7WeLrFOhzdq1azFp0iScPHnSWlUgIi2kyI83d/qCMwzcdIb3aOsMTW2z9vosRR8ExEeFlFhve5sK2NrXl4gMI2lQsXDhQmzduhVubm4YOnQonn/+eSQnJ2PkyJE4d+4c3nrrLSmLJyIbYe70BWcYuOkM79EeGBpkW2t63dJMfmCPUwHbY52JnI1kQcXMmTMxfvx41KtXD2fOnMH69evx4YcfYvbs2Rg8eDAGDhyIwMBAqYonIhti7tmlnGHgpjO8R0dj6el1TZn8wB6nArbHOhM5E8mCikWLFuGbb75Bnz59sGvXLrRu3RrJycm4cOECypUrJ1WxRGSDzJ2+4AwDN53hPToiS02va470OHucCtge60zkLCSb/enKlSuIi4sDALRs2RJubm749NNPGVAQOSlzzi6l6vnQFYLIUJACYiuLd5WGM7xHKj1j0uOIiCxBsp6KJ0+ewNPz38aDu7s7KlSoIFVxRGQHzJW+4AwDN53hPVLpMT2OiGyNpAO1v/vuO/j4+AAA8vPzsWTJkmLjKIYMGSJlFYjIxpgrfcEZBm46w3uk0mF6HBHZGsnWqYiIiIBMVvITNJlMhkuXLklRvFZcp4LI8Vh7RW1LcIb3SMbh2g1EZClWX6ciLS1NqlMTEak5w8BNZ3iPZBymxxGRrZFsoDYRERFJx5yTHxARmcpqK2oTEZF+TH0yjrNdL2us3eBs15iIDMOggojIRpVmtWRn5qzXy5LpcVJdYwYqRPZPsoHatogDtYnIXuhaLVnVzGJ6iyZeL+lJdY2dNRgksheGtp85poKIyMboWy0ZKFgtWaG0nWdCCqVAysVMrD9+AykXMy1aN3u8XvZGqmusClSKLuSXkfUEA5YdxebU9NJVmIgsziLpT0qlEhcuXMCtW7egVCo19r344ouWqAIRkd0wZrVkW5gVytpPmu3tetkjKa6xvkBFhoJAJT4qhKlQRHZA8qDiwIED6NmzJ65cuYKimVYymQwKhULqKhAR2RV7Wi1ZV0qM6kmzJdKO7Ol62SsprjGDQSLHInn6U//+/dGoUSOkpqbi7t27uHfvnvrf3bt3pS6eiMju2MtqybaSdmQv18ueSXGNGQwSORbJeyrOnz+P//3vf6hevbrURREROYQmkf4IlXvqXS25SaS/paumwVaeNNvL9bJnUlxjBoNEjkXynornn38eFy5ckLoYIiKHoVotGfh3Zh0VW1ot2VaeNNvL9bJnUlxjVaCi6xUyFIzNYTBIZB8kCSpOnjyp/jd48GCMHDkSS5YswZEjRzT2nTx5UoriiYjsnj2slmxLT5rt4XrZO3NfYwaDRI5FknUqXFxcIJPJig3MVhf6//ssPVCb61QQkb2x5UXBFEqB5tOS9abE7B3T2mJ1tuXr5SjMfY2tPXsYEZXM0PazJEHFlStXDD42PDzc3MXrxKCCiMzN2RuxqtmfAGgEFlx0jozh7N8jIltm1aCisD179qBp06YoU0ZzTHh+fj72799v0XUqGFQQkTnxCWsBXgciIsdlM0GFq6sr0tPTERQUpLE9MzMTQUFBTH8iIruka30GZ31CzyfNRESOydD2s+RTyqrGThSVmZkJb29vqYsnIjI7rgRcnKuLjAuUERE5McmCiu7duwMoGJTdu3dveHh4qPcpFAqcPHkSTZs2Nfq88+bNw4wZM5Ceno5nnnkGc+bMwQsvvGC2ehMR6WMr6zMQERHZCsmCCrlcDqCgp8LX1xdeXl7qfe7u7oiJiUG/fv2MOueqVaswbNgwzJs3D82aNcO3336L9u3b4/Tp06hSpYpZ609EpIutrM9ARERkKyQLKhYvXgwAiIiIwAcffGCWVKfZs2fj3XffRd++fQEAc+bMwZYtWzB//nwkJSWZfH4iIkPY0voMREREtkDyFbUrVqyImzdvmnyep0+f4siRI2jbtq3G9rZt22L//v0mn5+IyFDOvBKwQimQcjET64/fQMrFTCiUks71QUREdkLygdqzZs1C//79ERwcjBYtWqBly5Zo0aIFateubdR57ty5A4VCgeDgYI3twcHByMjI0Pqa3Nxc5Obmqn/Ozs42/g0QERWhWgl4wLKjkEH7+gyOuBIwp44lIiJdJO+pOHv2LG7cuIFZs2ZBLpfj888/xzPPPIOQkBD06NHD6PMVnUlK1+xSAJCUlAS5XK7+FxYWVqr3QERUVLvoUMxPbIAQuWaKU4jc0yGnk1VNoVt0gHpG1hMMWHYUm1PTrVQzIiKyBZKvU1FYTk4O9u7di5UrV2LZsmUQQiA/P9+g1z59+hRly5bF6tWr0a1bN/X2oUOH4vjx49i9e3ex12jrqQgLC+M6FURkNs6wPoNCKdB8WrLOGa9kKAim9o5p7XDvnYjI2dnMOhWbNm3C7t27sWvXLpw4cQLPPPMMXnzxRaxZs8aoqWDd3d3RsGFDbNu2TSOo2LZtG7p06aL1NR4eHhpT2RIRmZszrM/AKXSJiEgfyYOKjh07okKFChg5ciS2bNminmq2NEaMGIG33noLjRo1QmxsLBYsWICrV6+if//+ZqwxEREVxil0iYhIH8mDitmzZ2PPnj2YMWMGZs+erR6s3bJlS9SpU8eoc73++uvIzMzExx9/jPT0dERHR+P3339HeHi4RLUnIiJOoUtERPpYdEzFX3/9hd27d2Pnzp349ddfERAQgPR0yw3uMzQnjIiI/qUaU5GR9QTa/mBwTAURkeMytP0s+exPKseOHcP27duxdetWJCcnQ6lUonLlypYqnoiISkk1hS6AYmtzOMoUulx/g4jINJL3VHTu3Bl79+5FdnY26tevr059evHFFy3eW8CeCiKi0nPUdSoc9X0REZmDoe1nyYOKDz74wGpBRFEMKoiITONoU+iq1t8o+odQ9Y4ccc0RIiJj2ExQYUsYVBARkQrX3yAi0s+mxlTs3r0bCQkJqF69OmrUqIHOnTvjjz/+sETRREREWhmz/gYREZVM8qBi2bJliIuLQ9myZTFkyBAMGjQIXl5eaNOmDZYvXy518URERFpx/Q0iIvORfJ2KTz/9FNOnT8fw4cPV24YOHYrZs2djypQp6Nmzp9RVICIiKobrbxARmY/kPRWXLl1CQkJCse2dO3fG5cuXpS6eiIhIqyaR/giVexabJldFhoJZoJpE+luyWkREdknyoCIsLAw7duwotn3Hjh0ICwuTungiIiKtnGH9DSIiS5E8/WnkyJEYMmQIjh8/jqZNm0Imk2Hv3r1YsmQJ5s6dK3XxREREOrWLDsX8xAbF1qkI4ToVRERGsciUsuvWrcOsWbNw5swZAECdOnUwatQodOnSReqiNXBKWSIi0sbR1t8gIjIXQ9vPkvZU5Ofn49NPP0WfPn2wd+9eKYsiIiIqNVcXGWKrBVi7GkREavb2sEPyngofHx+kpqYiIiJCymIMwp4KIiIiIrJ1m1PTi6VlhlopLdNmFr+Li4vDrl27pC6GiIiIiMjubU5Nx4BlR4stzpmR9QQDlh3F5tR0K9WsZJIP1G7fvj3GjRuH1NRUNGzYEN7e3hr7O3fuLHUViIiIiIhsnkIpMPnX09CWRiRQMDPd5F9PIz4qxOZSoSRPf3Jx0d0ZIpPJoFAopCxeA9OfiIiIiMhWpVzMxBsLD+g9bkW/GIuNA7OJgdoAoFQqpS6CiIiIiMju3XrwRP9BRhxnSZKPqSAiIiIiIv2CfD3NepwlSdZT8fjxY+zYsQOdOnUCAIwbNw65ubnq/a6urpgyZQo8PW3vohARERERWVqTSH+Eyj2RkfVE67gKGQoW52wS6W/pquklWU/F0qVL8e2336p//uqrr7B//34cO3YMx44dw7JlyzB//nypiiciIiIisiuuLjJMTIgCUBBAFKb6eWJClM0N0gYkDCp++ukn9OnTR2Pb8uXLsXPnTuzcuRMzZszAzz//LFXxRGRhCqVAysVMrD9+AykXM6FQSjoHBBERkUNqFx2K+YkNECLXzOYJkXtifmIDi69TYSjJ0p/+/vtv1KxZU/2zp6enxkxQTZo0wcCBA6UqnogsyJYW6SEiIrJ37aJDER8VYlcraksWVGRlZaFMmX9Pf/v2bY39SqVSY4wFEdkn1SI9RfslVIv02PJTFSIiIlvl6iKz2LSx5iBZ+lPlypWRmpqqc//JkydRuXJlqYonIgvQt0gPULBID1OhiIiIHJtkQUWHDh3w0Ucf4cmT4vPoPn78GJMnT0bHjh2lKp6ILODQ5bsaKU9FCQDpWU9w6PJdy1WKiIiILE6y9Kfx48fj559/Rq1atTBo0CDUrFkTMpkMZ8+exVdffYX8/HyMHz9equKJyALseZEeIiIiMh/Jgorg4GDs378fAwYMwNixYyFEQfqDTCZDfHw85s2bh+DgYKmKJyILsOdFeoiIiMh8JAsqACAyMhKbN2/G3bt3ceHCBQBA9erV4e9vewt2EJHx7HmRHiIiIjIfycZUFObv748mTZqgSZMmDCiIHIg9L9JDRERE5mORoIKIHJe9LtJDRERE5iNp+hMROQd7XKSHiIiIzIdBBRGZhb0t0kNERETmw/QnIiIiIiIyiVP1VKimtc3OzrZyTYiIiIiIbJ+q3axqR+viVEHFgwcPAABhYWFWrgkRERERkf148OAB5HK5zv0yoS/scCBKpRI3b96Er68vZDLbG0CanZ2NsLAwXLt2DX5+ftauDjkY3l8kJd5fJBXeWyQl3l/6CSHw4MEDVKxYES4uukdOOFVPhYuLCypXrmztaujl5+fHG5skw/uLpMT7i6TCe4ukxPurZCX1UKhwoDYREREREZmEQQUREREREZmEQYUN8fDwwMSJE+Hh4WHtqpAD4v1FUuL9RVLhvUVS4v1lPk41UJuIiIiIiMyPPRVERERERGQSBhVERERERGQSBhVERERERGQSBhVERERERGQSBhVERGRxaWlpkMlkOH78uM5jZDIZfvnlF4vVyZ707t0bXbt2Neo1vJ5EJCUGFUQkmdI0fMzh8ePHmDhxImrVqgUPDw8EBgbilVdewalTp4w+V0REBObMmWP+SgJo2bIlhg0bZtBxMpkMMpkMHh4eqFmzJj777DMoFAqz1ic0NBTTpk3T2DZmzBjIZDLs2LFDY3ubNm3Qs2dPs5ZfVHp6Otq3by9pGYW99957cHV1xcqVKy1Wpsry5cvh6uqK/v37W6Q8Q4I6XU6dOoWXX34ZERERkMlkWr8fDx48wLBhwxAeHg4vLy80bdoUh/+vvfsOa+r6/wD+DhA2RlGZIqIIgrjrQK0T1Lprq3VV26qts04cbS1VW7fWtq6qiKuOb+uuddZRByp17z2qhWpRQFERwvn9wS8pgQQSyE0CvF/Pw/OYe2/OOTf3xpzPPSs2NsdxV65cQceOHaFQKODi4oIGDRrg/v376v2pqakYNmwYypQpAycnJ3Ts2BEPHjwwuMxEJD0GFURUpKSmpiIsLAzLly/HlClTcP36dfz2229QKpWoX78+jh8/bu4i5suAAQMQFxeHa9eu4dNPP8UXX3yB2bNn5ystpVKJjIyMHNubNWuGAwcOaGw7ePAgfHx8NLa/fv0aMTExaN68eb7yf/36tV7HeXh4mGzu+BcvXmDDhg2IiIhAVFSUSfLMavny5Rg7dizWr1+PFy9emDx/Q7x48QIVK1bE9OnT4eHhofWY/v37Y+/evVi9ejUuXLiAVq1aISwsDA8fPlQfc+vWLTRu3BhVqlTBwYMHce7cOUycOBH29vbqY0aMGIHNmzdj/fr1OHLkCJ4/f4727dsbPaAmIiMQREQS6du3r+jUqZPO/QcPHhR169YVtra2wsPDQ4wbN06kpaWp9ycnJ4uePXsKR0dH4eHhIebOnSuaNm0qhg8frjPN6dOnC5lMJs6ePauxXalUijfeeEMEBweLjIwMIYTQmlanTp1E37591fsBaPwJIUR0dLRQKBRi8+bNonLlysLOzk6EhYWJ+/fv53ruw4cPF02bNlXvz572nTt3tJ6TtnKGhYWJBg0aCCGESE1NFREREcLLy0s4OjqKevXqiQMHDqiPVZV3+/btIigoSFhbW4vbt2/nyOfHH38Uzs7O6muQnJws5HK5WLBggWjUqJH6uD/++EMAEDdu3BBCCPHLL7+I4OBgYWtrK3x9fcXs2bM10vX19RVTpkwRffv2FSVKlBB9+vQRd+7cEQDEmTNnhBCZ16d///6icuXK4u7du0IIIQCIzZs3CyGE+viNGzeKZs2aCQcHB1G9enVx7NgxjbyWLFkiypUrJxwcHETnzp3FnDlzhEKh0Pq5ZrVixQrRoEEDkZiYKBwcHHJci7S0NDFs2DChUCiEq6urGDt2rOjTp4/GNc7IyBAzZswQfn5+wt7eXlSvXl38/PPPeeZ9584d4eDgIBITE0X9+vXFypUrNfanp6eLkSNHqvOOiIjIkbevr6/49ttvNd5Xo0YNERkZqX6d9fPMfu+p7ktDacv3xYsXwtraWvz66685yvP555+rX7/33nuid+/eOtNOTEwUcrlcrF+/Xr3t4cOHwsrKSuzatStf5SUi6bClgojM4uHDh2jbti3q1q2Lc+fOYdGiRYiKisLXX3+tPmbUqFE4evQotm3bhr179+Lw4cM4ffp0rumuXbsW4eHhqFGjhsZ2KysrjBw5EpcvX8a5c+f0KuOmTZtQrlw5TJ48GXFxcYiLi1Pve/HiBb755husXLkSR48eRXJyMrp37673+X/33XcIDQ1Vt0DExcXBx8dH7/c7ODggLS0NAPDhhx/i6NGjWL9+Pc6fP4+uXbuiTZs2uHHjhkZ5p02bhmXLluHSpUtwc3PLkWbz5s3x/PlzdTeVw4cPIyAgAO+++y5iY2PVT9APHDiAcuXKwd/fH6dOnUK3bt3QvXt3XLhwAV999RUmTpyIFStWaKQ9a9YshISE4NSpU5g4caLGvtevX6Nbt274888/ceTIEfj6+uo8788//xxjxozB2bNnERAQgB49eiA9PR0AcPToUQwcOBDDhw/H2bNnER4ejm+++UavzzMqKgq9e/eGQqFA27ZtER0drbF/xowZ+OmnnxAdHa2+3tnHJ3zxxReIjo7GokWLcOnSJYwcORK9e/fGoUOHcs17+fLlaNeuHRQKBXr37p2jpWTOnDlYvnw5oqKicOTIETx58gSbN2/W67x0OXnyJABg3759iIuLw6ZNmwBktkzJZDLcvXs332mnp6dDqVRqtDgAmffskSNHAAAZGRnYsWMHAgIC0Lp1a7i5uaF+/foan+mpU6eQlpaGVq1aqbd5eXkhJCQEx44dy3f5iEgi5o5qiKjoyq2l4rPPPhOBgYHqVgMhhFiwYIFwdnYWSqVS/ZQ865PexMRE4ejomGtLhb29vc79p0+fFgDEhg0bhBB5t1QIof1JbHR0tAAgjh8/rt525coVAUCcOHFC57lnbanQlb82WY9TKpVi586dwtbWVowdO1bcvHlTyGQy8fDhQ433tGzZUkyYMEGjvNlbb7Tx9vYWU6dOFUIIERERIQYPHiyEEKJKlSpiz549QgghmjdvLt5//30hhBA9e/YU4eHhGmlERESI4OBg9WtfX1/RuXNnjWNULQ+HDx8WYWFholGjRiIxMVHjGGhpqVi2bJl6/6VLlwQAceXKFSFE5pPvdu3aaaTRq1evPFsqrl+/LuRyuXj8+LEQQojNmzcLHx8foVQq1ce4u7uLWbNmqV+np6eL8uXLq6/x8+fPhb29fY6Wk379+okePXrozFupVAofHx+xZcsWIYQQjx8/FnK5XN0KJIQQnp6eYvr06erXaWlpoly5cgVqqcjeUqRy4sQJERgYKB48eKCzzFlpy1cIIUJDQ0XTpk3Fw4cPRXp6uli9erWQyWQiICBACCFEXFycACAcHR3F3LlzxZkzZ8S0adOETCYTBw8eFEII8dNPPwlbW9scaYeHh4uPP/5Yr/IRkemwpYKIzOLKlSsIDQ2FTCZTb2vUqBGeP3+OBw8e4Pbt20hLS0O9evXU+xUKBQIDA/OdpxACADTyzC8bGxu88cYb6tdVqlRByZIlceXKlQKnrc3ChQvh7OwMe3t7dOzYEb1790ZkZCROnz4NIQQCAgLg7Oys/jt06BBu3bqlfr+trS2qV6+eZz7NmjXDwYMHAWQ+tW7WrBkAoGnTpjh48CBSU1Nx/PhxtGjRAkDmdWzUqJFGGo0aNcKNGzc0+r1n/ayy6tGjB54/f449e/ZAoVDkWb6s5+Dp6QkAePToEQDg2rVrGvcLgByvtYmKikLr1q1RpkwZAEDbtm2RkpKCffv2AQCSkpLwzz//aKRlbW2NOnXqqF9fvnwZr169Qnh4uMZ1WLVqlcZ1yG7Pnj1ISUlRD0gvU6YMWrVqheXLl6vzjouLQ2hoqPo92e89Y6pXrx6uXr0Kb2/vAqWzevVqCCHg7e0NOzs7fP/99+jZsyesra0BQD2mp1OnThg5ciRq1qyJ8ePHo3379li8eHGuaQshjPIdJiLjsjF3AYioeNJWMcha6dcVAKi26xIQEIDLly9r3Xf16lUAQOXKlQFkdonKnp6qS5E+tFVsVNsKmnZ2vXr1wueffw47Ozt4eXlpVM6sra1x6tQp9TYVZ2dn9b8dHBz0qog1b94cw4cPR0JCAs6cOYMmTZoAyAwqfvjhB7Rq1QovX75UD9LO7Tpm5eTkpDW/tm3bYs2aNRqBSm7kcrn636p8VRVUfcuSlVKpxKpVqxAfHw8bGxuN7VFRURpdb3JLW1WGHTt25KiQ5zbYfPny5Xjy5AkcHR010jpz5gymTJmSa9mzMvb9VlCVKlXCoUOHkJKSguTkZHh6euK9996Dn58fgMzgycbGBsHBwRrvCwoKUneR8vDwwOvXr/H06VOUKlVKfcyjR4/QsGFD050MEemFLRVEZBbBwcE4duyYRkXo2LFjcHFxgbe3NypVqgS5XK7u+w0AycnJGuMEtOnevTv27duXY9xERkYGvv32WwQHB6vHW5QtW1ZjnIRSqcTFixc13mdra6t1ppn09HT8+eef6tfXrl1DYmIiqlSpojVtADmm79SVtjYKhQL+/v7w8fHRCB5q1aoFpVKJR48ewd/fX+NP18w8uWnevDlSUlIwd+5cVK5cGe7u7gAyg4o///wTO3bsgJ+fn3rcQ3BwsLoSqHLs2DEEBATkCHK0GTRoEKZPn46OHTvmOfYgL1WqVNG4XwBoXCNtfvvtNzx79gxnzpzB2bNn1X8///wztmzZgoSEBCgUCri7u2ukrVQqcebMGfXr4OBg2NnZ4f79+zmug66xMgkJCdi6dSvWr1+vkffZs2fx/Plz7Ny5EwqFAp6enhqzlqWnp+PUqVMaaWW/35KTk3Hnzh2d521ra6s+Dyk5OTnB09MTT58+xe7du9GpUyd1/nXr1sW1a9c0jr9+/br63qpTpw7kcjn27t2r3h8XF4eLFy8yqCCyQGypICJJJSUl5ahMu7q6YvDgwZg3bx6GDRuGoUOH4tq1a4iMjMSoUaNgZWUFFxcX9O3bFxEREXB1dYWbmxsiIyNhZWWV6xP3kSNHYuvWrejQoQPmzJmD+vXr459//sHUqVNx5coV7Nu3T/3+Fi1aYNSoUdixYwcqVaqEb7/9FomJiRrpVahQAX/88Qe6d++uXvMCyHxiPmzYMHz//feQy+UYOnQoGjRooO4i06JFC8yaNQurVq1CaGgo1qxZg4sXL6JWrVoaaZ84cQJ3796Fs7MzXF1dYWVl2LOegIAA9OrVC3369MGcOXNQq1Yt/Pvvv9i/fz+qVauGtm3bGpRexYoVUb58efzwww/o1auXeruXlxd8fX2xePFidO3aVb199OjRqFu3LqZMmYL33nsPMTExmD9/PhYuXKh3nsOGDYNSqUT79u2xc+dONG7c2KAyZ02nSZMmmDt3Ljp06ID9+/dj586dud4vUVFRaNeuXY6B/VWrVsWIESOwZs0aDB8+HMOGDcO0adPg7++PKlWq4IcffsDTp0/Vabu4uGDMmDEYOXIkMjIy0LhxYyQnJ+PYsWNwdnZG3759c+S9evVqlC5dGl27ds1x3du3b4+oqCi0b98ew4cPx/Tp01G5cmUEBQVh7ty5Oe7TFi1aYMWKFejQoQNKlSqFiRMn5hrUubm5wcHBAbt27UK5cuVgb28PhUKBkydPok+fPvj99991doF6/fq1ujXw9evXePjwIc6ePQtnZ2f4+/sDAHbv3g0hBAIDA3Hz5k1EREQgMDAQH374oTqdiIgIvPfee2jSpAmaN2+OXbt2Yfv27erudwqFAv369cPo0aNRunRpuLq6YsyYMahWrRrCwsJ0nhsRmYmpB3EQUfGhbdpUAOqB0PmZUrZevXpi/PjxueabkpIivvjiC+Hv7y/kcrlwdXUV77zzjrhw4YLGca9fvxaDBg0Srq6uws3NTUybNi3HQO2YmBhRvXp1YWdnl2NK2Y0bN4qKFSsKW1tb0aJFC/VUqCpffvmlcHd3FwqFQowcOVIMHTpUY6D2tWvXRIMGDYSDg4PBU8pmP48vv/xSVKhQQcjlcuHh4SHefvttcf78eY3y6kt13bJO5SlE5qBjAGL16tUa21VTysrlclG+fHmNAc1CaB/Mq22g8Jw5c4SLi4s4evSoECLvgcVPnz4VADSmz12yZInw9vZWTyn79ddfCw8PD63nGR8fL2xsbMT//vc/rfuHDRsmqlWrJoTIHBw9dOhQUaJECVGqVCkxbtw40bVrV9G9e3f18RkZGeK7774TgYGBQi6Xi7Jly4rWrVuLQ4cOaU2/WrVq6oHw2W3cuFHY2NiI+Ph4kZaWJoYPHy5KlCghSpYsKUaNGpVjStmkpCTRrVs3UaJECeHj4yNWrFiR60BtIYRYunSp8PHxEVZWVur78sCBA7nei0L8dy2y/2W9tzds2KD+bnh4eIghQ4bkGIgvhBBRUVHC399f2Nvbixo1aqgHrKu8fPlSDB06VLi6ugoHBwfRvn17jambichyyITIo8MpEZGFSElJgbe3N+bMmYN+/fqZrRwrVqzAiBEjcjwtJsszYMAAXL16FYcPHzZquhkZGQgKCkK3bt0MGvtARFRUsfsTEVmsM2fO4OrVq6hXrx6SkpIwefJkAFD3yybKbvbs2QgPD4eTkxN27tyJlStXGtQVS5d79+5hz549aNq0KVJTUzF//nzcuXMHPXv2NEKpiYgKPwYVRGTRZs+ejWvXrsHW1hZ16tTB4cOH1eMaiLI7efIkZs6ciWfPnqFixYr4/vvv0b9//wKna2VlhRUrVmDMmDEQQiAkJAT79u1DUFCQEUpNRFT4sfsTEREREREVCKeUJSIiIiKiAmFQQUREREREBcKggoiIiIiICoRBBRERERERFQiDCiIiIiIiKhAGFUREREREVCAMKoiIiIiIqEAYVBARERERUYEwqCAiIiIiogJhUEFERERERAXCoIKIiIiIiAqEQQURERERERUIgwoiIiIiIioQBhVERERERFQgDCrIpM6fP48PP/wQfn5+sLe3h7OzM2rXro2ZM2fiyZMn+U43IyMDq1evRlhYGMqUKQO5XA43Nze0b98e27dvR0ZGhhHPQj8ffPABKlSooLFNJpPhq6++Ur++fPkyvvrqK9y9e1ev95tT9rKb219//YXBgwcjICAADg4OcHV1RbVq1TBgwAD89ddfkuW7YsUKyGQyrdfMXGQymcafQqFAs2bNsGPHDnMXDQBw8OBByGQyHDx40OD3WvJ3JDk5GdOnT0f9+vVRsmRJyOVyuLu7o02bNli7di1SU1PNVraspk6dii1btuTYrrqX//zzT9MXykAVKlTABx98kOdxMpkMQ4cO1brvl19+yfd9WNiY8zdR2/f9t99+K/Dvh7m/75Q3BhVkMkuXLkWdOnUQGxuLiIgI7Nq1C5s3b0bXrl2xePFi9OvXL1/pvnr1Cm3btkXfvn3h5uaGRYsWYf/+/Vi8eDG8vLzQtWtXbN++3chnkz8xMTHo37+/+vXly5cxadIkrRWmiRMnYvPmzSYsXeHx4MED1K5dG3v37sWoUaPw22+/Yfny5ejRowdiY2Nx+/ZtyfJu164dYmJi4OnpKVke+fHuu+8iJiYGR48exYIFCxAfH48OHTpYTGCRX5b6Hblx4wZq1aqFb775Bo0bN8aqVauwf/9+/PDDD/D29sZHH32Er7/+2ixly05XUEFFk7l/E2vXro2YmBjUrl1bve23337DpEmTJMuTLIONuQtAxUNMTAwGDRqE8PBwbNmyBXZ2dup94eHhGD16NHbt2pWvtEeNGoXdu3dj5cqV6NOnj8a+Ll26ICIiAi9fvixQ+Y2lQYMGeh9bqVIlCUtSuC1duhT//vsvTp48CT8/P/X2zp0747PPPpP0KVzZsmVRtmxZydLPL3d3d/X91bBhQ4SGhsLf3x/z5s1Du3btzFw6aZjrO5Keno7OnTvjyZMnOHnyJIKCgjT2d+vWDV9++SXOnDmTazppaWmQyWSwseFPMRmPuX8TS5QoYdBvHRUdbKkgk5g6dSpkMhmWLFmiEVCo2NraomPHjganGx8fj2XLlqF169Y5/vNUqVy5MqpXr65+ff/+ffTu3Rtubm6ws7NDUFAQ5syZo1ERvXv3LmQyGWbPno25c+fCz88Pzs7OCA0NxfHjx3PksWLFCgQGBqrTW7VqldayZO1CtGLFCnTt2hUA0Lx5c3XXlRUrVgDQ3tT76tUrTJgwAX5+frC1tYW3tzeGDBmCxMREjeMqVKiA9u3bY9euXahduzYcHBxQpUoVLF++XOO4x48fY/DgwQgODoazszPc3NzQokULHD58WGv59fHkyRMMHjwY3t7esLW1RcWKFfH555/n6Aqi6qawevVqBAUFwdHRETVq1MCvv/6aZx4JCQmwsrKCm5ub1v1WVv/91/bnn3+ie/fuqFChAhwcHFChQgX06NED9+7dUx9z7tw5yGQyREVF5Uhr586dkMlk2LZtGwDt3Z+aNWuGkJAQxMbG4s0334SjoyMqVqyI6dOn5whwLl26hFatWsHR0RFly5bFkCFDsGPHDqN3y6hUqRLKli2rcZ7btm1DaGgoHB0d4eLigvDwcMTExGi876uvvoJMJsOZM2fQpUsXlChRAgqFAr1798bjx481jtXVJU6frir6XBdL+I5os3nzZly+fBmff/55joBCxdfXF507d1a/VnUJWb16NUaPHg1vb2/Y2dnh5s2bAIDly5ejRo0asLe3h6urK95++21cuXJF/X7VPRIbG6vetnHjRshkshxBY/Xq1fHOO+8AyLxGKSkpWLlypfrza9asmcbxz549w6BBg1CmTBmULl0aXbp0wd9//53n56DPNQT++84cOHAgz3zS0tIwduxYeHh4wNHREY0bN8bJkyfzLEt+NWvWLMfnAeS8t1S/CbNmzcKMGTPU59ysWTNcv34daWlpGD9+PLy8vKBQKPD222/j0aNHGmlu2LABrVq1gqenJxwcHBAUFITx48cjJSUlR97Ozs64efMm2rZtC2dnZ/j4+GD06NF5dqkz9Dfx1atXGD16NGrWrAmFQgFXV1eEhoZi69atOd6n+j/7xx9/REBAAOzs7BAcHIz169drHJe9+9MHH3yABQsWqNNQ/an+D12wYAGaNGkCNzc3ODk5oVq1apg5cybS0tJyPVeyPAwqSHJKpRL79+9HnTp14OPjo9d7VD9CqsqDLgcOHEBaWprGj3duHj9+jIYNG2LPnj2YMmUKtm3bhrCwMIwZM0ZrP9wFCxZg7969mDdvHn766SekpKSgbdu2SEpK0ijrhx9+iKCgIGzcuBFffPEFpkyZgv379+dalnbt2mHq1KnqfGJiYhATE6PzqbIQAp07d8bs2bPx/vvvY8eOHRg1ahRWrlyJFi1a5PixOXfuHEaPHo2RI0di69atqF69Ovr164c//vhDfYxqHEtkZCR27NiB6OhoVKxYEc2aNctXBffVq1do3rw5Vq1ahVGjRmHHjh3o3bs3Zs6ciS5duuQ4fseOHZg/fz4mT56MjRs3qitTeXVfCg0NRUZGBrp06YLdu3cjOTlZ57F3795FYGAg5s2bh927d2PGjBmIi4tD3bp18e+//wIAatSogVq1aiE6OjrH+1esWAE3Nze0bds21zLFx8ejV69e6N27N7Zt24a33noLEyZMwJo1a9THxMXFoWnTprh27RoWLVqEVatW4dmzZzr7gBfE06dPkZCQoG5VWbt2LTp16oQSJUpg3bp1iIqKwtOnT9GsWTMcOXIkx/vffvtt+Pv745dffsFXX32FLVu2oHXr1kb7odfnuljCd0SbvXv3AkC+HoRMmDAB9+/fx+LFi7F9+3a4ublh2rRp6NevH6pWrYpNmzbhu+++w/nz5xEaGoobN24AAJo2bQq5XI59+/ap09q3bx8cHBxw6NAh9XV59OgRLl68iLCwMACZrcQODg5o27at+vNbuHChRpn69+8PuVyOtWvXYubMmTh48CB69+6d57nocw0NzWfAgAGYPXs2+vTpg61bt+Kdd95Bly5d8PTpU70/YyEE0tPTc/wZowVzwYIF6i6Gy5Ytw9WrV9GhQwf069cPjx8/xvLlyzFz5kzs27dPo6srkNllrm3btoiKisKuXbswYsQI/O9//0OHDh1y5JOWloaOHTuiZcuW2Lp1Kz766CN8++23mDFjRq7lM/Q3MTU1FU+ePMGYMWOwZcsWrFu3Do0bN0aXLl20Phzbtm0bvv/+e0yePBm//PILfH190aNHD/zyyy8685g4cSLeffddAFDfg1m7kN66dQs9e/bE6tWr8euvv6Jfv36YNWsWPvnkE73OgSyIIJJYfHy8ACC6d++u93tWrlwprK2txcqVK3M9bvr06QKA2LVrl17pjh8/XgAQJ06c0Ng+aNAgIZPJxLVr14QQQty5c0cAENWqVRPp6enq406ePCkAiHXr1gkhhFAqlcLLy0vUrl1bZGRkqI+7e/eukMvlwtfXVyMfACIyMlL9+ueffxYAxIEDB3KUtW/fvhrv37VrlwAgZs6cqXHchg0bBACxZMkS9TZfX19hb28v7t27p9728uVL4erqKj755BOdn096erpIS0sTLVu2FG+//XauZddm8eLFAoD43//+p7F9xowZAoDYs2ePRnru7u4iOTlZvS0+Pl5YWVmJadOm5ZpPRkaG+OSTT4SVlZUAIGQymQgKChIjR44Ud+7cyfW96enp4vnz58LJyUl899136u3ff/+9AKC+B4QQ4smTJ8LOzk6MHj1avS06OloA0MinadOmWu+r4OBg0bp1a/XriIgIIZPJxKVLlzSOa926tc77QB8AxODBg0VaWpp4/fq1uHLlinjrrbcEALFgwQL1fVqtWjWhVCrV73v27Jlwc3MTDRs2VG+LjIwUAMTIkSM18vjpp58EALFmzRqNfLXdE76+vqJv377q1wcOHMjz/HRdF0v7jgghRJs2bQQA8erVK43tGRkZIi0tTf2X9f8O1WfQpEkTjfc8ffpUODg4iLZt22psv3//vrCzsxM9e/ZUb2vcuLFo0aKF+rW/v7+IiIgQVlZW4tChQ0KI/67T9evX1cc5OTlpXA8V1b08ePBgje0zZ84UAERcXFyun0N2uq6hvvlcuXIl13tP2zlkByDPv6z3UtOmTUXTpk1zpJP93lL9JtSoUUPjOzRv3jwBQHTs2FHj/SNGjBAARFJSktZyqu6VQ4cOCQDi3LlzGnlr+3+0bdu2IjAwMNfzN/Q3MTvVb0C/fv1ErVq1NPYBEA4ODiI+Pl7j+CpVqgh/f3/1Nm3f9yFDhgh9qpxKpVKkpaWJVatWCWtra/HkyRP1vuzXhCwPWyrIIvXp0wfp6ek6m2/za//+/QgODka9evU0tn/wwQcQQuRoXWjXrh2sra3Vr1VNxqrm/WvXruHvv/9Gz549IZPJ1Mf5+vqiYcOGRi+7qqxZde3aFU5OTvj99981ttesWRPly5dXv7a3t0dAQECOrgmLFy9G7dq1YW9vDxsbG8jlcvz+++8aXS8MKaOTk5P6qZSKqszZy9i8eXO4uLioX7u7u8PNzS1HGbOTyWRYvHgxbt++jYULF+LDDz9EWloavv32W1StWhWHDh1SH/v8+XOMGzcO/v7+sLGxgY2NDZydnZGSkqJxjr169YKdnZ1G69i6deuQmpqKDz/8MM9z9/DwyHFfVa9eXeNcDh06hJCQEAQHB2sc16NHjzzTz8vChQshl8tha2uLoKAgHDt2DJMnT8bgwYPV9+n777+v0TXM2dkZ77zzDo4fP44XL15opNerVy+N1926dYONjQ0OHDhQ4LIC+l8XQ0j1HdHXd999B7lcrv6rUaNGjmNU3ZJUYmJi8PLlyxxl9vHxQYsWLTTK3LJlSxw9ehQvX77EvXv3cPPmTXTv3h01a9ZUt57s27cP5cuXR+XKlfUud/YWl+z/z+li6DXMKx/VvaXr3tNXt27dEBsbm+Mvr6f8+mjbtq3Gd0jV/S1765lq+/3799Xbbt++jZ49e8LDwwPW1taQy+Vo2rQpAOT4vGQyWY4WjOz/nxjLzz//jEaNGsHZ2Vn9GxAVFaX1GrZs2RLu7u7q19bW1njvvfdw8+ZNPHjwIF/5nzlzBh07dkTp0qXVn0ufPn2gVCpx/fr1fJ8XmR6DCpJcmTJl4OjoiDt37hg9bVWFQN+0ExIStM7a4+Xlpd6fVenSpTVeq8aDqAa5qY738PDIkaa2bQWRkJAAGxubHIOEZTIZPDw88iw7kFn+rAP05s6di0GDBqF+/frYuHEjjh8/jtjYWLRp0yZfA/kSEhLg4eGhEWABgJubG2xsbPJVxtz4+vpi0KBBiIqKwo0bN7Bhwwa8evUKERER6mN69uyJ+fPno3///ti9ezdOnjyJ2NhYlC1bViMfV1dXdOzYEatWrYJSqQSQ2fWpXr16qFq1ap5l0edcEhISNH6QVbRtM5SqIvXnn3/i2rVrSEhIwMSJE9X5AtB572dkZOToXpL9/rWxsUHp0qVzXMP80ve6GEKK74g2qv93slfwevbsqa7AZp35Jqvs1yCva5O1zGFhYUhNTcWRI0ewd+9elClTBrVq1UJYWJi6W9Tvv/+u7vqkr7z+n9PF0GuY3/9PVfeevsqWLYs33ngjx1/FihX1TkMXV1dXjde2tra5bn/16hWAzADszTffxIkTJ/D111/j4MGDiI2NxaZNmwDk/KwdHR1hb2+vsc3Ozk6dni6G/iZu2rQJ3bp1g7e3N9asWYOYmBjExsbio48+0ppXbr91+fm/4f79+3jzzTfx8OFDfPfddzh8+DBiY2PVYzAsZZIV0g+nnCDJWVtbo2XLlti5cycePHiAcuXKGS3t5s2bQy6XY8uWLRg4cGCex5cuXRpxcXE5tqsGC5YpU8ag/FU/dPHx8Tn2adtWEKVLl0Z6ejoeP36sUWkSQiA+Ph5169Y1OM01a9agWbNmWLRokcb2Z8+e5buMJ06cgBBCI7B49OgR0tPTDf58DdWtWzdMmzYNFy9eBAAkJSXh119/RWRkJMaPH68+TtWPOLsPP/wQP//8M/bu3Yvy5csjNjY2x2dTEKVLl8Y///yTY7sx7hVVRUpXvgB03vtWVlYoVapUjjJ5e3urX6enpyMhIUGjcmdnZ6d14GhelQtDr4u+pPiOaBMeHo4lS5Zg27ZtGDNmjHq7m5ubevIAFxcXrZ9N9oA7r2uT9TtTv359ODs7Y9++fbh79y5atmwJmUyGli1bYs6cOYiNjcX9+/cNDiryQ4prmPX/U233nhTs7e01xsipaBsTUhD79+/H33//jYMHD6pbJwDkmECgoAz9TVyzZg38/PywYcMGjXtT14Dw3H7rDAn8VLZs2YKUlBRs2rQJvr6+6u1nz541OC0yP7ZUkElMmDABQggMGDAAr1+/zrE/LS0tX/Nme3h4qJ+S6Zpx6datWzh//jyAzKbby5cv4/Tp0xrHrFq1CjKZDM2bNzco/8DAQHh6emLdunUQQqi337t3D8eOHcvz/fo+EVSVHYDGwF8gcwaYlJQU9X5DyGSyHLNxnT9/PseMQPpq2bIlnj9/nmNOfNW1yU8ZtdFWAQMynwb+9ddf6pYnmUwGIUSOc1y2bJm6NSKrVq1awdvbG9HR0YiOjoa9vb1RuiapNG3aFBcvXsTly5c1tmefPcXYAgMD4e3tjbVr12rcpykpKdi4caN6RqisfvrpJ43X//vf/5Cenq4xU06FChXU3y2V/fv34/nz57mWx5DrYu7viDZvv/02goODMXXqVFy9erVAaYWGhsLBwSFHmR88eID9+/drlFkul6NJkybYu3cv9u/fj/DwcADAm2++CRsbG3zxxRfqICMrQ1r/9GXod0sfqntL170nhQoVKuD69esaleiEhAS9/v82hKrCnv3z+vHHH42aj6G/iTKZDLa2thoBRXx8vNbZn4DMlrCsD0aUSiU2bNiASpUq5frAUNf3WNvnIoTA0qVLcztNslBsqSCTCA0NxaJFizB48GDUqVMHgwYNQtWqVZGWloYzZ85gyZIlCAkJUfchXbVqFT766CMsX748z3EVc+fOxe3bt/HBBx9g9+7dePvtt+Hu7o5///0Xe/fuRXR0NNavX4/q1atj5MiRWLVqFdq1a4fJkyfD19cXO3bswMKFCzFo0CAEBAQYdF5WVlaYMmUK+vfvj7fffhsDBgxAYmIivvrqK726P4WEhAAAlixZAhcXF9jb28PPz0/rE5/w8HC0bt0a48aNQ3JyMho1aoTz588jMjIStWrVwvvvv29Q2QGgffv2mDJlCiIjI9WzEk2ePBl+fn75+hHv06cPFixYgL59++Lu3buoVq0ajhw5gqlTp6Jt27ZGe4L6zTff4OjRo3jvvfdQs2ZNODg44M6dO5g/fz4SEhIwa9YsAJnzpTdp0gSzZs1CmTJlUKFCBRw6dAhRUVEoWbJkjnStra3Rp08fzJ07FyVKlECXLl2gUCiMUmYAGDFiBJYvX4633noLkydPhru7O9auXauumGbtq33w4EE0b94ckZGRBV6J1srKCjNnzkSvXr3Qvn17fPLJJ0hNTcWsWbOQmJiI6dOn53jPpk2bYGNjg/DwcFy6dAkTJ05EjRo10K1bN/Ux77//PiZOnIgvv/wSTZs2xeXLlzF//vw8PzNDrou5vyPaWFtbq2fDqlevHgYMGIBmzZqhVKlSSExMxIkTJ3Du3Dmd081mVbJkSUycOBGfffYZ+vTpgx49eiAhIQGTJk2Cvb09IiMjNY5v2bIlRo8eDQDq75ODg4N6Vrvq1avnmGq5WrVqOHjwILZv3w5PT0+4uLggMDCwQJ+Bod8tfQQFBaF3796YN28e5HI5wsLCcPHiRcyePRslSpQoUHl1ef/99/Hjjz+id+/eGDBgABISEjBz5kyj59ewYUOUKlUKAwcORGRkJORyOX766SecO3fOqPkAhv0mtm/fHps2bcLgwYPx7rvv4q+//sKUKVPg6empnnksqzJlyqBFixaYOHEinJycsHDhQly9ejXPByPVqlUDAMyYMQNvvfUWrK2tUb16dYSHh8PW1hY9evTA2LFj8erVKyxatMig2b7IgphpgDgVU2fPnhV9+/YV5cuXF7a2tsLJyUnUqlVLfPnll+LRo0fq41SzhURHR+uVbnp6uli5cqVo0aKFcHV1FTY2NqJs2bLirbfeEmvXrtWYrePevXuiZ8+eonTp0kIul4vAwEAxa9YsjWNUM33MmjUrR17QMuPNsmXLROXKlYWtra0ICAgQy5cv1zpThbb3zps3T/j5+Qlra2uNc9b2/pcvX4px48YJX19fIZfLhaenpxg0aJB4+vSpxnG+vr6iXbt2OcqefaaT1NRUMWbMGOHt7S3s7e1F7dq1xZYtW/QuuzYJCQli4MCBwtPTU9jY2AhfX18xYcKEHDPlABBDhgzJ8f7sMwdpc/z4cTFkyBBRo0YN4erqKqytrUXZsmVFmzZtxG+//aZx7IMHD8Q777wjSpUqJVxcXESbNm3ExYsXdeZz/fp19Swxe/fuzbFf1+xPVatWzXGsts/x4sWLIiwsTNjb2wtXV1fRr18/sXLlyhwzwGzfvl0AEIsXL871sxBC92eZ3ZYtW0T9+vWFvb29cHJyEi1bthRHjx7VOEY1+9OpU6dEhw4dhLOzs3BxcRE9evQQ//zzj8axqampYuzYscLHx0c4ODiIpk2birNnz+o1+5Mh18Wc35HcJCUlialTp4q6deuKEiVKCBsbG+Hm5ibCw8PFggULREpKSo7P4Oeff9aa1rJly0T16tWFra2tUCgUolOnTjlmCRNCiHPnzgkAonLlyhrbv/nmGwFAjBo1Ksd7zp49Kxo1aiQcHR0FAPX5qe7l2NhYjeP1ma1LCP2voSH5pKamitGjRws3Nzdhb28vGjRoIGJiYvT6f0GI3L8LumYSW7lypQgKChL29vYiODhYbNiwQefsT9l/E3RdV23nfOzYMREaGiocHR1F2bJlRf/+/cXp06dz/Nb17dtXODk55Si/6rupD0N+E6dPny4qVKgg7OzsRFBQkFi6dKnWvFSf7cKFC0WlSpWEXC4XVapUET/99JPWzyT7de3fv78oW7askMlkGv+Hbt++XdSoUUPY29sLb29vERERIXbu3JkjDc7+ZPlkQmRpCyciIpP7+OOPsW7dOiQkJKgHeI4dOxbr1q3DjRs3cgzYlNJXX32FSZMm4fHjx5KPgSGiwkMmk2HIkCGYP3++uYtCFordn4iITGjy5Mnw8vJCxYoV8fz5c/z6669YtmwZvvjiC3VAAWROrzlx4kSTBhRERET5xaCCiMiE5HI5Zs2ahQcPHiA9PR2VK1fG3LlzMXz4cI3jYmNjzVRCIiIiw7H7ExERERERFQinlCUiIiIiogJhUEFERERERAXCoIKIiIiIiAqkWA3UzsjIwN9//w0XFxeN1SOJiIiIiCgnIQSePXsGLy8vjUVasytWQcXff/8NHx8fcxeDiIiIiKhQ+euvv1CuXDmd+4tVUOHi4gIg80MpUaKEmUtDRERERGTZkpOT4ePjo65H61KsggpVl6cSJUowqCAiIiIi0lNeQwcK1UDthw8fonfv3ihdujQcHR1Rs2ZNnDp1ytzFIiIiIiIq1gpNS8XTp0/RqFEjNG/eHDt37oSbmxtu3bqFkiVLmrtoRERUyCgzBE7eeYJHz17BzcUe9fxcYW3FCTyIiPKr0AQVM2bMgI+PD6Kjo9XbKlSoYL4CEREVQqxMA7suxmHS9suIS3ql3uapsEdkh2C0CfE0Y8mIiAovmRBCmLsQ+ggODkbr1q3x4MEDHDp0CN7e3hg8eDAGDBig8z2pqalITU1Vv1YNNElKSuKYCiIqdliZzvwMBq05jew/fKqwalHv2sXmsyAi0kdycjIUCkWe9edCM6bi9u3bWLRoESpXrozdu3dj4MCB+PTTT7Fq1Sqd75k2bRoUCoX6j9PJElFxpapMZw0oACA+6RUGrTmNXRfjzFQy01FmCEzafjlHQAFAvW3S9stQZhSKZ21ERBal0LRU2Nra4o033sCxY8fU2z799FPExsYiJiZG63vYUkFElFmZbjxjf46AQkUGwENhjyPjWhTprlAxtxLQY+nxPI9bN6ABQiuVNkGJiIgsn0W2VDx9+hSxsbF48OCBwe/19PREcHCwxragoCDcv39f53vs7OzU08dyGlkiKq5O3nmiM6AAMp/SxyW9wsk7T0xXKDN49Ez3Z5Cf44iI6D+SBRWfffYZXrx4AQBIS0vDxx9/jDJlyqB+/frw9fVFly5d8OqV/v9xN2rUCNeuXdPYdv36dfj6+hq13ERERQ0r05ncXOyNehwREf1HsqBixowZeP78OQBg1qxZ2LJlC37++Wc8ePAAW7duxcmTJzFr1iy90xs5ciSOHz+OqVOn4ubNm1i7di2WLFmCIUOGSHUKRERFAivTmer5ucJTYQ9dHbxkyBy4Xs/P1ZTFIiIqEiQLKrIO1fj5558xffp0dOnSBV5eXmjfvj3mzp2LdevW6Z1e3bp1sXnzZqxbtw4hISGYMmUK5s2bh169eklRfCKiIoOV6UzWVjJEdsjsRpv9s1C9juwQXKTHlRARSUXSMRWq5bz/+usv1KtXT2NfvXr1cO/ePYPSa9++PS5cuIBXr17hypUruU4nS0REmViZ/k+bEE8s6l0bHgrNVhkPhT2nkyUiKgBJF79bunQpnJ2dYWdnh6dPn2rsS0pKgp2dnZTZExHR/1NVprOvU+FRzNapADI/i/Bgj2K/CCARkTFJFlSUL18eS5cuBZA5Hezp06fx5ptvqvcfOHAAgYGBUmVPRETZsDL9H2srGaeNJSIyIsmCirt37+a6v0GDBmjatKlU2RMRkRasTBMRkRQk7f6UmwYNGpgrayIiIiIiMiJJg4pz587h9OnTaNasGfz8/HDp0iUsWLAAGRkZePvtt9G6dWspsyciIiIiIhOQbPanjRs3ok6dOoiIiECNGjXw+++/o3Hjxrhx4wbu3r2Ldu3aYe3atVJlT0REREREJiJZUDF16lRMmjQJ//77L5YsWYJ3330Xo0aNwt69e7Fr1y7MmDHDoMXviIiIiIjIMslE1lXqjMjZ2RkXL15EhQoVIISAnZ0dTp06hWrVqgEAbt++jRo1auDZs2dSZK9VcnIyFAoFkpKSUKJECZPlS0RERERUGOlbf5aspcLFxQUJCQkAgMTERKSnp6tfA0BCQgKcnZ2lyp6IiIiIiExEspaK999/Hzdu3MCwYcOwYcMGpKWlITExEdHR0ZDJZPjkk09QtmxZ/Pzzz1JkrxVbKoiIiIiI9Gf2lorZs2fDxcUFAwcORHp6OjZs2IA33ngDwcHBCA4Oxt9//43p06dLlT0RFYAyQyDmVgK2nn2ImFsJUGZI8uyBiIiIigjJWip0uX37Nl68eIEqVarAxsa0y2SwpYIob7suxmHS9suIS3ql3uapsEdkh2C0CfE0Y8mIiIjI1MzeUqFLxYoVERISYvKAgojytutiHAatOa0RUABAfNIrDFpzGrsuxpmpZERERGTJJK3Zv3z5EuvWrcORI0cQFxcHa2tr+Pn5oXPnzmjZsqWUWRORgZQZApO2X4a2pksBQAZg0vbLCA/2gLWVzMSlIyIiIksmWUvFzZs3ERQUhLFjx2LXrl3YvXs3ACA2NhatW7dGt27dkJ6eLlX2RGSgk3ee5GihyEoAiEt6hZN3npiuUERERFQoSBZUfPrpp2jTpg0ePXqEv//+G1OnTkVGRgaOHz+OK1euIDY2Fl9//bVU2RORgR490x1Q5Oc4IiIiKj4kCyoOHTqE0aNHw8oqM4tRo0Zh3759SEhIQOXKlTFv3jysXLlSquyJyEBuLvZGPY6IiIiKD8nGVJQsWVJjtewXL14gPT0dtra2AIDq1asjLo6DPoksRT0/V3gq7BGf9ErruAoZAA+FPer5uZq6aITMMS8n7zzBo2ev4OaSeR04toWIiCyFZEFFeHg4Ro0ahcWLF8POzg4TJkxAzZo14eLiAgC4f/8+3NzcpMqeiAxkbSVDZIdgDFpzGjJAI7BQVV0jOwSzImsGnOaXiIgsnWTdn2bOnInU1FQEBwfD398fJ06cQFRUlHr/48ePERERIVX2RJQPbUI8sah3bXgoNLs4eSjssah3bVZgzYDT/BIRUWEg+eJ3N27cQGpqqlkWu8uOi98R6YddbSyDMkOg8Yz9OmflUnVJOzKuBa8PERFJQt/6s+S1/MqVK0udBREZmbWVDKGVSpu7GMWeIdP88noREZE5mXxFbZW//voLH330kbmyJyKyeJzml4iICguzBRVPnjzhlLJEJBllhkDMrQRsPfsQMbcSoMyQtKenJDjNLxERFRaSdX/atm1brvtv374tVdZEVMwVldmSOM0vEREVFpIN1LaysoJMJkNuyctkMiiVSimy14oDtYmKPtVsSdn/51ENYy5ss1ipzgfQPs1vYTsfIiIqXPStP0vW/cnT0xMbN25ERkaG1r/Tp09LlTURFVPKDIFJ2y9rfaqv2jZp++VC1RWK0/wSEVFhIFn3pzp16uD06dPo3Lmz1v15tWIQERmqqM6W1CbEE+HBHpzml4iILJZkQUVERARSUlJ07vf398eBAwekyp6IiqGiPFsSp/klIiJLJllQ8eabb+a638nJCU2bNpUqeyIqhjhbEhERkXmYbUpZIiJjU82WpKtTkAyZs0BxtiQiIiLjYlBBRCYl5foR1lYyRHYIBoAcgYXqdWSHYI5FICIiMjLJuj8REWVnivUjVLMlZc/HoxCuU2HJlBmCA8eJiEhNsnUqLBHXqSAyH1OvH8FKb8Hk9vkVlcUFiYgob/rWnxlUEFEOxq6QKzMEGs/Yr3O6V9XK0EfGtWDF3wLkFjQAKFKLCxIRUe70rT+btPtTiRIlcPbsWVSsWNGU2RKRAaR4Cl1U148oinS1KMUnvcLANadR0lGuc3FBGTIXFwwP9mBwSERUzJh0oHYxahQhKpRUFcrsAUB80isMWnMauy7G5Svdorx+RFGiz4rkiS/SdL4/a3BIRETFS6Gd/WnatGmQyWQYMWKEuYtCVCToU6GctP1yvmZr4voRhUNeLUr6YnBIRFT8mDSo6N27t1HGMsTGxmLJkiWoXr26EUpFRIBhXZQMxfUjCgdjBQMMDomIih+TBhWLFi1CmTJlCpTG8+fP0atXLyxduhSlSpUyUsmIzE/K9Rv0IWUXJa4fUTgUNBhgcEhEVHwVuu5PQ4YMQbt27RAWFmbuohAZza6LcWg8Yz96LD2O4evPosfS42g8Y3++xzDkh9RdlFTrR3goNN/vobDnjEEWQp8WpZKOcsjA4JCIiDQVqsXv1q9fj9OnTyM2Nlav41NTU5Gamqp+nZycLFXRiPItt9l2Bq05bbIKt6pCGZ/0Suu4CtW0rwV5Ct0mxBPhwR5cP8JIjD31r6pFadCa05ABGveBKtXpXaoBgNbFBSe2C4bCwRZbzz7ktSUiKmYKTVDx119/Yfjw4dizZw/s7fV7Ujpt2jRMmjRJ4pIR5V9eg6NNOUWnPhVKYzyFtraScdpYI5BqATp9VyTPHhw+TUnFlB1cEI+IqLgqNIvfbdmyBW+//Tasra3V25RKJWQyGaysrJCamqqxD9DeUuHj48PF78hixNxKQI+lx/M8bt2ABiariHO1ZMtnitXJDWkFMfVq6UREZDoWs/jd8+fPcerUKcTHx0Mmk8Hd3R116tSBs7OzQem0bNkSFy5c0Nj24YcfokqVKhg3blyOgAIA7OzsYGdnV6DyE0nJEtdvYBcl0zOkAm+q1i19W5QsqbWNiIjMR7KgIj09HaNHj8bSpUvx6tUr2NraQgiBtLQ02Nvb4+OPP8asWbMgl8v1Ss/FxQUhISEa25ycnFC6dOkc24kKC0tdv4FdlEzH0JYhS1ud3NLKQ0RE5iHZ7E+jR4/Gxo0bER0djSdPnuDVq1dITU3FkydPEB0djU2bNiEiIkKq7IkKBa7fIA1zT8+rr/ysYG5prVuWVh4iIjIPyVoq1q5diw0bNqBFixYa20uWLIn33nsPZcqUQffu3TFv3rx853Hw4MGCFZLIzEw1OLo4KSxjQvLbbcjSWrcsrTxERGQekrVUvHz5MteF7kqXLo2XL19KlT1RocH1G4wnP0/+zSW/K5irWrdyY8rWrXp+rijpqLsbK1vbiIiKB8laKpo3b45Ro0bhp59+gru7u8a+f/75B2PHjs3RikFUXHFwdMEVtgHD+e02ZG0lQ8canvjxjzs639OxhqfJznHv5XgkvkjTuV+ArW1ERMWBZEHFwoUL0bZtW5QrVw4hISFwd3eHTCZDfHw8Ll68iODgYOzYsUOq7IkKHQ6OLpjCNmA4v92GlBkC287l3uKy7VwcxrYJkrwirwrkclPKUY7wYA9Jy0FEROYnWfcnHx8fnDt3Dtu2bUPHjh3h6+uL8uXLo2PHjti+fTvOnDmDcuXKSZU9ERUzhW3AcH4H6ecVPAHau01JQZ+yPH2RZpKyEBGReUm6ToWVlRXeeustvPXWW1JmQ0RU6AYM53eQviUFT5ZUFiIiMi/JF79TSUxMxM8//4z79+/D19cXXbt2hUKhMFX2JCFDFu4qzIrLeRZWqif/8UmvtI6rkCFz8LslDRhWDdLPPluVRy6zVVlS8GRJZSEiIvOSLKh499130bNnT3Tp0gWXL19G06ZNIZPJULFiRdy9excTJ07E/v37ERQUJFURyAQKy/SdBVVczrMwK6zT8xo6SN+SgidLKgsREZmXZGMqDh06hGrVqgEAxowZg1atWuHBgwc4fvw4/vrrL7Rr1w4jRoyQKnsygcI0fWdBFJfzLAoK6/S8qkH6nWp6I7RS6VwDH1XwBCDHeAxTB0+WVBYiIjIvmRBCkqVmHR0dceHCBVSqVAleXl7YsWMHatWqpd5//fp11KtXD4mJiVJkr1VycjIUCgWSkpJQokQJk+VbFCkzBBrP2K9zkKbqCeWRcS0KdYWiuJxnUVMcuqpZUuuZJZWFiIiMS9/6s2Tdn6pXr479+/ejUqVK8PDwwL179zSCinv37sHBwUGq7ElihW36zvwqLudZ1BSH6XktaW0TSyoLERGZh2RBxcSJE9GnTx/I5XJ8+umnGDlyJBISEhAUFIRr164hMjIS77//vlTZk8SKy6wvxeU8qXCypODJkspCRESmJ1lQ0a5dOyxZsgQjRozA33//DSEEBgwYAACws7PDwIEDMW3aNKmyJ4kVl1lfist5FhbFoVsTERFRYSTplLLvvPMOOnfujFOnTuHOnTvIyMiAp6cn6tSpAxcXFymzJokVl1lfist5Fgbst09ERGS5JBuobYk4UNu4VLMiAdqn77Tk2XYMIdV58qm7/lTXIPt/VkXtXiMiIrI0+tafJQ8q9u/fjyNHjiAuLg7W1tbw8/NDx44dUblyZSmz1YpBhfEVl6fHxj7P4vK5GUNhmIGLASIRERVVZg8qHj16hA4dOiA2NhZWVlYQQqBWrVp4+PAhHj9+jFGjRmHmzJlSZK0TgwppFJcKlbHOk0/dDRNzKwE9lh7P87h1AxqYZaAwA0QiIirKzD6l7KeffgovLy88efIEdnZ2iIiIwLNnz/Dnn39i//796NatG7y9vTF8+HCpikAmUlxmfTHGeSozBCZtv6x1fIZAZmAxaftlhAd7FMnALD8seQYuXQGiamFEBohERFRcSLai9s6dO/H111+jZMmScHBwwIwZM7Bu3TokJyejRYsWmDdvHhYtWiRV9kQWyZB1LyiTpc7AlVeACGQGiMqMYjNsjYiIijHJggo7OzvIZP89abWysoJSqUR6ejoAoGHDhrh7965U2RNZJEt+6m6pVDNw6Wq3kSGzu5GpZ+BigEhERPQfyYKKxo0b48svv0RKSgrS0tLw2WefoWLFinB1zfzhf/z4MUqVKiVV9kQWyVKfulsyaysZIjsEA0COwEL1OrJDsMm7izFAJCIi+o9kQcXs2bNx9uxZlCxZEk5OTlixYoVGd6crV67ggw8+kCp7IotkqU/dLV2bEE8s6l0bHgrNYMtDYW+2cQsMEImIiP4j6ZSyL168wNGjR5GamooGDRqgTJkyUmWlF87+RJaguKzvIQVLmmksr6lugcwA0ZxT3RIRERWU2Wd/AgBHR0eEh4dLmQVRoaN66p59GlIPTkOaJ0uaaczaSoaONTzx4x93dB7TsYYnAwoiIioWJA0qcvPPP//gxx9/xJdffmmuIhCZTZsQT4QHe1jMU3cynDJDYNu5uFyP2XYuDmPbBElyXfPbapPX+yypNaio4GdKRMWB2YKK+Ph4TJo0iUEFFVuW9NSdDJfX7E/Af7M/Gfs661pwb2K7YJRystVZec1roT4u5Gd8/EyJqLiQLKg4f/58rvuvXbsmVdZERJIz1+xPuhbci0t6hcFrT2tsyx4w5LZQ38dN/LDkjztcyM+IuDgiERUnkgUVNWvWhEwmg7Zx4KrtWdexICIqTMwx+1NuC+5po6q8LuhZC1N2XMl1Jfelh3MGFFn3c6V3w+S1OCI/UyIqaiQLKkqXLo0ZM2agZcuWWvdfunQJHTp0kCp7IiJJqaYHjk96pbXiKEPm4HtjTA+s6pN/9ObjPLtcZaWqvH6x9SKepKTlelxu8wBmXciPXfb0Y8jiiPxMiagokCyoqFOnDv7++2/4+vpq3Z+YmKi1FYOIyBQKOnhWtSjfoDWnIYP26YGNsSiftj75hhBArgGFIbiQn/6K2uKIHGxORHmRLKj45JNPkJKSonN/+fLlER0dLVX2RFQM5Leio62iXtJBjg8bVcDQFpX1rixJPT2wrj755nL33xfmLkKhUZQWR+RgcyLSh6SL31kaLn5HVHTkt6KTV0W9pKMc07tUM6iyJMVTXH0W1zOEq5Mtnqa81tlVSyYDMvL4NeBifvpTXb+8usdZ+uep6/vCxTqJig99689WJiwTEZFRqCo62SvcqoHJuy5qXz9Cn4HOiS/Sck1DG9X0wJ1qeiO0UmmjVBL1mbJWHzJkBgNfdwpRv86+HwDaVsu7YqgaA0B5U3WPA3R/5sboHielvAabA5mDzZV5RaNEVCwwqCCiQqUgFR19K+oilzRMxRh97bNWXttWz+yq5aHQ7G7jobDHot61ER7sbrJymZIyQyDmVgK2nn2ImFsJJr2mqu5xuj5zS3/Cb8hgcyIisy1+R0SUHwWZVceQCrG2NLJ3c6rjWwqn7j2VZPCqvn3thzb3RyP/MniakoopO67kOrYjt5XcY24lGLVclsASxgLk9plbuqI22JyIpMWggogKlYJUdAytEGdNQ1sF1SrbOARjVlj1nbJ2ZHiAuoLaOsQzz8qrrpXcTTlFrilY0sJzuj5zS1eUBpsTkfTY/YmICpWCVHRUFWdD89I1hiN7T5q8xnQYIj998gsytkPf/ACYrTuRvjgWwDhU3xddd5FqvE5hCTSJSFoMKoioUClIRSdrxTkvqjQMWcXa2BVWU/fJzys/AGg8Yz96LD2O4evPosfS42g8Y79Rgihj4lgA41B9X3TdyQKWP9iciEzHJN2f/Pz84O/vj71796q3hYWF4fbt27h9+7ZeaUybNg2bNm3C1atX4eDggIYNG2LGjBkIDAyUqthEZIEKuuhcmxBPLO5dG6P+dw4vXit15tOxhqd6rIGhq1gbc6VkU/fJ15Xf3svxFtOdKC8cC0BEZHomaano27cvOnfurLHt7bffRt++ffVO49ChQxgyZAiOHz+OvXv3Ij09Ha1atcp1gT0iKpoK+gQ/PNgDJexzf6ay7VwclBki3xVPY1ZYpZiy1pD8ABSq7kQcC2AcqlY6XWSwrOtOROZlkpaKr776Kse2IUOGGJTGrl27NF5HR0fDzc0Np06dQpMmTQpSPCIqhHQ9UQcy+/zn9lT/5J0niE9OzTV9VWtDfiueRanCWpAZt8yhqA06N5fCdt2JyLxMNvvT69evcefOHVSqVAk2NgXPNikpCQDg6sofBaLiKvusOvpOIWpI95j21b1yraBmVxQrrJbQnciQVcsL2kWOMlnCdSeiwkPy7k8vXrxAv3794OjoiKpVq+L+/fsAgE8//RTTp0/PV5pCCIwaNQqNGzdGSEiIzuNSU1ORnJys8UdERZMhq2wb0j0mt1mRsiuqFVZzdyfadTHO4AHihX3hOX1Jubifua87ERUukrdUTJgwAefOncPBgwfRpk0b9fawsDBERkZi/PjxBqc5dOhQnD9/HkeOHMn1uGnTpmHSpEkGp09EhUteU4iq+n6HB3vA2kpmcPcYVQU1r3Uqsi82V1SYsztRQdabKMwLz+nDGIv75dYC9DQlNcc9nlVRbJUjovyTCSEkHWHl6+uLDRs2oEGDBnBxccG5c+dQsWJF3Lx5E7Vr1za49WDYsGHYsmUL/vjjD/j5+eV6bGpqKlJT/+s3nZycDB8fHyQlJaFEiRL5Oh8isjwxtxLQY+nxPI9bN6CBuruUqrIKaO8eo62yasoVtXPL1xwV4/x8XgWlzBBoPGO/zn79qkrtkXEtikygoC9dwZYh1yO3oASA1vSz51WUWn2ISLvk5GQoFIo868+St1Q8fvwYbm5uObanpKRAJtP/R0AIgWHDhmHz5s04ePBgngEFANjZ2cHOzs6g8hJR4ZOfvt+6Wh9ya23QtjKy6rVUFX9jPI02hvx8XgXFgcLaGdoyp01uLUAD15xGSUd5rgGFlQyY34MBBRH9R/Kgom7dutixYweGDRsGAOpAYunSpQgNDdU7nSFDhmDt2rXYunUrXFxcEB8fDwBQKBRwcHAwfsGJqNDQt0/33X81p6A2VvcYqSr+Ben6IwVTdyfiQGHtChps6bPieOKLtFzLkCGAUk62+heaiIo8yYOKadOmoU2bNrh8+TLS09Px3Xff4dKlS4iJicGhQ4f0TmfRokUAgGbNmmlsj46OxgcffGDEEhORsUndfSevPv8q3+67gUAPF42KuLbWB0NIVfHX92m0i50c/6akSlbB13btTNUqwIHC2hU02MorKDF2OYioeJA8qGjYsCGOHj2K2bNno1KlStizZw9q166NmJgYVKtWTe90JB76QUQSMUX3naxTiOZGn24hhjBGNxRd9H0a3SvqhHqbsT/X3K6dKVosuN6EdgUNtowVDBS3YI6IcmeSdSqqVauGlStXmiIrIrIgpuy+0ybEEyPCAvDtvus6j8lPH/zcWlmk7POfn4qfMT9XffrcZ+0iI8U4D643oV1Bg62CBgPFNZgjotxJvk6FtbU1Hj16lGN7QkICrK2tpc6eiMxEn37bk7ZfNuq8+hXKOOp1nL4V9rzWR9A3naM3Hxt8nvmp+Bnrc81Pn3tt64EYQ3FZb8JQ3ev66AwogNyDLVVQoisUkwEo6SiHDDnXZinOwRwR5U7ylgpd3ZZSU1Nha8tBXkRFlTlm7jFmH3x9Wln0zW/+gVvYePqhQU/y9R0nkp0xPtf89LkvaHev3IQHe8DFXo6YWwkABEIrlkGDSqWLZaVWW5e0rPSZjUufFqDpXTK7J5tyti8iKtwkCyq+//57AJmzPS1btgzOzs7qfUqlEn/88QeqVKkiVfZElE/GGlRtjpl7jNUHX9+xEocimutd8Te0a5Kq4jcwj3EiuhTkc83ve6UIFLVVog0N0KRi6vVDdAW6KiPDAjC0hb9eZdB3iuCivHggERmXZEHFt99+CyCzpWLx4sUaXZ1sbW1RoUIFLF68WKrsiSgfjDmo2hwz9xirD76+rSyn7j3VmZ+29xj6JL9NiCc+alQBy4/ezfPY7AryuRb0mhgrUDT2mBxjBgGmXj8kt0BXJfroHbxRoRQaVNSvFUefKYILOjsaERUfkgUVd+7cAQA0b94cmzZtQqlSpaTKioiMwNgVOHPN3GOMRdoMaWXpVNNba37a5OdJfniwh0FBhTE+1/x2vVIxRqBo7Jm1jBkEmGP9EH26pCW+TEOvZScMOi8GDURkLJIP1D5w4AADCiILJ8WgalWrAWD6wZ5tQjxxZFwLrBvQAN91r4l1AxrgyLgWelf0DG1lUeU3tLm/Xu8z5El+XoNqszLW55rbtcsrf08jBYqGjMnJiyoIyJ5efgaXm2MCAsCwe0aqQfNERLkxyZSyDx48wLZt23D//n28fv1aY9/cuXNNUQQiyoVUg6qN0WqQXwV5ApufVhZrKxka+ZfB/AM380zfkCf5uXXpys6Yn6uua6eaSlbqKV6NNSbH2C0e5piAADDsnpFy0HxBmHoMChGZluRBxe+//46OHTvCz88P165dQ0hICO7evQshBGrXri119kSkBykHVevTb9vS5HdshlRdvnRV8D0V9uhetzwqlHGU5HPVde32Xo6XPFA01pgcYwcB5piAADC8S5pUwU1+mXoMChGZnuRBxYQJEzB69GhMnjwZLi4u2LhxI9zc3NCrVy+0adNG6uyJSA9SD6oujP2289PKIuVibeYKzrRdO1OUxVgBmrGDAHNMQAAY1mKVlbGDm/wwxxgUIjI9yYOKK1euYN26dZmZ2djg5cuXcHZ2xuTJk9GpUycMGjRI6iIQUR7MNaja0uWn8mxoMGJIlxBLCs6kLouxAjRjBwHm/K7ourdyY+zgxlDG7n5GRJZL8qDCyckJqampAAAvLy/cunULVatWBQD8+++/UmdPRHqQ8gl7YZefynP2YKSMsx0ggH9TUhFzK0EdOBT1LiEF7UNvjDE5xg4CzP1dUd1bx28lYMja00h8mab1OEt5EGCuMShEZHqSBxUNGjTA0aNHERwcjHbt2mH06NG4cOECNm3ahAYNGkidPRHpyZyDqosiVTCy62Icxvx8Lkfg0LGGJ5b8cafIdgkxVsBU0K5WUgQB5v6uWFvJ0KhyGUx/pxoG/f/iiJb6IMBcY1CIyPRkQgjjznuXze3bt/H8+XNUr14dL168wJgxY3DkyBH4+/vj22+/ha+vr5TZa0hOToZCoUBSUhJKlChhsnyJChPO0GI8uvqS59UnXvWU+ci4FoXys8/tvAGYJWCSolXI3N8VZYbA/P03EH30rkaLhSW1dsXcSkCPpcfzPG7dgAZsqSCyUPrWnyUPKiwJgwoiMhVlhkDjGfv17vuuTWGsaOV13uYMmMwdBBiTtiCppIMcHzbyw9AW/hZzXqr7Ia/uZ4U1gCYqDvStP0u++J0umzZtQvXq1c2VPRGRpPRZATkvhbFLiDEXrTM2VZe0TjW9EVqpdKGtxOpazC/pZRrm7buOvZfjzVSynMy5CCYRmZakQcXSpUvRtWtX9OzZEydOnAAA7N+/H7Vq1ULv3r0RGhoqZfZERGZjjIDA3DP35Af70EvLXCt6F4RqDIqHQvN+9lDYF/qxQ0T0H8kGas+ePRufffYZqlevjitXrmDr1q34/PPPMXfuXAwbNgxDhgxBmTJlpMqeiMisChIQWMrMPflhrnUciovCOptSYVwEk4gMI1lQERUVhcWLF+Ojjz7CwYMH0aJFC+zfvx83b95EyZIlpcqWiMgiGLoCskph7xLCNU+kVZhbgixpnRUiMj7Juj/du3cPYWFhAIBmzZpBLpfjm2++YUBBRMVCXn3JZQA+aeIHzyLWJYR96KXFliAislSStVS8evUK9vb//adma2uLsmXLSpUdEZHF0Wc9g7FtgopclxBzr+NQlLEliIgslaSL3y1btgzOzs4AgPT0dKxYsSLHOIpPP/1UyiIQEZlVXn3Ji2qXEPahl4a5V/QmItJFsnUqKlSoAJks9//UZDIZbt++LUX2WnGdCiIiMgdjr5EhxWJ+RETacPE7LRhUEJHUitICa2QcUgUAxrrXeM8SUW4YVGjBoIKICiKvyhefHlN2qoXqsv/Qqu4aXYPyTVXR5z1LRHlhUKEFgwoiyq+8Kl/5rTxS0aXMEGg8Y7/OdSVUg6qPjGthluCU9ywR6UPf+rOkK2oTERUFqspX9sphfNIrDFpzGr+djyt0qxyT9AxZqE4lr3tt18U4o5StMK7MTUSWjUEFEVEu9Kl8Tdx60eDKIxV9hi5UZ8qKfn4CHiKi3DCoICLKhT6Vr4SU13qlZYmrHJN0DF2ozpQV/cK8MjcRWSZJ16lQycjIwM2bN/Ho0SNkZGRo7GvSpIkpikBElC/GrFRxlePixdCF6kxZ0efK3ERkbJIHFcePH0fPnj1x7949ZB8TLpPJoFQqpS4CEVG+6VupcnWS42lKGlc5JjVDF6ozZUWfK3MTkbFJ3v1p4MCBeOONN3Dx4kU8efIET58+Vf89ecK+mkRk2VSVL12TecqQOTPP151C1K+z7we4ynFx1SbEE4t614aHQjMQ8FDY55hdSd97zRgVfVXAo0o3ez4A71kiMozkU8o6OTnh3Llz8Pf3lzIbvXBKWSLzKcwLbKlm5AG0P21WVQ455z/pou/9r++9Ziy8Z4koLxazTkWLFi0wduxYtGnTRsps9MKggsg8ikLFRd9zKMzBE1kGU39feM8SUW7MGlScP39e/e9bt27hiy++QEREBKpVqwa5XK5xbPXq1Y2dvU4MKohMrygtsMXKF5kK7zUishRmDSqsrKwgk8lyDMxWZ/r/+0w9UJtBBZFp5XdFYSIiIrIM+tafJZn96c6dO1IkS0SFjCHz7odWKm26ghEREZFRSRJU+Pr6qv/9xx9/oGHDhrCx0cwqPT0dx44d0ziWiIoWLrBFRERUPEg+pWzz5s21Th2blJSE5s2bG5zewoUL4efnB3t7e9SpUweHDx82RjGJSAJcYIuIiKh4kDyoUI2dyC4hIQFOTk4GpbVhwwaMGDECn3/+Oc6cOYM333wTb731Fu7fv2+s4hKREZly3n0iIiIyH8mmlO3SpQsAYOvWrWjTpg3s7OzU+5RKJc6fP4/AwEDs2rVL7zTr16+P2rVrY9GiReptQUFB6Ny5M6ZNm5bn+zlQm8j0TD3vPhERERmPWQdqA4BCoQCQ2VLh4uICBwcH9T5bW1s0aNAAAwYM0Du9169f49SpUxg/frzG9latWuHYsWNa35OamorU1FT16+TkZENOgYiMQLWicPZ59z0K2ToVREREpJtkQUV0dDQAoEKFChgzZozBXZ2y+/fff6FUKuHu7q6x3d3dHfHx8VrfM23aNEyaNKlA+RJRwbUJ8UR4sAfn3Sej43oORESWQbKgQsXLywt///03KleubJT0so/P0DVmAwAmTJiAUaNGqV8nJyfDx8fHKOUgIsNYW8k4bSwZVVFYqZ2IqKiQfKD2nDlzUKVKFXh5eaFHjx748ccfcfXqVYPTKVOmDKytrXO0Sjx69ChH64WKnZ0dSpQoofFHRESFn2qsTvZ1UOKTXmHQmtPYdTHOTCUjIiqeJA8qrl69iocPH2LOnDlQKBT49ttvUbVqVXh4eKB79+56p2Nra4s6depg7969Gtv37t2Lhg0bGrvYRERkoZQZApO2X4a2WUZU2yZtvwxlhiTzkBARkRaSd38CAA8PD/To0QMdO3bEkSNHsH79eqxZswa//PKLQemMGjUK77//Pt544w2EhoZiyZIluH//PgYOHChRyYmIyNJwpXYiIssjeVCxc+dOHDp0CAcPHsS5c+dQtWpVNGnSBBs3bsSbb75pUFrvvfceEhISMHnyZMTFxSEkJAS//fYbV+UmIipGuFI7EZHlkTyoaNeuHcqWLYvRo0dj9+7d6qlm82vw4MEYPHiwkUpHRESFjSWu1M5ZqIiouJM8qJg7dy7++OMPzJo1C3PnzkXTpk3RrFkzNGvWDEFBQVJnT0RERYxqpfb4pFdax1XIkLkOiqlWaucsVEREEq6orc2FCxdw6NAhHDhwANu3b0fp0qURF2e6GTq4ojYRUdFgKSu1q8qR/YeUK8YTUVGhb/1Z8tmfVM6cOYN9+/Zhz5492L9/PzIyMlCuXDlTZU9EREWIaqV2D4VmFycPhb3JKvKchYqI6D+Sd39SzfiUnJyMmjVrolmzZvj444/RpEkTthYQEVG+mXulds5CRUT0H8mDioCAAAYRREQkCXOu1M5ZqIiI/iN5UDF79mypsyAiIjI5S5yFiojIXEwypuLQoUPo0KED/P39UblyZXTs2BGHDx82RdZERESSUM1CpauzlQyZs0CZahYqIiJzkjyoWLNmDcLCwuDo6IhPP/0UQ4cOhYODA1q2bIm1a9dKnT0REZEkrK1kiOwQDAA5AgvV68gOwVyvgoiKBcmnlA0KCsLHH3+MkSNHamyfO3culi5diitXrkiZvQZOKUtERMbGdSqIqCjTt/4seVBhZ2eHS5cuwd/fX2P7zZs3ERISglevTDeAjUEFERFJgStqE5kev3emoW/9WfKB2j4+Pvj9999zBBW///47fHx8pM6eiIhIcuachYqoOGILoeWRPKgYPXo0Pv30U5w9exYNGzaETCbDkSNHsGLFCnz33XdSZ09ERERERYiulezjk15h0JrTXMneTCQPKgYNGgQPDw/MmTMH//vf/wBkjrPYsGEDOnXqJHX2RERERFRE5LWSvQyZK9mHB3uwK5SJSRpUpKen45tvvsFHH32EI0eOSJkVERERERVxXMneckk6payNjQ1mzZoFpVIpZTZEREREVAxwJXvLJfk6FWFhYTh48KDU2RARERFREceV7C2X5GMq3nrrLUyYMAEXL15EnTp14OTkpLG/Y8eOUheBiIiIiIoA1Ur28UmvtI6rkAHw4Er2ZiH5OhVWVrobQ2QymUm7RnGdCiIiIqLCTTX7EwCNwEI1LJuzPxmXvvVnybs/ZWRk6PzjWAsiIiIiMkSbEE8s6l0bHgrNLk4eCnsGFGYkefcnIiIiIiJjahPiifBgD66obUEkCypevnyJ33//He3btwcATJgwAampqer91tbWmDJlCuztOZCGiIiIiAzDlewti2RBxapVq/Drr7+qg4r58+ejatWqcHBwAABcvXoVXl5eGDlypFRFICIiIiIiE5BsTMVPP/2Ejz76SGPb2rVrceDAARw4cACzZs1Sr7BNRERERESFl2RBxfXr1xEQEKB+bW9vrzETVL169XD58mWpsiciIhNSZgjE3ErA1rMPEXMrAcoMSScWJCIiCyNZ96ekpCTY2PyX/OPHjzX2Z2RkaIyxICKiwmnXxThM2n4ZcUn/rWDrqbBHZIdgzsJCRFRMSNZSUa5cOVy8eFHn/vPnz6NcuXJSZU9ERCagmi8+a0ABAPFJrzBozWnsuhhnppIREZEpSRZUtG3bFl9++SVevXqVY9/Lly8xadIktGvXTqrsiYhIYsoMgUnbL2td1Va1bdL2y+wKRURUDEi2ovY///yDmjVrwtbWFkOHDkVAQABkMhmuXr2K+fPnIz09HWfOnIG7u7sU2WvFFbWJiIwn5lYCeiw9nudx6wY04LSPRESFlL71Z8nGVLi7u+PYsWMYNGgQxo8fD1XsIpPJEB4ejoULF5o0oCAiIuN69CxnS3RBjiMiosJL0hW1/fz8sGvXLjx58gQ3b94EAPj7+8PV1VXKbImIyATcXPRbvFTf44iIqPCSNKhQcXV1Rb169UyRFRERmUg9P1d4KuwRn/RK67gKGQAPhT3q+fFBEhFRUSfZQG0iIirarK1kiOwQDCAzgMhK9TqyQzCsrbLvJSKiooZBBRER5VubEE8s6l0bHgrNLk4eCnss6l2b61QQERUTJun+RERERVebEE+EB3vg5J0nePTsFdxcMrs8sYWCiKj4YFBBREQFZm0l47SxRETFGLs/ERERERFRgRSrlgrVWhnJyclmLgkRERERkeVT1ZvzWi+7WAUVz549AwD4+PiYuSRERERERIXHs2fPoFAodO6XibzCjiIkIyMDf//9N1xcXCCTWd4AwuTkZPj4+OCvv/7KdRl0ovzg/UVS4v1FUuG9RVLi/ZU3IQSePXsGLy8vWFnpHjlRrFoqrKysUK5cOXMXI08lSpTgjU2S4f1FUuL9RVLhvUVS4v2Vu9xaKFQ4UJuIiIiIiAqEQQURERERERUIgwoLYmdnh8jISNjZ2Zm7KFQE8f4iKfH+Iqnw3iIp8f4ynmI1UJuIiIiIiIyPLRVERERERFQgDCqIiIiIiKhAGFQQEREREVGBMKiwEA8fPkTv3r1RunRpODo6ombNmjh16pS5i0VFQIUKFSCTyXL8DRkyxNxFo0IuPT0dX3zxBfz8/ODg4ICKFSti8uTJyMjIMHfRqIh49uwZRowYAV9fXzg4OKBhw4aIjY01d7GoEPrjjz/QoUMHeHl5QSaTYcuWLRr7hRD46quv4OXlBQcHBzRr1gyXLl0yT2ELKQYVFuDp06do1KgR5HI5du7cicuXL2POnDkoWbKkuYtGRUBsbCzi4uLUf3v37gUAdO3a1cwlo8JuxowZWLx4MebPn48rV65g5syZmDVrFn744QdzF42KiP79+2Pv3r1YvXo1Lly4gFatWiEsLAwPHz40d9GokElJSUGNGjUwf/58rftnzpyJuXPnYv78+YiNjYWHhwfCw8Px7NkzE5e08OLsTxZg/PjxOHr0KA4fPmzuolAxMGLECPz666+4ceMGZDKZuYtDhVj79u3h7u6OqKgo9bZ33nkHjo6OWL16tRlLRkXBy5cv4eLigq1bt6Jdu3bq7TVr1kT79u3x9ddfm7F0VJjJZDJs3rwZnTt3BpDZSuHl5YURI0Zg3LhxAIDU1FS4u7tjxowZ+OSTT8xY2sKDLRUWYNu2bXjjjTfQtWtXuLm5oVatWli6dKm5i0VF0OvXr7FmzRp89NFHDCiowBo3bozff/8d169fBwCcO3cOR44cQdu2bc1cMioK0tPToVQqYW9vr7HdwcEBR44cMVOpqCi6c+cO4uPj0apVK/U2Ozs7NG3aFMeOHTNjyQoXBhUW4Pbt21i0aBEqV66M3bt3Y+DAgfj000+xatUqcxeNipgtW7YgMTERH3zwgbmLQkXAuHHj0KNHD1SpUgVyuRy1atXCiBEj0KNHD3MXjYoAFxcXhIaGYsqUKfj777+hVCqxZs0anDhxAnFxceYuHhUh8fHxAAB3d3eN7e7u7up9lDcbcxeAgIyMDLzxxhuYOnUqAKBWrVq4dOkSFi1ahD59+pi5dFSUREVF4a233oKXl5e5i0JFwIYNG7BmzRqsXbsWVatWxdmzZzFixAh4eXmhb9++5i4eFQGrV6/GRx99BG9vb1hbW6N27dro2bMnTp8+be6iURGUvQVfCMFWfQOwpcICeHp6Ijg4WGNbUFAQ7t+/b6YSUVF079497Nu3D/379zd3UaiIiIiIwPjx49G9e3dUq1YN77//PkaOHIlp06aZu2hURFSqVAmHDh3C8+fP8ddff+HkyZNIS0uDn5+fuYtGRYiHhwcA5GiVePToUY7WC9KNQYUFaNSoEa5du6ax7fr16/D19TVTiagoio6Ohpubm8aAR6KCePHiBaysNH9GrK2tOaUsGZ2TkxM8PT3x9OlT7N69G506dTJ3kagI8fPzg4eHh3p2RCBzDOKhQ4fQsGFDM5ascGH3JwswcuRINGzYEFOnTkW3bt1w8uRJLFmyBEuWLDF30aiIyMjIQHR0NPr27QsbG37tyTg6dOiAb775BuXLl0fVqlVx5swZzJ07Fx999JG5i0ZFxO7duyGEQGBgIG7evImIiAgEBgbiww8/NHfRqJB5/vw5bt68qX59584dnD17Fq6urihfvjxGjBiBqVOnonLlyqhcuTKmTp0KR0dH9OzZ04ylLmQEWYTt27eLkJAQYWdnJ6pUqSKWLFli7iJREbJ7924BQFy7ds3cRaEiJDk5WQwfPlyUL19e2Nvbi4oVK4rPP/9cpKammrtoVERs2LBBVKxYUdja2goPDw8xZMgQkZiYaO5iUSF04MABASDHX9++fYUQQmRkZIjIyEjh4eEh7OzsRJMmTcSFCxfMW+hChutUEBERERFRgXBMBRERERERFQiDCiIiIiIiKhAGFUREREREVCAMKoiIiIiIqEAYVBARERERUYEwqCAiIiIiogJhUEFERERERAXCoIKIiIiIiAqEQQUREZnc3bt3IZPJcPbsWZ3HyGQybNmyxWRlKkw++OADdO7c2aD38PMkIikxqCAiyeSn4mMML1++RGRkJAIDA2FnZ4cyZcrg3XffxaVLlwxOq0KFCpg3b57xCwmgWbNmGDFihF7HyWQyyGQy2NnZISAgAFOnToVSqTRqeTw9PTFjxgyNbePGjYNMJsPvv/+usb1ly5bo2bOnUfPPLi4uDm+99ZakeWT18ccfw9raGuvXrzdZnipr166FtbU1Bg4caJL89AnqdLl06RLeeecdVKhQATKZTOv349mzZxgxYgR8fX3h4OCAhg0bIjY2NsdxV65cQceOHaFQKODi4oIGDRrg/v376v2pqakYNmwYypQpAycnJ3Ts2BEPHjwwuMxEJD0GFURUpKSmpiIsLAzLly/HlClTcP36dfz2229QKpWoX78+jh8/bu4i5suAAQMQFxeHa9eu4dNPP8UXX3yB2bNn5ystpVKJjIyMHNubNWuGAwcOaGw7ePAgfHx8NLa/fv0aMTExaN68eb7yf/36tV7HeXh4wM7OLl95GOrFixfYsGEDIiIiEBUVZZI8s1q+fDnGjh2L9evX48WLFybP3xAvXrxAxYoVMX36dHh4eGg9pn///ti7dy9Wr16NCxcuoFWrVggLC8PDhw/Vx9y6dQuNGzdGlSpVcPDgQZw7dw4TJ06Evb29+pgRI0Zg8+bNWL9+PY4cOYLnz5+jffv2Rg+oicgIBBGRRPr27Ss6deqkc//BgwdF3bp1ha2trfDw8BDjxo0TaWlp6v3JycmiZ8+ewtHRUXh4eIi5c+eKpk2biuHDh+tMc/r06UImk4mzZ89qbFcqleKNN94QwcHBIiMjQwghtKbVqVMn0bdvX/V+ABp/QggRHR0tFAqF2Lx5s6hcubKws7MTYWFh4v79+7me+/Dhw0XTpk3V+7OnfefOHa3npK2cYWFhokGDBkIIIVJTU0VERITw8vISjo6Ool69euLAgQPqY1Xl3b59uwgKChLW1tbi9u3bOfL58ccfhbOzs/oaJCcnC7lcLhYsWCAaNWqkPu6PP/4QAMSNGzeEEEL88ssvIjg4WNja2gpfX18xe/ZsjXR9fX3FlClTRN++fUWJEiVEnz59xJ07dwQAcebMGSFE5vXp37+/qFy5srh7964QQggAYvPmzUIIoT5+48aNolmzZsLBwUFUr15dHDt2TCOvJUuWiHLlygkHBwfRuXNnMWfOHKFQKLR+rlmtWLFCNGjQQCQmJgoHB4cc1yItLU0MGzZMKBQK4erqKsaOHSv69OmjcY0zMjLEjBkzhJ+fn7C3txfVq1cXP//8c55537lzRzg4OIjExERRv359sXLlSo396enpYuTIkeq8IyIicuTt6+srvv32W4331ahRQ0RGRqpfZ/08s997qvvSUNryffHihbC2tha//vprjvJ8/vnn6tfvvfee6N27t860ExMThVwuF+vXr1dve/jwobCyshK7du3KV3mJSDpsqSAis3j48CHatm2LunXr4ty5c1i0aBGioqLw9ddfq48ZNWoUjh49im3btmHv3r04fPgwTp8+nWu6a9euRXh4OGrUqKGx3crKCiNHjsTly5dx7tw5vcq4adMmlCtXDpMnT0ZcXBzi4uLU+168eIFvvvkGK1euxNGjR5GcnIzu3bvrff7fffcdQkND1S0QcXFx8PHx0fv9Dg4OSEtLAwB8+OGHOHr0KNavX4/z58+ja9euaNOmDW7cuKFR3mnTpmHZsmW4dOkS3NzccqTZvHlzPH/+XN1N5fDhwwgICMC7776L2NhY9RP0AwcOoFy5cvD398epU6fQrVs3dO/eHRcuXMBXX32FiRMnYsWKFRppz5o1CyEhITh16hQmTpyose/169fo1q0b/vzzTxw5cgS+vr46z/vzzz/HmDFjcPbsWQQEBKBHjx5IT08HABw9ehQDBw7E8OHDcfbsWYSHh+Obb77R6/OMiopC7969oVAo0LZtW0RHR2vsnzFjBn766SdER0err3f28QlffPEFoqOjsWjRIly6dAkjR45E7969cejQoVzzXr58Odq1aweFQoHevXvnaCmZM2cOli9fjqioKBw5cgRPnjzB5s2b9TovXU6ePAkA2LdvH+Li4rBp0yYAmS1TMpkMd+/ezXfa6enpUCqVGi0OQOY9e+TIEQBARkYGduzYgYCAALRu3Rpubm6oX7++xmd66tQppKWloVWrVuptXl5eCAkJwbFjx/JdPiKSiLmjGiIqunJrqfjss89EYGCgutVACCEWLFggnJ2dhVKpVD8lz/qkNzExUTg6OubaUmFvb69z/+nTpwUABOp1VAAAC9lJREFUsWHDBiFE3i0VQmh/EhsdHS0AiOPHj6u3XblyRQAQJ06c0HnuWVsqdOWvTdbjlEql2Llzp7C1tRVjx44VN2/eFDKZTDx8+FDjPS1bthQTJkzQKG/21httvL29xdSpU4UQQkRERIjBgwcLIYSoUqWK2LNnjxBCiObNm4v3339fCCFEz549RXh4uEYaERERIjg4WP3a19dXdO7cWeMYVcvD4cOHRVhYmGjUqJFITEzUOAZaWiqWLVum3n/p0iUBQFy5ckUIkfnku127dhpp9OrVK8+WiuvXrwu5XC4eP34shBBi8+bNwsfHRyiVSvUx7u7uYtasWerX6enponz58upr/Pz5c2Fvb5+j5aRfv36iR48eOvNWKpXCx8dHbNmyRQghxOPHj4VcLle3AgkhhKenp5g+fbr6dVpamihXrlyBWiqytxSpnDhxQgQGBooHDx7oLHNW2vIVQojQ0FDRtGlT8fDhQ5Geni5Wr14tZDKZCAgIEEIIERcXJwAIR0dHMXfuXHHmzBkxbdo0IZPJxMGDB4UQQvz000/C1tY2R9rh4eHi448/1qt8RGQ6bKkgIrO4cuUKQkNDIZPJ1NsaNWqE58+f48GDB7h9+zbS0tJQr1499X6FQoHAwMB85ymEAACNPPPLxsYGb7zxhvp1lSpVULJkSVy5cqXAaWuzcOFCODs7w97eHh07dkTv3r0RGRmJ06dPQwiBgIAAODs7q/8OHTqEW7duqd9va2uL6tWr55lPs2bNcPDgQQCZT62bNWsGAGjatCkOHjyI1NRUHD9+HC1atACQeR0bNWqkkUajRo1w48YNjX7vWT+rrHr06IHnz59jz549UCgUeZYv6zl4enoCAB49egQAuHbtmsb9AiDHa22ioqLQunVrlClTBgDQtm1bpKSkYN++fQCApKQk/PPPPxppWVtbo06dOurXly9fxqtXrxAeHq5xHVatWqVxHbLbs2cPUlJS1APSy5Qpg1atWmH58uXqvOPi4hAaGqp+T/Z7z5jq1auHq1evwtvbu0DprF69GkIIeHt7w87ODt9//z169uwJa2trAFCP6enUqRNGjhyJmjVrYvz48Wjfvj0WL16ca9pCCKN8h4nIuGzMXQAiKp60VQyyVvp1BQCq7boEBATg8uXLWvddvXoVAFC5cmUAmV2isqen6lKkD20VG9W2gqadXa9evfD555/Dzs4OXl5eGpUza2trnDp1Sr1NxdnZWf1vBwcHvSpizZs3x/Dhw5GQkIAzZ86gSZMmADKDih9++AGtWrXCy5cv1YO0c7uOWTk5OWnNr23btlizZo1GoJIbuVyu/rcqX1UFVd+yZKVUKrFq1SrEx8fDxsZGY3tUVJRG15vc0laVYceOHTkq5LkNNl++fDmePHkCR0dHjbTOnDmDKVOm5Fr2rIx9vxVUpUqVcOjQIaSkpCA5ORmenp5477334OfnByAzeLKxsUFwcLDG+4KCgtRdpDw8PPD69Ws8ffoUpUqVUh/z6NEjNGzY0HQnQ0R6YUsFEZlFcHAwjh07plEROnbsGFxcXODt7Y1KlSpBLper+34DQHJyssY4AW26d++Offv25Rg3kZGRgW+//RbBwcHq8RZly5bVGCehVCpx8eJFjffZ2tpqnWkmPT0df/75p/r1tWvXkJiYiCpVqmhNG0CO6Tt1pa2NQqGAv78/fHx8NIKHWrVqQalU4tGjR/D399f40zUzT26aN2+OlJQUzJ07F5UrV4a7uzuAzKDizz//xI4dO+Dn56ce9xAcHKyuBKocO3YMAQEBOYIcbQYNGoTp06ejY8eOeY49yEuVKlU07hcAGtdIm99++w3Pnj3DmTNncPbsWfXfzz//jC1btiAhIQEKhQLu7u4aaSuVSpw5c0b9Ojg4GHZ2drh//36O66BrrExCQgK2bt2K9evXa+R99uxZPH/+HDt37oRCoYCnp6fGrGXp6ek4deqURlrZ77fk5GTcuXNH53nb2tqqz0NKTk5O8PT0xNOnT7F792506tRJnX/dunVx7do1jeOvX7+uvrfq1KkDuVyOvXv3qvfHxcXh4sWLDCqILBBbKohIUklJSTkq066urhg8eDDmzZuHYcOGYejQobh27RoiIyMxatQoWFlZwcXFBX379kVERARcXV3h5uaGyMhIWFlZ5frEfeTIkdi6dSs6dOiAOXPmoH79+vjnn38wdepUXLlyBfv27VO/v0WLFhg1ahR27NiBSpUq4dtvv0ViYqJGehUqVMAff/yB7t27q9e8ADKfmA8bNgzff/895HI5hg4digYNGqi7yLRo0QKzZs3CqlWrEBoaijVr1uDixYuoVauWRtonTpzA3bt34ezsDFdXV1hZGfasJyAgAL169UKfPn0wZ84c1KpVC//++y/279+PatWqoW3btgalV7FiRZQvXx4//PADevXqpd7u5eUFX19fLF68GF27dlVvHz16NOrWrYspU6bgvffeQ0xMDObPn4+FCxfqneewYcOgVCrRvn177Ny5E40bNzaozFnTadKkCebOnYsOHTpg//792LlzZ673S1RUFNq1a5djYH/VqlUxYsQIrFmzBsOHD8ewYcMwbdo0+Pv7o0qVKvjhhx/w9OlTddouLi4YM2YMRo4ciYyMDDRu3BjJyck4duwYnJ2d0bdv3xx5r169GqVLl0bXrl1zXPf27dsjKioK7du3x/DhwzF9+nRUrlwZQUFBmDt3bo77tEWLFlixYgU6dOiAUqVKYeLEibkGdW5ubnBwcMCuXbtQrlw52NvbQ6FQ4OTJk+jTpw9+//13nV2gXr9+rW4NfP36NR4+fIizZ8/C2dkZ/v7+AIDdu3dDCIHAwEDcvHkTERERCAwMxIcffqhOJyIiAu+99x6aNGmC5s2bY9euXdi+fbu6+51CoUC/fv0wevRolC5dGq6urhgzZgyqVauGsLAwnedGRGZi6kEcRFR8aJs2FYB6IHR+ppStV6+eGD9+fK75pqSkiC+++EL4+/sLuVwuXF1dxTvvvCMuXLigcdzr16/FoEGDhKurq3BzcxPTpk3LMVA7JiZGVK9eXdjZ2eWYUnbjxo2iYsWKwtbWVrRo0UI9FarKl19+Kdzd3YVCoRAjR44UQ4cO1Riofe3aNdGgQQPh4OBg8JSy2c/jyy+/FBUqVBByuVx4eHiIt99+W5w/f16jvPpSXbesU3kKkTnoGIBYvXq1xnbVlLJyuVyUL19eY0CzENoH82obKDxnzhzh4uIijh49KoTIe2Dx06dPBQCN6XOXLFkivL291VPKfv3118LDw0PrecbHxwsbGxvxv//9T+v+YcOGiWrVqgkhMgdHDx06VJQoUUKUKlVKjBs3TnTt2lV0795dfXxGRob47rvvRGBgoJDL5aJs2bKidevW4tChQ1rTr1atmnogfHYbN24UNjY2Ij4+XqSlpYnhw4eLEiVKiJIlS4pRo0blmFI2KSlJdOvWTZQoUUL4+PiIFStW5DpQWwghli5dKnx8fISVlZX6vjxw4ECu96IQ/12L7H9Z7+0NGzaovxseHh5iyJAhOQbiCyFEVFSU8Pf3F/b29qJGjRrqAesqL1++FEOHDhWurq7CwcFBtG/fXmPqZiKyHDIh8uhwSkRkIVJSUuDt7Y05c+agX79+ZivHihUrMGLEiBxPi8nyDBgwAFevXsXhw4eNmm5GRgaCgoLQrVs3g8Y+EBEVVez+REQW68yZM7h69Srq1auHpKQkTJ48GQDU/bKJsps9ezbCw8Ph5OSEnTt3YuXKlQZ1xdLl3r172LNnD5o2bYrU1FTMnz8fd+7cQc+ePY1QaiKiwo9BBRFZtNmzZ+PatWuwtbVFnTp1cPjwYfW4BqLsTp48iZkzZ+LZs2eoWLEivv/+e/Tv37/A6VpZWWHFihUYM2YMhBAICQnBvn37EBQUZIRSExEVfuz+REREREREBcIpZYmIiIiIqEAYVBARERERUYEwqCAiIiIiogJhUEFERERERAXCoIKIiIiIiAqEQQURERERERUIgwoiIiIiIioQBhVERERERFQgDCqIiIiIiKhA/g/9DMfOGGhnHAAAAABJRU5ErkJggg==",
      "text/plain": [
       "<Figure size 800x800 with 3 Axes>"
      ]
     },
     "metadata": {},
     "output_type": "display_data"
    }
   ],
   "source": [
    "# Figure 1\n",
    "\n",
    "def residuals(dependent, independent):\n",
    "    model = sm.OLS(dependent, independent).fit()\n",
    "    return model.resid\n",
    "\n",
    "res_c = residuals(df2['log_Y60'], df2[['log_s', 'log_ngd']])\n",
    "res_p2 = residuals(df2['log_diff'], df2[['log_s', 'log_ngd']])\n",
    "res_h = residuals(df2['log_Y60'], df2[['log_s', 'log_ngd', 'log_school']])\n",
    "res_p3 = residuals(df2['log_diff'], df2[['log_s', 'log_ngd', 'log_school']])\n",
    "\n",
    "fig, axs = plt.subplots(3, 1, figsize=(8, 8), sharex='col')\n",
    "\n",
    "# Plot 1\n",
    "axs[0].scatter(df2['log_Y60'], (df2['log_diff']) * 100 / 25)\n",
    "axs[0].set_xlabel('Log Output Per Working Age Adult: 1960')\n",
    "axs[0].set_ylabel('Growth Rate: 1960 - 1985')\n",
    "axs[0].set_title('A: Unconditional')\n",
    "\n",
    "# Plot 2\n",
    "axs[1].scatter(res_c + np.mean(df2['log_Y60']),\n",
    "               (res_p2 + np.mean(df2['log_diff'])) * 100 / 25)\n",
    "axs[1].set_xlabel('Log Output Per Working Age Adult: 1960')\n",
    "axs[1].set_ylabel('Growth Rate: 1960 - 1985')\n",
    "axs[1].set_title('B: Conditional on Saving and Population Growth')\n",
    "\n",
    "# Plot 3\n",
    "axs[2].scatter(res_h + np.mean(df2['log_Y60']),\n",
    "               (res_p3 + np.mean(df2['log_diff'])) * 100 / 25)\n",
    "axs[2].set_xlabel('Log Output Per Working Age Adult: 1960')\n",
    "axs[2].set_ylabel('Growth Rate: 1960 - 1985')\n",
    "axs[2].set_title('C: Conditional on Saving, Population Growth and Human Capital')\n",
    "\n",
    "plt.tight_layout()\n",
    "plt.show()"
   ]
  },
  {
   "cell_type": "markdown",
   "id": "de7b7e0c-fe01-4864-b32f-c649b467cd1d",
   "metadata": {},
   "source": [
    "### Figure 1\n",
    "The scatter plots are based on the sample of intermediate countries. In panel A, the average annual growth rate of income per unit of effective labour in the period 1960-1985 is plotted against the log of income per unit effective labour in the initial period i.e. the 1960. There is no discernable pattern of growth for the intermediate countries based on this plot. In panel B, the growth rate and the initial income are controlled for the saving rate and population growth rate. This presents a relatively more clear pattern of growth for the intermediate countries. Finally, the panel C includes the human capital measure in conjunction with the previously added saving rate and population growth rate. The patter of growth in the intermediate countries is now yet more visible. "
   ]
  },
  {
   "cell_type": "markdown",
   "id": "ad2eec9b-c819-4416-a358-86a7314596e8",
   "metadata": {},
   "source": [
    "A note of caution on the results in this paper: a careful glance at the various specifications of the models under consideration would reveal that any strong conclusions of causality should be tempered. Perhaps it emblematic of the nature of such macroeconomic models, but the assumption of exogeneity of several variables of interest does not necessarily hold. It is therefore a difficult task to pass a verdict on the legitimacy of the Solow model using these results, favourable or otherwise. "
   ]
  },
 ],
 "metadata": {
  "kernelspec": {
   "display_name": "Python 3 (ipykernel)",
   "language": "python",
   "name": "python3"
  },
  "language_info": {
   "codemirror_mode": {
    "name": "ipython",
    "version": 3
   },
   "file_extension": ".py",
   "mimetype": "text/x-python",
   "name": "python",
   "nbconvert_exporter": "python",
   "pygments_lexer": "ipython3",
   "version": "3.11.7"
  }
 },
 "nbformat": 4,
 "nbformat_minor": 5
}
